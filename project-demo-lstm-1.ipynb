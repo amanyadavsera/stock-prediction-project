{
 "cells": [
  {
   "cell_type": "code",
   "execution_count": null,
   "metadata": {
    "id": "fJQku_XnfMvn"
   },
   "outputs": [],
   "source": [
    "# Description: this program uses an artificial recurrent neural network called Long Short Term Memory (LSTM) to predict the\n",
    "#              the closing stock price of a corporation using the past 60 days stock price"
   ]
  },
  {
   "cell_type": "markdown",
   "metadata": {
    "id": "mvH5LDvlh1Rf"
   },
   "source": [
    "## importing the necessary libraries\n",
    "\n"
   ]
  },
  {
   "cell_type": "code",
   "execution_count": 1,
   "metadata": {
    "id": "UWAk-fFTf5l3"
   },
   "outputs": [],
   "source": [
    "import math\n",
    "import pandas_datareader as web\n",
    "import numpy as np\n",
    "import pandas as pd\n",
    "from sklearn.preprocessing import MinMaxScaler\n",
    "from keras.models import Sequential\n",
    "from keras.layers import Dense\n",
    "from keras.layers import LSTM\n",
    "import matplotlib.pyplot as plt\n",
    "plt.style.use('fivethirtyeight')"
   ]
  },
  {
   "cell_type": "markdown",
   "metadata": {
    "id": "wZKsjpB5i0-Y"
   },
   "source": [
    "## Downloading the stock data using the open-source python library yfinance"
   ]
  },
  {
   "cell_type": "code",
   "execution_count": 2,
   "metadata": {
    "colab": {
     "base_uri": "https://localhost:8080/"
    },
    "executionInfo": {
     "elapsed": 3880,
     "status": "ok",
     "timestamp": 1666374734116,
     "user": {
      "displayName": "Reekdev Ray",
      "userId": "06160052425232836642"
     },
     "user_tz": -330
    },
    "id": "bmghZK5mjDmv",
    "outputId": "81cf3bc2-91a0-46a8-e81b-90b902f5141f"
   },
   "outputs": [],
   "source": [
    "\n",
    "import yfinance as yf"
   ]
  },
  {
   "cell_type": "code",
   "execution_count": 14,
   "metadata": {},
   "outputs": [],
   "source": [
    "import datetime as dt\n",
    "startDate = dt.date(1960, 1, 1)\n",
    "endDate = dt.date(2022, 1, 1)"
   ]
  },
  {
   "cell_type": "code",
   "execution_count": 34,
   "metadata": {
    "colab": {
     "base_uri": "https://localhost:8080/"
    },
    "executionInfo": {
     "elapsed": 31,
     "status": "ok",
     "timestamp": 1666374734116,
     "user": {
      "displayName": "Reekdev Ray",
      "userId": "06160052425232836642"
     },
     "user_tz": -330
    },
    "id": "Cp9_rQCKkEOh",
    "outputId": "d8919552-a1dd-47ea-9b22-effc2ff48ea1"
   },
   "outputs": [
    {
     "name": "stdout",
     "output_type": "stream",
     "text": [
      "[*********************100%***********************]  1 of 1 completed\n"
     ]
    }
   ],
   "source": [
    "rawStockData = yf.download('AMZN', start=startDate, end=endDate)\n"
   ]
  },
  {
   "cell_type": "code",
   "execution_count": 35,
   "metadata": {},
   "outputs": [
    {
     "data": {
      "text/html": [
       "<div>\n",
       "<style scoped>\n",
       "    .dataframe tbody tr th:only-of-type {\n",
       "        vertical-align: middle;\n",
       "    }\n",
       "\n",
       "    .dataframe tbody tr th {\n",
       "        vertical-align: top;\n",
       "    }\n",
       "\n",
       "    .dataframe thead th {\n",
       "        text-align: right;\n",
       "    }\n",
       "</style>\n",
       "<table border=\"1\" class=\"dataframe\">\n",
       "  <thead>\n",
       "    <tr style=\"text-align: right;\">\n",
       "      <th></th>\n",
       "      <th>Open</th>\n",
       "      <th>High</th>\n",
       "      <th>Low</th>\n",
       "      <th>Close</th>\n",
       "      <th>Adj Close</th>\n",
       "      <th>Volume</th>\n",
       "    </tr>\n",
       "    <tr>\n",
       "      <th>Date</th>\n",
       "      <th></th>\n",
       "      <th></th>\n",
       "      <th></th>\n",
       "      <th></th>\n",
       "      <th></th>\n",
       "      <th></th>\n",
       "    </tr>\n",
       "  </thead>\n",
       "  <tbody>\n",
       "    <tr>\n",
       "      <th>1997-05-15</th>\n",
       "      <td>0.121875</td>\n",
       "      <td>0.125000</td>\n",
       "      <td>0.096354</td>\n",
       "      <td>0.097917</td>\n",
       "      <td>0.097917</td>\n",
       "      <td>1443120000</td>\n",
       "    </tr>\n",
       "    <tr>\n",
       "      <th>1997-05-16</th>\n",
       "      <td>0.098438</td>\n",
       "      <td>0.098958</td>\n",
       "      <td>0.085417</td>\n",
       "      <td>0.086458</td>\n",
       "      <td>0.086458</td>\n",
       "      <td>294000000</td>\n",
       "    </tr>\n",
       "    <tr>\n",
       "      <th>1997-05-19</th>\n",
       "      <td>0.088021</td>\n",
       "      <td>0.088542</td>\n",
       "      <td>0.081250</td>\n",
       "      <td>0.085417</td>\n",
       "      <td>0.085417</td>\n",
       "      <td>122136000</td>\n",
       "    </tr>\n",
       "    <tr>\n",
       "      <th>1997-05-20</th>\n",
       "      <td>0.086458</td>\n",
       "      <td>0.087500</td>\n",
       "      <td>0.081771</td>\n",
       "      <td>0.081771</td>\n",
       "      <td>0.081771</td>\n",
       "      <td>109344000</td>\n",
       "    </tr>\n",
       "    <tr>\n",
       "      <th>1997-05-21</th>\n",
       "      <td>0.081771</td>\n",
       "      <td>0.082292</td>\n",
       "      <td>0.068750</td>\n",
       "      <td>0.071354</td>\n",
       "      <td>0.071354</td>\n",
       "      <td>377064000</td>\n",
       "    </tr>\n",
       "    <tr>\n",
       "      <th>...</th>\n",
       "      <td>...</td>\n",
       "      <td>...</td>\n",
       "      <td>...</td>\n",
       "      <td>...</td>\n",
       "      <td>...</td>\n",
       "      <td>...</td>\n",
       "    </tr>\n",
       "    <tr>\n",
       "      <th>2021-12-27</th>\n",
       "      <td>171.037003</td>\n",
       "      <td>172.942993</td>\n",
       "      <td>169.215500</td>\n",
       "      <td>169.669495</td>\n",
       "      <td>169.669495</td>\n",
       "      <td>58688000</td>\n",
       "    </tr>\n",
       "    <tr>\n",
       "      <th>2021-12-28</th>\n",
       "      <td>170.182495</td>\n",
       "      <td>172.175995</td>\n",
       "      <td>169.135498</td>\n",
       "      <td>170.660995</td>\n",
       "      <td>170.660995</td>\n",
       "      <td>54638000</td>\n",
       "    </tr>\n",
       "    <tr>\n",
       "      <th>2021-12-29</th>\n",
       "      <td>170.839996</td>\n",
       "      <td>171.212006</td>\n",
       "      <td>168.600494</td>\n",
       "      <td>169.201004</td>\n",
       "      <td>169.201004</td>\n",
       "      <td>35754000</td>\n",
       "    </tr>\n",
       "    <tr>\n",
       "      <th>2021-12-30</th>\n",
       "      <td>169.699997</td>\n",
       "      <td>170.888000</td>\n",
       "      <td>168.524002</td>\n",
       "      <td>168.644501</td>\n",
       "      <td>168.644501</td>\n",
       "      <td>37584000</td>\n",
       "    </tr>\n",
       "    <tr>\n",
       "      <th>2021-12-31</th>\n",
       "      <td>168.955994</td>\n",
       "      <td>169.350006</td>\n",
       "      <td>166.558502</td>\n",
       "      <td>166.716995</td>\n",
       "      <td>166.716995</td>\n",
       "      <td>47830000</td>\n",
       "    </tr>\n",
       "  </tbody>\n",
       "</table>\n",
       "<p>6200 rows × 6 columns</p>\n",
       "</div>"
      ],
      "text/plain": [
       "                  Open        High         Low       Close   Adj Close  \\\n",
       "Date                                                                     \n",
       "1997-05-15    0.121875    0.125000    0.096354    0.097917    0.097917   \n",
       "1997-05-16    0.098438    0.098958    0.085417    0.086458    0.086458   \n",
       "1997-05-19    0.088021    0.088542    0.081250    0.085417    0.085417   \n",
       "1997-05-20    0.086458    0.087500    0.081771    0.081771    0.081771   \n",
       "1997-05-21    0.081771    0.082292    0.068750    0.071354    0.071354   \n",
       "...                ...         ...         ...         ...         ...   \n",
       "2021-12-27  171.037003  172.942993  169.215500  169.669495  169.669495   \n",
       "2021-12-28  170.182495  172.175995  169.135498  170.660995  170.660995   \n",
       "2021-12-29  170.839996  171.212006  168.600494  169.201004  169.201004   \n",
       "2021-12-30  169.699997  170.888000  168.524002  168.644501  168.644501   \n",
       "2021-12-31  168.955994  169.350006  166.558502  166.716995  166.716995   \n",
       "\n",
       "                Volume  \n",
       "Date                    \n",
       "1997-05-15  1443120000  \n",
       "1997-05-16   294000000  \n",
       "1997-05-19   122136000  \n",
       "1997-05-20   109344000  \n",
       "1997-05-21   377064000  \n",
       "...                ...  \n",
       "2021-12-27    58688000  \n",
       "2021-12-28    54638000  \n",
       "2021-12-29    35754000  \n",
       "2021-12-30    37584000  \n",
       "2021-12-31    47830000  \n",
       "\n",
       "[6200 rows x 6 columns]"
      ]
     },
     "execution_count": 35,
     "metadata": {},
     "output_type": "execute_result"
    }
   ],
   "source": [
    "rawStockData"
   ]
  },
  {
   "cell_type": "code",
   "execution_count": 20,
   "metadata": {
    "colab": {
     "base_uri": "https://localhost:8080/",
     "height": 455
    },
    "executionInfo": {
     "elapsed": 28,
     "status": "ok",
     "timestamp": 1666374734118,
     "user": {
      "displayName": "Reekdev Ray",
      "userId": "06160052425232836642"
     },
     "user_tz": -330
    },
    "id": "9IHjj1MglM36",
    "outputId": "8d48b633-62c2-46fa-ff68-9d5b49b5cb93"
   },
   "outputs": [
    {
     "ename": "KeyError",
     "evalue": "'Date'",
     "output_type": "error",
     "traceback": [
      "\u001b[1;31m---------------------------------------------------------------------------\u001b[0m",
      "\u001b[1;31mKeyError\u001b[0m                                  Traceback (most recent call last)",
      "File \u001b[1;32m~\\AppData\\Roaming\\Python\\Python310\\site-packages\\pandas\\core\\indexes\\base.py:3803\u001b[0m, in \u001b[0;36mIndex.get_loc\u001b[1;34m(self, key, method, tolerance)\u001b[0m\n\u001b[0;32m   3802\u001b[0m \u001b[38;5;28;01mtry\u001b[39;00m:\n\u001b[1;32m-> 3803\u001b[0m     \u001b[38;5;28;01mreturn\u001b[39;00m \u001b[38;5;28;43mself\u001b[39;49m\u001b[38;5;241;43m.\u001b[39;49m\u001b[43m_engine\u001b[49m\u001b[38;5;241;43m.\u001b[39;49m\u001b[43mget_loc\u001b[49m\u001b[43m(\u001b[49m\u001b[43mcasted_key\u001b[49m\u001b[43m)\u001b[49m\n\u001b[0;32m   3804\u001b[0m \u001b[38;5;28;01mexcept\u001b[39;00m \u001b[38;5;167;01mKeyError\u001b[39;00m \u001b[38;5;28;01mas\u001b[39;00m err:\n",
      "File \u001b[1;32m~\\AppData\\Roaming\\Python\\Python310\\site-packages\\pandas\\_libs\\index.pyx:138\u001b[0m, in \u001b[0;36mpandas._libs.index.IndexEngine.get_loc\u001b[1;34m()\u001b[0m\n",
      "File \u001b[1;32m~\\AppData\\Roaming\\Python\\Python310\\site-packages\\pandas\\_libs\\index.pyx:165\u001b[0m, in \u001b[0;36mpandas._libs.index.IndexEngine.get_loc\u001b[1;34m()\u001b[0m\n",
      "File \u001b[1;32mpandas\\_libs\\hashtable_class_helper.pxi:5745\u001b[0m, in \u001b[0;36mpandas._libs.hashtable.PyObjectHashTable.get_item\u001b[1;34m()\u001b[0m\n",
      "File \u001b[1;32mpandas\\_libs\\hashtable_class_helper.pxi:5753\u001b[0m, in \u001b[0;36mpandas._libs.hashtable.PyObjectHashTable.get_item\u001b[1;34m()\u001b[0m\n",
      "\u001b[1;31mKeyError\u001b[0m: 'Date'",
      "\nThe above exception was the direct cause of the following exception:\n",
      "\u001b[1;31mKeyError\u001b[0m                                  Traceback (most recent call last)",
      "Input \u001b[1;32mIn [20]\u001b[0m, in \u001b[0;36m<cell line: 1>\u001b[1;34m()\u001b[0m\n\u001b[1;32m----> 1\u001b[0m rawStockData[\u001b[38;5;124m'\u001b[39m\u001b[38;5;124mDate\u001b[39m\u001b[38;5;124m'\u001b[39m] \u001b[38;5;241m=\u001b[39m\u001b[43mrawStockData\u001b[49m\u001b[43m[\u001b[49m\u001b[38;5;124;43m'\u001b[39;49m\u001b[38;5;124;43mDate\u001b[39;49m\u001b[38;5;124;43m'\u001b[39;49m\u001b[43m]\u001b[49m\u001b[38;5;241m.\u001b[39mdt\u001b[38;5;241m.\u001b[39mnormalize()\n",
      "File \u001b[1;32m~\\AppData\\Roaming\\Python\\Python310\\site-packages\\pandas\\core\\frame.py:3804\u001b[0m, in \u001b[0;36mDataFrame.__getitem__\u001b[1;34m(self, key)\u001b[0m\n\u001b[0;32m   3802\u001b[0m \u001b[38;5;28;01mif\u001b[39;00m \u001b[38;5;28mself\u001b[39m\u001b[38;5;241m.\u001b[39mcolumns\u001b[38;5;241m.\u001b[39mnlevels \u001b[38;5;241m>\u001b[39m \u001b[38;5;241m1\u001b[39m:\n\u001b[0;32m   3803\u001b[0m     \u001b[38;5;28;01mreturn\u001b[39;00m \u001b[38;5;28mself\u001b[39m\u001b[38;5;241m.\u001b[39m_getitem_multilevel(key)\n\u001b[1;32m-> 3804\u001b[0m indexer \u001b[38;5;241m=\u001b[39m \u001b[38;5;28;43mself\u001b[39;49m\u001b[38;5;241;43m.\u001b[39;49m\u001b[43mcolumns\u001b[49m\u001b[38;5;241;43m.\u001b[39;49m\u001b[43mget_loc\u001b[49m\u001b[43m(\u001b[49m\u001b[43mkey\u001b[49m\u001b[43m)\u001b[49m\n\u001b[0;32m   3805\u001b[0m \u001b[38;5;28;01mif\u001b[39;00m is_integer(indexer):\n\u001b[0;32m   3806\u001b[0m     indexer \u001b[38;5;241m=\u001b[39m [indexer]\n",
      "File \u001b[1;32m~\\AppData\\Roaming\\Python\\Python310\\site-packages\\pandas\\core\\indexes\\base.py:3805\u001b[0m, in \u001b[0;36mIndex.get_loc\u001b[1;34m(self, key, method, tolerance)\u001b[0m\n\u001b[0;32m   3803\u001b[0m     \u001b[38;5;28;01mreturn\u001b[39;00m \u001b[38;5;28mself\u001b[39m\u001b[38;5;241m.\u001b[39m_engine\u001b[38;5;241m.\u001b[39mget_loc(casted_key)\n\u001b[0;32m   3804\u001b[0m \u001b[38;5;28;01mexcept\u001b[39;00m \u001b[38;5;167;01mKeyError\u001b[39;00m \u001b[38;5;28;01mas\u001b[39;00m err:\n\u001b[1;32m-> 3805\u001b[0m     \u001b[38;5;28;01mraise\u001b[39;00m \u001b[38;5;167;01mKeyError\u001b[39;00m(key) \u001b[38;5;28;01mfrom\u001b[39;00m \u001b[38;5;21;01merr\u001b[39;00m\n\u001b[0;32m   3806\u001b[0m \u001b[38;5;28;01mexcept\u001b[39;00m \u001b[38;5;167;01mTypeError\u001b[39;00m:\n\u001b[0;32m   3807\u001b[0m     \u001b[38;5;66;03m# If we have a listlike key, _check_indexing_error will raise\u001b[39;00m\n\u001b[0;32m   3808\u001b[0m     \u001b[38;5;66;03m#  InvalidIndexError. Otherwise we fall through and re-raise\u001b[39;00m\n\u001b[0;32m   3809\u001b[0m     \u001b[38;5;66;03m#  the TypeError.\u001b[39;00m\n\u001b[0;32m   3810\u001b[0m     \u001b[38;5;28mself\u001b[39m\u001b[38;5;241m.\u001b[39m_check_indexing_error(key)\n",
      "\u001b[1;31mKeyError\u001b[0m: 'Date'"
     ]
    }
   ],
   "source": [
    "rawStockData['Date'] =rawStockData['Date'].dt.normalize()"
   ]
  },
  {
   "cell_type": "code",
   "execution_count": null,
   "metadata": {
    "colab": {
     "base_uri": "https://localhost:8080/"
    },
    "executionInfo": {
     "elapsed": 29,
     "status": "ok",
     "timestamp": 1666374734122,
     "user": {
      "displayName": "Reekdev Ray",
      "userId": "06160052425232836642"
     },
     "user_tz": -330
    },
    "id": "jxI4sT3blThQ",
    "outputId": "04f01531-4426-48d8-bc80-9f86518d5c83"
   },
   "outputs": [
    {
     "data": {
      "text/plain": [
       "(6402, 6)"
      ]
     },
     "execution_count": 79,
     "metadata": {},
     "output_type": "execute_result"
    }
   ],
   "source": [
    "stockdata.shape"
   ]
  },
  {
   "cell_type": "markdown",
   "metadata": {
    "id": "dxhON2_ppK9r"
   },
   "source": [
    "## **Visualizing the data (closing price)**"
   ]
  },
  {
   "cell_type": "code",
   "execution_count": null,
   "metadata": {
    "colab": {
     "base_uri": "https://localhost:8080/",
     "height": 558
    },
    "executionInfo": {
     "elapsed": 1488,
     "status": "ok",
     "timestamp": 1666374735584,
     "user": {
      "displayName": "Reekdev Ray",
      "userId": "06160052425232836642"
     },
     "user_tz": -330
    },
    "id": "wCVxHnHMlfjU",
    "outputId": "a645af3e-92a6-49be-db5a-ff77f14703ab"
   },
   "outputs": [
    {
     "data": {
      "image/png": "[encoded data removed]",
      "text/plain": [
       "<Figure size 1152x576 with 1 Axes>"
      ]
     },
     "metadata": {},
     "output_type": "display_data"
    }
   ],
   "source": [
    "plt.figure(figsize=(16, 8))\n",
    "plt.title('closing price history')\n",
    "plt.plot(stockdata['Close'], linewidth=1.5, color='red')\n",
    "plt.xlabel('Date', fontsize=18)\n",
    "plt.ylabel('closing price USD', fontsize=18)\n",
    "plt.show()"
   ]
  },
  {
   "cell_type": "markdown",
   "metadata": {
    "id": "tQpdehwunJhC"
   },
   "source": [
    "## storing the data in a csv file"
   ]
  },
  {
   "cell_type": "code",
   "execution_count": null,
   "metadata": {
    "id": "ousS9MD1ngs1"
   },
   "outputs": [],
   "source": [
    "stockdata.to_csv('stockdata.csv')"
   ]
  },
  {
   "cell_type": "markdown",
   "metadata": {
    "id": "PbjyMjAIn-JQ"
   },
   "source": [
    "## creating a separate dataframe from this csv to perform further operations"
   ]
  },
  {
   "cell_type": "code",
   "execution_count": null,
   "metadata": {
    "id": "ueMvTPkWn5yy"
   },
   "outputs": [],
   "source": [
    "df = pd.read_csv('stockdata.csv')"
   ]
  },
  {
   "cell_type": "code",
   "execution_count": null,
   "metadata": {
    "id": "hB9N_zOQn_fg"
   },
   "outputs": [],
   "source": [
    "# permanently setting the date as the index and eliminating all the nulls (if any)\n",
    "# Note: this is only supposed to be executed once\n",
    "df.set_index(\"Date\", inplace=True)\n",
    "df.dropna(inplace=True)"
   ]
  },
  {
   "cell_type": "code",
   "execution_count": null,
   "metadata": {
    "colab": {
     "base_uri": "https://localhost:8080/",
     "height": 455
    },
    "executionInfo": {
     "elapsed": 56,
     "status": "ok",
     "timestamp": 1666374735588,
     "user": {
      "displayName": "Reekdev Ray",
      "userId": "06160052425232836642"
     },
     "user_tz": -330
    },
    "id": "xa76Dj-rowZF",
    "outputId": "3120d034-8e96-4bee-dd50-40d027c82897"
   },
   "outputs": [
    {
     "data": {
      "text/html": [
       "\n",
       "  <div id=\"df-f3504ae3-cc9d-4c84-afc1-e68a8f8a2512\">\n",
       "    <div class=\"colab-df-container\">\n",
       "      <div>\n",
       "<style scoped>\n",
       "    .dataframe tbody tr th:only-of-type {\n",
       "        vertical-align: middle;\n",
       "    }\n",
       "\n",
       "    .dataframe tbody tr th {\n",
       "        vertical-align: top;\n",
       "    }\n",
       "\n",
       "    .dataframe thead th {\n",
       "        text-align: right;\n",
       "    }\n",
       "</style>\n",
       "<table border=\"1\" class=\"dataframe\">\n",
       "  <thead>\n",
       "    <tr style=\"text-align: right;\">\n",
       "      <th></th>\n",
       "      <th>Open</th>\n",
       "      <th>High</th>\n",
       "      <th>Low</th>\n",
       "      <th>Close</th>\n",
       "      <th>Adj Close</th>\n",
       "      <th>Volume</th>\n",
       "    </tr>\n",
       "    <tr>\n",
       "      <th>Date</th>\n",
       "      <th></th>\n",
       "      <th></th>\n",
       "      <th></th>\n",
       "      <th></th>\n",
       "      <th></th>\n",
       "      <th></th>\n",
       "    </tr>\n",
       "  </thead>\n",
       "  <tbody>\n",
       "    <tr>\n",
       "      <th>1997-05-15 00:00:00-04:00</th>\n",
       "      <td>0.121875</td>\n",
       "      <td>0.125000</td>\n",
       "      <td>0.096354</td>\n",
       "      <td>0.097917</td>\n",
       "      <td>0.097917</td>\n",
       "      <td>1443120000</td>\n",
       "    </tr>\n",
       "    <tr>\n",
       "      <th>1997-05-16 00:00:00-04:00</th>\n",
       "      <td>0.098438</td>\n",
       "      <td>0.098958</td>\n",
       "      <td>0.085417</td>\n",
       "      <td>0.086458</td>\n",
       "      <td>0.086458</td>\n",
       "      <td>294000000</td>\n",
       "    </tr>\n",
       "    <tr>\n",
       "      <th>1997-05-19 00:00:00-04:00</th>\n",
       "      <td>0.088021</td>\n",
       "      <td>0.088542</td>\n",
       "      <td>0.081250</td>\n",
       "      <td>0.085417</td>\n",
       "      <td>0.085417</td>\n",
       "      <td>122136000</td>\n",
       "    </tr>\n",
       "    <tr>\n",
       "      <th>1997-05-20 00:00:00-04:00</th>\n",
       "      <td>0.086458</td>\n",
       "      <td>0.087500</td>\n",
       "      <td>0.081771</td>\n",
       "      <td>0.081771</td>\n",
       "      <td>0.081771</td>\n",
       "      <td>109344000</td>\n",
       "    </tr>\n",
       "    <tr>\n",
       "      <th>1997-05-21 00:00:00-04:00</th>\n",
       "      <td>0.081771</td>\n",
       "      <td>0.082292</td>\n",
       "      <td>0.068750</td>\n",
       "      <td>0.071354</td>\n",
       "      <td>0.071354</td>\n",
       "      <td>377064000</td>\n",
       "    </tr>\n",
       "    <tr>\n",
       "      <th>...</th>\n",
       "      <td>...</td>\n",
       "      <td>...</td>\n",
       "      <td>...</td>\n",
       "      <td>...</td>\n",
       "      <td>...</td>\n",
       "      <td>...</td>\n",
       "    </tr>\n",
       "    <tr>\n",
       "      <th>2022-10-14 00:00:00-04:00</th>\n",
       "      <td>114.099998</td>\n",
       "      <td>114.959999</td>\n",
       "      <td>106.599998</td>\n",
       "      <td>106.900002</td>\n",
       "      <td>106.900002</td>\n",
       "      <td>67651200</td>\n",
       "    </tr>\n",
       "    <tr>\n",
       "      <th>2022-10-17 00:00:00-04:00</th>\n",
       "      <td>110.110001</td>\n",
       "      <td>114.190002</td>\n",
       "      <td>110.089996</td>\n",
       "      <td>113.790001</td>\n",
       "      <td>113.790001</td>\n",
       "      <td>62782000</td>\n",
       "    </tr>\n",
       "    <tr>\n",
       "      <th>2022-10-18 00:00:00-04:00</th>\n",
       "      <td>119.059998</td>\n",
       "      <td>119.519997</td>\n",
       "      <td>114.790001</td>\n",
       "      <td>116.360001</td>\n",
       "      <td>116.360001</td>\n",
       "      <td>65607400</td>\n",
       "    </tr>\n",
       "    <tr>\n",
       "      <th>2022-10-19 00:00:00-04:00</th>\n",
       "      <td>114.709999</td>\n",
       "      <td>116.589996</td>\n",
       "      <td>113.220001</td>\n",
       "      <td>115.070000</td>\n",
       "      <td>115.070000</td>\n",
       "      <td>47198100</td>\n",
       "    </tr>\n",
       "    <tr>\n",
       "      <th>2022-10-20 00:00:00-04:00</th>\n",
       "      <td>113.830002</td>\n",
       "      <td>118.239998</td>\n",
       "      <td>113.510002</td>\n",
       "      <td>115.250000</td>\n",
       "      <td>115.250000</td>\n",
       "      <td>48709900</td>\n",
       "    </tr>\n",
       "  </tbody>\n",
       "</table>\n",
       "<p>6402 rows × 6 columns</p>\n",
       "</div>\n",
       "      <button class=\"colab-df-convert\" onclick=\"convertToInteractive('df-f3504ae3-cc9d-4c84-afc1-e68a8f8a2512')\"\n",
       "              title=\"Convert this dataframe to an interactive table.\"\n",
       "              style=\"display:none;\">\n",
       "        \n",
       "  <svg xmlns=\"http://www.w3.org/2000/svg\" height=\"24px\"viewBox=\"0 0 24 24\"\n",
       "       width=\"24px\">\n",
       "    <path d=\"M0 0h24v24H0V0z\" fill=\"none\"/>\n",
       "    <path d=\"M18.56 5.44l.94 2.06.94-2.06 2.06-.94-2.06-.94-.94-2.06-.94 2.06-2.06.94zm-11 1L8.5 8.5l.94-2.06 2.06-.94-2.06-.94L8.5 2.5l-.94 2.06-2.06.94zm10 10l.94 2.06.94-2.06 2.06-.94-2.06-.94-.94-2.06-.94 2.06-2.06.94z\"/><path d=\"M17.41 7.96l-1.37-1.37c-.4-.4-.92-.59-1.43-.59-.52 0-1.04.2-1.43.59L10.3 9.45l-7.72 7.72c-.78.78-.78 2.05 0 2.83L4 21.41c.39.39.9.59 1.41.59.51 0 1.02-.2 1.41-.59l7.78-7.78 2.81-2.81c.8-.78.8-2.07 0-2.86zM5.41 20L4 18.59l7.72-7.72 1.47 1.35L5.41 20z\"/>\n",
       "  </svg>\n",
       "      </button>\n",
       "      \n",
       "  <style>\n",
       "    .colab-df-container {\n",
       "      display:flex;\n",
       "      flex-wrap:wrap;\n",
       "      gap: 12px;\n",
       "    }\n",
       "\n",
       "    .colab-df-convert {\n",
       "      background-color: #E8F0FE;\n",
       "      border: none;\n",
       "      border-radius: 50%;\n",
       "      cursor: pointer;\n",
       "      display: none;\n",
       "      fill: #1967D2;\n",
       "      height: 32px;\n",
       "      padding: 0 0 0 0;\n",
       "      width: 32px;\n",
       "    }\n",
       "\n",
       "    .colab-df-convert:hover {\n",
       "      background-color: #E2EBFA;\n",
       "      box-shadow: 0px 1px 2px rgba(60, 64, 67, 0.3), 0px 1px 3px 1px rgba(60, 64, 67, 0.15);\n",
       "      fill: #174EA6;\n",
       "    }\n",
       "\n",
       "    [theme=dark] .colab-df-convert {\n",
       "      background-color: #3B4455;\n",
       "      fill: #D2E3FC;\n",
       "    }\n",
       "\n",
       "    [theme=dark] .colab-df-convert:hover {\n",
       "      background-color: #434B5C;\n",
       "      box-shadow: 0px 1px 3px 1px rgba(0, 0, 0, 0.15);\n",
       "      filter: drop-shadow(0px 1px 2px rgba(0, 0, 0, 0.3));\n",
       "      fill: #FFFFFF;\n",
       "    }\n",
       "  </style>\n",
       "\n",
       "      <script>\n",
       "        const buttonEl =\n",
       "          document.querySelector('#df-f3504ae3-cc9d-4c84-afc1-e68a8f8a2512 button.colab-df-convert');\n",
       "        buttonEl.style.display =\n",
       "          google.colab.kernel.accessAllowed ? 'block' : 'none';\n",
       "\n",
       "        async function convertToInteractive(key) {\n",
       "          const element = document.querySelector('#df-f3504ae3-cc9d-4c84-afc1-e68a8f8a2512');\n",
       "          const dataTable =\n",
       "            await google.colab.kernel.invokeFunction('convertToInteractive',\n",
       "                                                     [key], {});\n",
       "          if (!dataTable) return;\n",
       "\n",
       "          const docLinkHtml = 'Like what you see? Visit the ' +\n",
       "            '<a target=\"_blank\" href=https://colab.research.google.com/notebooks/data_table.ipynb>data table notebook</a>'\n",
       "            + ' to learn more about interactive tables.';\n",
       "          element.innerHTML = '';\n",
       "          dataTable['output_type'] = 'display_data';\n",
       "          await google.colab.output.renderOutput(dataTable, element);\n",
       "          const docLink = document.createElement('div');\n",
       "          docLink.innerHTML = docLinkHtml;\n",
       "          element.appendChild(docLink);\n",
       "        }\n",
       "      </script>\n",
       "    </div>\n",
       "  </div>\n",
       "  "
      ],
      "text/plain": [
       "                                 Open        High         Low       Close  \\\n",
       "Date                                                                        \n",
       "1997-05-15 00:00:00-04:00    0.121875    0.125000    0.096354    0.097917   \n",
       "1997-05-16 00:00:00-04:00    0.098438    0.098958    0.085417    0.086458   \n",
       "1997-05-19 00:00:00-04:00    0.088021    0.088542    0.081250    0.085417   \n",
       "1997-05-20 00:00:00-04:00    0.086458    0.087500    0.081771    0.081771   \n",
       "1997-05-21 00:00:00-04:00    0.081771    0.082292    0.068750    0.071354   \n",
       "...                               ...         ...         ...         ...   \n",
       "2022-10-14 00:00:00-04:00  114.099998  114.959999  106.599998  106.900002   \n",
       "2022-10-17 00:00:00-04:00  110.110001  114.190002  110.089996  113.790001   \n",
       "2022-10-18 00:00:00-04:00  119.059998  119.519997  114.790001  116.360001   \n",
       "2022-10-19 00:00:00-04:00  114.709999  116.589996  113.220001  115.070000   \n",
       "2022-10-20 00:00:00-04:00  113.830002  118.239998  113.510002  115.250000   \n",
       "\n",
       "                            Adj Close      Volume  \n",
       "Date                                               \n",
       "1997-05-15 00:00:00-04:00    0.097917  1443120000  \n",
       "1997-05-16 00:00:00-04:00    0.086458   294000000  \n",
       "1997-05-19 00:00:00-04:00    0.085417   122136000  \n",
       "1997-05-20 00:00:00-04:00    0.081771   109344000  \n",
       "1997-05-21 00:00:00-04:00    0.071354   377064000  \n",
       "...                               ...         ...  \n",
       "2022-10-14 00:00:00-04:00  106.900002    67651200  \n",
       "2022-10-17 00:00:00-04:00  113.790001    62782000  \n",
       "2022-10-18 00:00:00-04:00  116.360001    65607400  \n",
       "2022-10-19 00:00:00-04:00  115.070000    47198100  \n",
       "2022-10-20 00:00:00-04:00  115.250000    48709900  \n",
       "\n",
       "[6402 rows x 6 columns]"
      ]
     },
     "execution_count": 84,
     "metadata": {},
     "output_type": "execute_result"
    }
   ],
   "source": [
    "df"
   ]
  },
  {
   "cell_type": "code",
   "execution_count": null,
   "metadata": {
    "id": "X-qt_ccjpNXc"
   },
   "outputs": [],
   "source": [
    "# creating a dataframe only with the 'Close' column and then converting it to a NumPy array\n",
    "data = df.filter(['Close'])\n",
    "dataset = data.values"
   ]
  },
  {
   "cell_type": "code",
   "execution_count": null,
   "metadata": {
    "colab": {
     "base_uri": "https://localhost:8080/"
    },
    "executionInfo": {
     "elapsed": 52,
     "status": "ok",
     "timestamp": 1666374735589,
     "user": {
      "displayName": "Reekdev Ray",
      "userId": "06160052425232836642"
     },
     "user_tz": -330
    },
    "id": "Hp7qR1Qlpa0_",
    "outputId": "8d588d3a-d76d-48b3-c472-6510929ab1d0"
   },
   "outputs": [
    {
     "data": {
      "text/plain": [
       "array([[9.79169980e-02],\n",
       "       [8.64579976e-02],\n",
       "       [8.54170024e-02],\n",
       "       ...,\n",
       "       [1.16360001e+02],\n",
       "       [1.15070000e+02],\n",
       "       [1.15250000e+02]])"
      ]
     },
     "execution_count": 86,
     "metadata": {},
     "output_type": "execute_result"
    }
   ],
   "source": [
    "dataset"
   ]
  },
  {
   "cell_type": "code",
   "execution_count": null,
   "metadata": {
    "colab": {
     "base_uri": "https://localhost:8080/"
    },
    "executionInfo": {
     "elapsed": 44,
     "status": "ok",
     "timestamp": 1666374735591,
     "user": {
      "displayName": "Reekdev Ray",
      "userId": "06160052425232836642"
     },
     "user_tz": -330
    },
    "id": "qeR3dYv5qDWS",
    "outputId": "efba4d4c-313a-47fa-c50a-cf95aced581f"
   },
   "outputs": [
    {
     "data": {
      "text/plain": [
       "5122"
      ]
     },
     "execution_count": 87,
     "metadata": {},
     "output_type": "execute_result"
    }
   ],
   "source": [
    "training_data_len = math.ceil(len(dataset) * 0.8)\n",
    "training_data_len"
   ]
  },
  {
   "cell_type": "code",
   "execution_count": null,
   "metadata": {
    "id": "qlaliOgHq9Tj"
   },
   "outputs": [],
   "source": [
    "# scaling the closing data b/w 0 and 1 (inclusive)\n",
    "scaler = MinMaxScaler(feature_range=(0, 1))\n",
    "scaled_data = scaler.fit_transform(dataset)"
   ]
  },
  {
   "cell_type": "code",
   "execution_count": null,
   "metadata": {
    "colab": {
     "base_uri": "https://localhost:8080/"
    },
    "executionInfo": {
     "elapsed": 42,
     "status": "ok",
     "timestamp": 1666374735593,
     "user": {
      "displayName": "Reekdev Ray",
      "userId": "06160052425232836642"
     },
     "user_tz": -330
    },
    "id": "a5hVqEBZrvnn",
    "outputId": "188e5a18-092d-4c0d-a6e1-183ee79a9392"
   },
   "outputs": [
    {
     "data": {
      "text/plain": [
       "array([[1.50803697e-04],\n",
       "       [8.93615670e-05],\n",
       "       [8.37798448e-05],\n",
       "       ...,\n",
       "       [6.23537640e-01],\n",
       "       [6.16620771e-01],\n",
       "       [6.17585917e-01]])"
      ]
     },
     "execution_count": 89,
     "metadata": {},
     "output_type": "execute_result"
    }
   ],
   "source": [
    "scaled_data"
   ]
  },
  {
   "cell_type": "code",
   "execution_count": null,
   "metadata": {
    "id": "EZt4RrEGtCd6"
   },
   "outputs": [],
   "source": [
    "# creating the scaled training dataset\n",
    "train_data = scaled_data[0:training_data_len, :]\n",
    "\n",
    "\n",
    "# splitting the data\n",
    "x_train = []\n",
    "y_train = []\n",
    "\n",
    "for i in range(60, len(train_data)):\n",
    "  x_train.append(train_data[i-60:i, 0])\n",
    "  y_train.append(train_data[i, 0])"
   ]
  },
  {
   "cell_type": "code",
   "execution_count": null,
   "metadata": {
    "id": "vqx891v1v5AU"
   },
   "outputs": [],
   "source": [
    "# converting the x_train and y_train to NumPy array\n",
    "x_train, y_train = np.array(x_train), np.array(y_train)"
   ]
  },
  {
   "cell_type": "code",
   "execution_count": null,
   "metadata": {
    "colab": {
     "base_uri": "https://localhost:8080/"
    },
    "executionInfo": {
     "elapsed": 41,
     "status": "ok",
     "timestamp": 1666374735597,
     "user": {
      "displayName": "Reekdev Ray",
      "userId": "06160052425232836642"
     },
     "user_tz": -330
    },
    "id": "-dpVKl0PwylU",
    "outputId": "b70f3034-b557-444f-bf14-18c6cc676a2e"
   },
   "outputs": [
    {
     "data": {
      "text/plain": [
       "(5062, 60, 1)"
      ]
     },
     "execution_count": 92,
     "metadata": {},
     "output_type": "execute_result"
    }
   ],
   "source": [
    "# reshape the x_train to make it three-dimensional because LSTM expects it\n",
    "x_train = np.reshape(x_train, (x_train.shape[0], x_train.shape[1], 1))\n",
    "\n",
    "x_train.shape"
   ]
  },
  {
   "cell_type": "code",
   "execution_count": null,
   "metadata": {
    "id": "u7su0jnQx2_O"
   },
   "outputs": [],
   "source": [
    "# building the LSTM model\n",
    "model = Sequential()\n",
    "model.add(LSTM(50, return_sequences=True, input_shape=(x_train.shape[1], 1)))\n",
    "model.add(LSTM(50, return_sequences=False))\n",
    "model.add(Dense(25))\n",
    "model.add(Dense(1))"
   ]
  },
  {
   "cell_type": "markdown",
   "metadata": {
    "id": "COzWjNWN3yo-"
   },
   "source": [
    "## Compiling the model"
   ]
  },
  {
   "cell_type": "code",
   "execution_count": null,
   "metadata": {
    "id": "MAsW0Ux432bf"
   },
   "outputs": [],
   "source": [
    "model.compile(optimizer='adam', loss='mean_squared_error')"
   ]
  },
  {
   "cell_type": "code",
   "execution_count": null,
   "metadata": {
    "colab": {
     "base_uri": "https://localhost:8080/"
    },
    "executionInfo": {
     "elapsed": 211805,
     "status": "ok",
     "timestamp": 1666374948028,
     "user": {
      "displayName": "Reekdev Ray",
      "userId": "06160052425232836642"
     },
     "user_tz": -330
    },
    "id": "sPKZIU6R4EVm",
    "outputId": "2f258a70-96ac-4720-f354-f478cd9876a3"
   },
   "outputs": [
    {
     "name": "stdout",
     "output_type": "stream",
     "text": [
      "Epoch 1/20\n",
      "159/159 [==============================] - 20s 98ms/step - loss: 1.4786e-04\n",
      "Epoch 2/20\n",
      "159/159 [==============================] - 18s 115ms/step - loss: 1.0409e-05\n",
      "Epoch 3/20\n",
      "159/159 [==============================] - 9s 59ms/step - loss: 9.4006e-06\n",
      "Epoch 4/20\n",
      "159/159 [==============================] - 9s 59ms/step - loss: 9.7837e-06\n",
      "Epoch 5/20\n",
      "159/159 [==============================] - 9s 59ms/step - loss: 9.2552e-06\n",
      "Epoch 6/20\n",
      "159/159 [==============================] - 9s 59ms/step - loss: 8.8489e-06\n",
      "Epoch 7/20\n",
      "159/159 [==============================] - 10s 60ms/step - loss: 8.4964e-06\n",
      "Epoch 8/20\n",
      "159/159 [==============================] - 10s 60ms/step - loss: 8.8081e-06\n",
      "Epoch 9/20\n",
      "159/159 [==============================] - 10s 60ms/step - loss: 7.8803e-06\n",
      "Epoch 10/20\n",
      "159/159 [==============================] - 9s 59ms/step - loss: 8.2938e-06\n",
      "Epoch 11/20\n",
      "159/159 [==============================] - 11s 71ms/step - loss: 7.8164e-06\n",
      "Epoch 12/20\n",
      "159/159 [==============================] - 10s 60ms/step - loss: 7.5380e-06\n",
      "Epoch 13/20\n",
      "159/159 [==============================] - 10s 60ms/step - loss: 7.3556e-06\n",
      "Epoch 14/20\n",
      "159/159 [==============================] - 9s 59ms/step - loss: 8.8008e-06\n",
      "Epoch 15/20\n",
      "159/159 [==============================] - 10s 60ms/step - loss: 7.6185e-06\n",
      "Epoch 16/20\n",
      "159/159 [==============================] - 10s 60ms/step - loss: 6.4612e-06\n",
      "Epoch 17/20\n",
      "159/159 [==============================] - 9s 60ms/step - loss: 6.5859e-06\n",
      "Epoch 18/20\n",
      "159/159 [==============================] - 11s 66ms/step - loss: 6.6932e-06\n",
      "Epoch 19/20\n",
      "159/159 [==============================] - 10s 60ms/step - loss: 6.9568e-06\n",
      "Epoch 20/20\n",
      "159/159 [==============================] - 10s 60ms/step - loss: 6.5029e-06\n"
     ]
    },
    {
     "data": {
      "text/plain": [
       "<keras.callbacks.History at 0x7fc5525ed1d0>"
      ]
     },
     "execution_count": 95,
     "metadata": {},
     "output_type": "execute_result"
    }
   ],
   "source": [
    "model.fit(x_train, y_train, batch_size=32, epochs=20)"
   ]
  },
  {
   "cell_type": "code",
   "execution_count": null,
   "metadata": {
    "id": "e_fcyGbl4x3H"
   },
   "outputs": [],
   "source": [
    "# creating the testing dataset\n",
    "# creating a new array containing scaled values from index 5122 to 6402\n",
    "test_data = scaled_data[training_data_len - 60: , :]\n",
    "\n",
    "# create the datasets x_test and y_test\n",
    "x_test = []\n",
    "y_test = dataset[training_data_len: , :]\n",
    "for i in range(60, len(test_data)):\n",
    "  x_test.append(test_data[i-60:i, 0])\n"
   ]
  },
  {
   "cell_type": "code",
   "execution_count": null,
   "metadata": {
    "id": "iinPjx4s6hdz"
   },
   "outputs": [],
   "source": [
    "# convert the data to a NumPy array so that we can use it the LSTM model\n",
    "x_test = np.array(x_test)"
   ]
  },
  {
   "cell_type": "code",
   "execution_count": null,
   "metadata": {
    "id": "t7DEOStV6s3n"
   },
   "outputs": [],
   "source": [
    "# reshape the data\n",
    "x_test = np.reshape(x_test, (x_test.shape[0], x_test.shape[1], 1))"
   ]
  },
  {
   "cell_type": "code",
   "execution_count": null,
   "metadata": {
    "colab": {
     "base_uri": "https://localhost:8080/"
    },
    "executionInfo": {
     "elapsed": 2809,
     "status": "ok",
     "timestamp": 1666374950818,
     "user": {
      "displayName": "Reekdev Ray",
      "userId": "06160052425232836642"
     },
     "user_tz": -330
    },
    "id": "GRZSHXYC7Ekx",
    "outputId": "eb2dcd11-e4ea-438b-a539-a2691269ac5b"
   },
   "outputs": [
    {
     "name": "stdout",
     "output_type": "stream",
     "text": [
      "40/40 [==============================] - 2s 17ms/step\n"
     ]
    }
   ],
   "source": [
    "# getting the model's predicted price values\n",
    "predictions = model.predict(x_test)\n",
    "predictions = scaler.inverse_transform(predictions) # here we are 'unscaling' the values to the original scale\n"
   ]
  },
  {
   "cell_type": "code",
   "execution_count": null,
   "metadata": {
    "colab": {
     "base_uri": "https://localhost:8080/"
    },
    "executionInfo": {
     "elapsed": 27,
     "status": "ok",
     "timestamp": 1666374950818,
     "user": {
      "displayName": "Reekdev Ray",
      "userId": "06160052425232836642"
     },
     "user_tz": -330
    },
    "id": "Xf9WGY0g_Gsn",
    "outputId": "12dcba45-0b95-4e47-edad-a8a390cb3d14"
   },
   "outputs": [
    {
     "data": {
      "text/plain": [
       "array([[ 48.986187],\n",
       "       [ 48.755524],\n",
       "       [ 48.454597],\n",
       "       ...,\n",
       "       [110.87256 ],\n",
       "       [111.765976],\n",
       "       [112.69948 ]], dtype=float32)"
      ]
     },
     "execution_count": 100,
     "metadata": {},
     "output_type": "execute_result"
    }
   ],
   "source": [
    "predictions"
   ]
  },
  {
   "cell_type": "code",
   "execution_count": null,
   "metadata": {
    "colab": {
     "base_uri": "https://localhost:8080/"
    },
    "executionInfo": {
     "elapsed": 27,
     "status": "ok",
     "timestamp": 1666374950820,
     "user": {
      "displayName": "Reekdev Ray",
      "userId": "06160052425232836642"
     },
     "user_tz": -330
    },
    "id": "ka6WUrxY7jOz",
    "outputId": "7b5ea372-da10-480e-f69f-30e38a1ea3c0"
   },
   "outputs": [
    {
     "data": {
      "text/plain": [
       "1.3267452716827393"
      ]
     },
     "execution_count": 101,
     "metadata": {},
     "output_type": "execute_result"
    }
   ],
   "source": [
    "# getting the root mean squared error (RMSE) for the accuracy\n",
    "rmse = np.sqrt(np.mean(predictions - y_test)**2)\n",
    "rmse"
   ]
  },
  {
   "cell_type": "code",
   "execution_count": null,
   "metadata": {
    "colab": {
     "base_uri": "https://localhost:8080/"
    },
    "executionInfo": {
     "elapsed": 25,
     "status": "ok",
     "timestamp": 1666374950822,
     "user": {
      "displayName": "Reekdev Ray",
      "userId": "06160052425232836642"
     },
     "user_tz": -330
    },
    "id": "PCq2Bi_TFo4S",
    "outputId": "50f5955b-23a1-4ba1-9dfe-932ff7bb7d88"
   },
   "outputs": [
    {
     "name": "stderr",
     "output_type": "stream",
     "text": [
      "/usr/local/lib/python3.7/dist-packages/ipykernel_launcher.py:4: SettingWithCopyWarning: \n",
      "A value is trying to be set on a copy of a slice from a DataFrame.\n",
      "Try using .loc[row_indexer,col_indexer] = value instead\n",
      "\n",
      "See the caveats in the documentation: https://pandas.pydata.org/pandas-docs/stable/user_guide/indexing.html#returning-a-view-versus-a-copy\n",
      "  after removing the cwd from sys.path.\n"
     ]
    }
   ],
   "source": [
    "# plot the data\n",
    "train = data[:training_data_len]\n",
    "valid = data[training_data_len:]\n",
    "valid['Predictions'] = predictions"
   ]
  },
  {
   "cell_type": "code",
   "execution_count": null,
   "metadata": {
    "colab": {
     "base_uri": "https://localhost:8080/",
     "height": 455
    },
    "executionInfo": {
     "elapsed": 24,
     "status": "ok",
     "timestamp": 1666374950824,
     "user": {
      "displayName": "Reekdev Ray",
      "userId": "06160052425232836642"
     },
     "user_tz": -330
    },
    "id": "0UJcgCnKGl97",
    "outputId": "52c2b9a2-7ace-4334-c0a1-d45d97f83c82"
   },
   "outputs": [
    {
     "data": {
      "text/html": [
       "\n",
       "  <div id=\"df-53ea7c3a-48a0-437d-b250-15f3318c8731\">\n",
       "    <div class=\"colab-df-container\">\n",
       "      <div>\n",
       "<style scoped>\n",
       "    .dataframe tbody tr th:only-of-type {\n",
       "        vertical-align: middle;\n",
       "    }\n",
       "\n",
       "    .dataframe tbody tr th {\n",
       "        vertical-align: top;\n",
       "    }\n",
       "\n",
       "    .dataframe thead th {\n",
       "        text-align: right;\n",
       "    }\n",
       "</style>\n",
       "<table border=\"1\" class=\"dataframe\">\n",
       "  <thead>\n",
       "    <tr style=\"text-align: right;\">\n",
       "      <th></th>\n",
       "      <th>Close</th>\n",
       "      <th>Predictions</th>\n",
       "    </tr>\n",
       "    <tr>\n",
       "      <th>Date</th>\n",
       "      <th></th>\n",
       "      <th></th>\n",
       "    </tr>\n",
       "  </thead>\n",
       "  <tbody>\n",
       "    <tr>\n",
       "      <th>2017-09-21 00:00:00-04:00</th>\n",
       "      <td>48.232498</td>\n",
       "      <td>48.986187</td>\n",
       "    </tr>\n",
       "    <tr>\n",
       "      <th>2017-09-22 00:00:00-04:00</th>\n",
       "      <td>47.755001</td>\n",
       "      <td>48.755524</td>\n",
       "    </tr>\n",
       "    <tr>\n",
       "      <th>2017-09-25 00:00:00-04:00</th>\n",
       "      <td>46.989498</td>\n",
       "      <td>48.454597</td>\n",
       "    </tr>\n",
       "    <tr>\n",
       "      <th>2017-09-26 00:00:00-04:00</th>\n",
       "      <td>46.930000</td>\n",
       "      <td>48.026382</td>\n",
       "    </tr>\n",
       "    <tr>\n",
       "      <th>2017-09-27 00:00:00-04:00</th>\n",
       "      <td>47.543499</td>\n",
       "      <td>47.621929</td>\n",
       "    </tr>\n",
       "    <tr>\n",
       "      <th>...</th>\n",
       "      <td>...</td>\n",
       "      <td>...</td>\n",
       "    </tr>\n",
       "    <tr>\n",
       "      <th>2022-10-14 00:00:00-04:00</th>\n",
       "      <td>106.900002</td>\n",
       "      <td>113.096451</td>\n",
       "    </tr>\n",
       "    <tr>\n",
       "      <th>2022-10-17 00:00:00-04:00</th>\n",
       "      <td>113.790001</td>\n",
       "      <td>111.201180</td>\n",
       "    </tr>\n",
       "    <tr>\n",
       "      <th>2022-10-18 00:00:00-04:00</th>\n",
       "      <td>116.360001</td>\n",
       "      <td>110.872559</td>\n",
       "    </tr>\n",
       "    <tr>\n",
       "      <th>2022-10-19 00:00:00-04:00</th>\n",
       "      <td>115.070000</td>\n",
       "      <td>111.765976</td>\n",
       "    </tr>\n",
       "    <tr>\n",
       "      <th>2022-10-20 00:00:00-04:00</th>\n",
       "      <td>115.250000</td>\n",
       "      <td>112.699478</td>\n",
       "    </tr>\n",
       "  </tbody>\n",
       "</table>\n",
       "<p>1280 rows × 2 columns</p>\n",
       "</div>\n",
       "      <button class=\"colab-df-convert\" onclick=\"convertToInteractive('df-53ea7c3a-48a0-437d-b250-15f3318c8731')\"\n",
       "              title=\"Convert this dataframe to an interactive table.\"\n",
       "              style=\"display:none;\">\n",
       "        \n",
       "  <svg xmlns=\"http://www.w3.org/2000/svg\" height=\"24px\"viewBox=\"0 0 24 24\"\n",
       "       width=\"24px\">\n",
       "    <path d=\"M0 0h24v24H0V0z\" fill=\"none\"/>\n",
       "    <path d=\"M18.56 5.44l.94 2.06.94-2.06 2.06-.94-2.06-.94-.94-2.06-.94 2.06-2.06.94zm-11 1L8.5 8.5l.94-2.06 2.06-.94-2.06-.94L8.5 2.5l-.94 2.06-2.06.94zm10 10l.94 2.06.94-2.06 2.06-.94-2.06-.94-.94-2.06-.94 2.06-2.06.94z\"/><path d=\"M17.41 7.96l-1.37-1.37c-.4-.4-.92-.59-1.43-.59-.52 0-1.04.2-1.43.59L10.3 9.45l-7.72 7.72c-.78.78-.78 2.05 0 2.83L4 21.41c.39.39.9.59 1.41.59.51 0 1.02-.2 1.41-.59l7.78-7.78 2.81-2.81c.8-.78.8-2.07 0-2.86zM5.41 20L4 18.59l7.72-7.72 1.47 1.35L5.41 20z\"/>\n",
       "  </svg>\n",
       "      </button>\n",
       "      \n",
       "  <style>\n",
       "    .colab-df-container {\n",
       "      display:flex;\n",
       "      flex-wrap:wrap;\n",
       "      gap: 12px;\n",
       "    }\n",
       "\n",
       "    .colab-df-convert {\n",
       "      background-color: #E8F0FE;\n",
       "      border: none;\n",
       "      border-radius: 50%;\n",
       "      cursor: pointer;\n",
       "      display: none;\n",
       "      fill: #1967D2;\n",
       "      height: 32px;\n",
       "      padding: 0 0 0 0;\n",
       "      width: 32px;\n",
       "    }\n",
       "\n",
       "    .colab-df-convert:hover {\n",
       "      background-color: #E2EBFA;\n",
       "      box-shadow: 0px 1px 2px rgba(60, 64, 67, 0.3), 0px 1px 3px 1px rgba(60, 64, 67, 0.15);\n",
       "      fill: #174EA6;\n",
       "    }\n",
       "\n",
       "    [theme=dark] .colab-df-convert {\n",
       "      background-color: #3B4455;\n",
       "      fill: #D2E3FC;\n",
       "    }\n",
       "\n",
       "    [theme=dark] .colab-df-convert:hover {\n",
       "      background-color: #434B5C;\n",
       "      box-shadow: 0px 1px 3px 1px rgba(0, 0, 0, 0.15);\n",
       "      filter: drop-shadow(0px 1px 2px rgba(0, 0, 0, 0.3));\n",
       "      fill: #FFFFFF;\n",
       "    }\n",
       "  </style>\n",
       "\n",
       "      <script>\n",
       "        const buttonEl =\n",
       "          document.querySelector('#df-53ea7c3a-48a0-437d-b250-15f3318c8731 button.colab-df-convert');\n",
       "        buttonEl.style.display =\n",
       "          google.colab.kernel.accessAllowed ? 'block' : 'none';\n",
       "\n",
       "        async function convertToInteractive(key) {\n",
       "          const element = document.querySelector('#df-53ea7c3a-48a0-437d-b250-15f3318c8731');\n",
       "          const dataTable =\n",
       "            await google.colab.kernel.invokeFunction('convertToInteractive',\n",
       "                                                     [key], {});\n",
       "          if (!dataTable) return;\n",
       "\n",
       "          const docLinkHtml = 'Like what you see? Visit the ' +\n",
       "            '<a target=\"_blank\" href=https://colab.research.google.com/notebooks/data_table.ipynb>data table notebook</a>'\n",
       "            + ' to learn more about interactive tables.';\n",
       "          element.innerHTML = '';\n",
       "          dataTable['output_type'] = 'display_data';\n",
       "          await google.colab.output.renderOutput(dataTable, element);\n",
       "          const docLink = document.createElement('div');\n",
       "          docLink.innerHTML = docLinkHtml;\n",
       "          element.appendChild(docLink);\n",
       "        }\n",
       "      </script>\n",
       "    </div>\n",
       "  </div>\n",
       "  "
      ],
      "text/plain": [
       "                                Close  Predictions\n",
       "Date                                              \n",
       "2017-09-21 00:00:00-04:00   48.232498    48.986187\n",
       "2017-09-22 00:00:00-04:00   47.755001    48.755524\n",
       "2017-09-25 00:00:00-04:00   46.989498    48.454597\n",
       "2017-09-26 00:00:00-04:00   46.930000    48.026382\n",
       "2017-09-27 00:00:00-04:00   47.543499    47.621929\n",
       "...                               ...          ...\n",
       "2022-10-14 00:00:00-04:00  106.900002   113.096451\n",
       "2022-10-17 00:00:00-04:00  113.790001   111.201180\n",
       "2022-10-18 00:00:00-04:00  116.360001   110.872559\n",
       "2022-10-19 00:00:00-04:00  115.070000   111.765976\n",
       "2022-10-20 00:00:00-04:00  115.250000   112.699478\n",
       "\n",
       "[1280 rows x 2 columns]"
      ]
     },
     "execution_count": 103,
     "metadata": {},
     "output_type": "execute_result"
    }
   ],
   "source": [
    "valid"
   ]
  },
  {
   "cell_type": "code",
   "execution_count": null,
   "metadata": {
    "colab": {
     "base_uri": "https://localhost:8080/",
     "height": 558
    },
    "executionInfo": {
     "elapsed": 79492,
     "status": "ok",
     "timestamp": 1666375527393,
     "user": {
      "displayName": "Reekdev Ray",
      "userId": "06160052425232836642"
     },
     "user_tz": -330
    },
    "id": "_yEajkjfHKmL",
    "outputId": "19f6dc49-bb80-4b76-fd15-efecd07bbe4d"
   },
   "outputs": [
    {
     "data": {
      "image/png": "[encoded data removed]",
      "text/plain": [
       "<Figure size 1152x576 with 1 Axes>"
      ]
     },
     "metadata": {},
     "output_type": "display_data"
    }
   ],
   "source": [
    "# visualizing the data\n",
    "plt.figure(figsize=(16, 8))\n",
    "plt.title('Model')\n",
    "plt.xlabel('Date', fontsize=18)\n",
    "plt.ylabel('Closing price USD', fontsize=18)\n",
    "plt.plot(train['Close'], linewidth=1.5, color='red')\n",
    "plt.plot(valid[['Close', 'Predictions']], linewidth=1.5)\n",
    "# plt.plot(valid['Close'],linewidth=1.5, color='red')\n",
    "# plt.plot(valid['Predictions'], linewidth=1.5, color='green')\n",
    "plt.legend(['Train', 'Val', 'Predicitons'], loc='lower right')\n",
    "plt.show()"
   ]
  }
 ],
 "metadata": {
  "colab": {
   "authorship_tag": "ABX9TyP1QCN6fS3m/3NL6P+WrOp6",
   "provenance": []
  },
  "kernelspec": {
   "display_name": "Python 3 (ipykernel)",
   "language": "python",
   "name": "python3"
  },
  "language_info": {
   "codemirror_mode": {
    "name": "ipython",
    "version": 3
   },
   "file_extension": ".py",
   "mimetype": "text/x-python",
   "name": "python",
   "nbconvert_exporter": "python",
   "pygments_lexer": "ipython3",
   "version": "3.10.2"
  }
 },
 "nbformat": 4,
 "nbformat_minor": 1
}
