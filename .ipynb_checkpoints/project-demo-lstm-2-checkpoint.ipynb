{
 "cells": [
  {
   "cell_type": "code",
   "execution_count": 37,
   "metadata": {
    "executionInfo": {
     "elapsed": 562,
     "status": "ok",
     "timestamp": 1666407729694,
     "user": {
      "displayName": "Reekdev Ray",
      "userId": "06160052425232836642"
     },
     "user_tz": -330
    },
    "id": "xh05TeatjGOZ"
   },
   "outputs": [],
   "source": [
    "import numpy as np\n",
    "import pandas as pd\n",
    "import matplotlib.pyplot as plt"
   ]
  },
  {
   "cell_type": "code",
   "execution_count": 38,
   "metadata": {
    "colab": {
     "base_uri": "https://localhost:8080/"
    },
    "executionInfo": {
     "elapsed": 5718,
     "status": "ok",
     "timestamp": 1666407735403,
     "user": {
      "displayName": "Reekdev Ray",
      "userId": "06160052425232836642"
     },
     "user_tz": -330
    },
    "id": "Z8r0q2q4kZPu",
    "outputId": "09149dd3-cb17-4b06-f464-5ab7081129c9"
   },
   "outputs": [
    {
     "name": "stdout",
     "output_type": "stream",
     "text": [
      "Looking in indexes: https://pypi.org/simple, https://us-python.pkg.dev/colab-wheels/public/simple/\n",
      "Requirement already satisfied: pandas in /usr/local/lib/python3.7/dist-packages (1.3.5)\n",
      "Requirement already satisfied: numpy>=1.17.3 in /usr/local/lib/python3.7/dist-packages (from pandas) (1.21.6)\n",
      "Requirement already satisfied: python-dateutil>=2.7.3 in /usr/local/lib/python3.7/dist-packages (from pandas) (2.8.2)\n",
      "Requirement already satisfied: pytz>=2017.3 in /usr/local/lib/python3.7/dist-packages (from pandas) (2022.4)\n",
      "Requirement already satisfied: six>=1.5 in /usr/local/lib/python3.7/dist-packages (from python-dateutil>=2.7.3->pandas) (1.15.0)\n",
      "Looking in indexes: https://pypi.org/simple, https://us-python.pkg.dev/colab-wheels/public/simple/\n",
      "Requirement already satisfied: pandas-datareader in /usr/local/lib/python3.7/dist-packages (0.10.0)\n",
      "Requirement already satisfied: lxml in /usr/local/lib/python3.7/dist-packages (from pandas-datareader) (4.9.1)\n",
      "Requirement already satisfied: requests>=2.19.0 in /usr/local/lib/python3.7/dist-packages (from pandas-datareader) (2.23.0)\n",
      "Requirement already satisfied: pandas>=0.23 in /usr/local/lib/python3.7/dist-packages (from pandas-datareader) (1.3.5)\n",
      "Requirement already satisfied: numpy>=1.17.3 in /usr/local/lib/python3.7/dist-packages (from pandas>=0.23->pandas-datareader) (1.21.6)\n",
      "Requirement already satisfied: python-dateutil>=2.7.3 in /usr/local/lib/python3.7/dist-packages (from pandas>=0.23->pandas-datareader) (2.8.2)\n",
      "Requirement already satisfied: pytz>=2017.3 in /usr/local/lib/python3.7/dist-packages (from pandas>=0.23->pandas-datareader) (2022.4)\n",
      "Requirement already satisfied: six>=1.5 in /usr/local/lib/python3.7/dist-packages (from python-dateutil>=2.7.3->pandas>=0.23->pandas-datareader) (1.15.0)\n",
      "Requirement already satisfied: urllib3!=1.25.0,!=1.25.1,<1.26,>=1.21.1 in /usr/local/lib/python3.7/dist-packages (from requests>=2.19.0->pandas-datareader) (1.24.3)\n",
      "Requirement already satisfied: certifi>=2017.4.17 in /usr/local/lib/python3.7/dist-packages (from requests>=2.19.0->pandas-datareader) (2022.9.24)\n",
      "Requirement already satisfied: chardet<4,>=3.0.2 in /usr/local/lib/python3.7/dist-packages (from requests>=2.19.0->pandas-datareader) (3.0.4)\n",
      "Requirement already satisfied: idna<3,>=2.5 in /usr/local/lib/python3.7/dist-packages (from requests>=2.19.0->pandas-datareader) (2.10)\n"
     ]
    }
   ],
   "source": [
    "!pip install --upgrade pandas\n",
    "!pip install --upgrade pandas-datareader\n",
    "import pandas_datareader as data"
   ]
  },
  {
   "cell_type": "code",
   "execution_count": 39,
   "metadata": {
    "executionInfo": {
     "elapsed": 45,
     "status": "ok",
     "timestamp": 1666407735409,
     "user": {
      "displayName": "Reekdev Ray",
      "userId": "06160052425232836642"
     },
     "user_tz": -330
    },
    "id": "uhwb8otXk73T"
   },
   "outputs": [],
   "source": [
    "start = '2010-01-01'\n",
    "end = '2019-12-31'"
   ]
  },
  {
   "cell_type": "code",
   "execution_count": 40,
   "metadata": {
    "colab": {
     "base_uri": "https://localhost:8080/",
     "height": 238
    },
    "executionInfo": {
     "elapsed": 830,
     "status": "ok",
     "timestamp": 1666407736204,
     "user": {
      "displayName": "Reekdev Ray",
      "userId": "06160052425232836642"
     },
     "user_tz": -330
    },
    "id": "vSwLaWu4k9Wz",
    "outputId": "bebc3a8d-e483-4843-c436-a37f5b501f9d"
   },
   "outputs": [
    {
     "data": {
      "text/html": [
       "\n",
       "  <div id=\"df-f78901d7-81f8-4a88-a40a-062b7fdd0027\">\n",
       "    <div class=\"colab-df-container\">\n",
       "      <div>\n",
       "<style scoped>\n",
       "    .dataframe tbody tr th:only-of-type {\n",
       "        vertical-align: middle;\n",
       "    }\n",
       "\n",
       "    .dataframe tbody tr th {\n",
       "        vertical-align: top;\n",
       "    }\n",
       "\n",
       "    .dataframe thead th {\n",
       "        text-align: right;\n",
       "    }\n",
       "</style>\n",
       "<table border=\"1\" class=\"dataframe\">\n",
       "  <thead>\n",
       "    <tr style=\"text-align: right;\">\n",
       "      <th></th>\n",
       "      <th>High</th>\n",
       "      <th>Low</th>\n",
       "      <th>Open</th>\n",
       "      <th>Close</th>\n",
       "      <th>Volume</th>\n",
       "      <th>Adj Close</th>\n",
       "    </tr>\n",
       "    <tr>\n",
       "      <th>Date</th>\n",
       "      <th></th>\n",
       "      <th></th>\n",
       "      <th></th>\n",
       "      <th></th>\n",
       "      <th></th>\n",
       "      <th></th>\n",
       "    </tr>\n",
       "  </thead>\n",
       "  <tbody>\n",
       "    <tr>\n",
       "      <th>2010-01-04</th>\n",
       "      <td>7.660714</td>\n",
       "      <td>7.585000</td>\n",
       "      <td>7.622500</td>\n",
       "      <td>7.643214</td>\n",
       "      <td>493729600.0</td>\n",
       "      <td>6.526021</td>\n",
       "    </tr>\n",
       "    <tr>\n",
       "      <th>2010-01-05</th>\n",
       "      <td>7.699643</td>\n",
       "      <td>7.616071</td>\n",
       "      <td>7.664286</td>\n",
       "      <td>7.656429</td>\n",
       "      <td>601904800.0</td>\n",
       "      <td>6.537304</td>\n",
       "    </tr>\n",
       "    <tr>\n",
       "      <th>2010-01-06</th>\n",
       "      <td>7.686786</td>\n",
       "      <td>7.526786</td>\n",
       "      <td>7.656429</td>\n",
       "      <td>7.534643</td>\n",
       "      <td>552160000.0</td>\n",
       "      <td>6.433318</td>\n",
       "    </tr>\n",
       "    <tr>\n",
       "      <th>2010-01-07</th>\n",
       "      <td>7.571429</td>\n",
       "      <td>7.466071</td>\n",
       "      <td>7.562500</td>\n",
       "      <td>7.520714</td>\n",
       "      <td>477131200.0</td>\n",
       "      <td>6.421427</td>\n",
       "    </tr>\n",
       "    <tr>\n",
       "      <th>2010-01-08</th>\n",
       "      <td>7.571429</td>\n",
       "      <td>7.466429</td>\n",
       "      <td>7.510714</td>\n",
       "      <td>7.570714</td>\n",
       "      <td>447610800.0</td>\n",
       "      <td>6.464117</td>\n",
       "    </tr>\n",
       "  </tbody>\n",
       "</table>\n",
       "</div>\n",
       "      <button class=\"colab-df-convert\" onclick=\"convertToInteractive('df-f78901d7-81f8-4a88-a40a-062b7fdd0027')\"\n",
       "              title=\"Convert this dataframe to an interactive table.\"\n",
       "              style=\"display:none;\">\n",
       "        \n",
       "  <svg xmlns=\"http://www.w3.org/2000/svg\" height=\"24px\"viewBox=\"0 0 24 24\"\n",
       "       width=\"24px\">\n",
       "    <path d=\"M0 0h24v24H0V0z\" fill=\"none\"/>\n",
       "    <path d=\"M18.56 5.44l.94 2.06.94-2.06 2.06-.94-2.06-.94-.94-2.06-.94 2.06-2.06.94zm-11 1L8.5 8.5l.94-2.06 2.06-.94-2.06-.94L8.5 2.5l-.94 2.06-2.06.94zm10 10l.94 2.06.94-2.06 2.06-.94-2.06-.94-.94-2.06-.94 2.06-2.06.94z\"/><path d=\"M17.41 7.96l-1.37-1.37c-.4-.4-.92-.59-1.43-.59-.52 0-1.04.2-1.43.59L10.3 9.45l-7.72 7.72c-.78.78-.78 2.05 0 2.83L4 21.41c.39.39.9.59 1.41.59.51 0 1.02-.2 1.41-.59l7.78-7.78 2.81-2.81c.8-.78.8-2.07 0-2.86zM5.41 20L4 18.59l7.72-7.72 1.47 1.35L5.41 20z\"/>\n",
       "  </svg>\n",
       "      </button>\n",
       "      \n",
       "  <style>\n",
       "    .colab-df-container {\n",
       "      display:flex;\n",
       "      flex-wrap:wrap;\n",
       "      gap: 12px;\n",
       "    }\n",
       "\n",
       "    .colab-df-convert {\n",
       "      background-color: #E8F0FE;\n",
       "      border: none;\n",
       "      border-radius: 50%;\n",
       "      cursor: pointer;\n",
       "      display: none;\n",
       "      fill: #1967D2;\n",
       "      height: 32px;\n",
       "      padding: 0 0 0 0;\n",
       "      width: 32px;\n",
       "    }\n",
       "\n",
       "    .colab-df-convert:hover {\n",
       "      background-color: #E2EBFA;\n",
       "      box-shadow: 0px 1px 2px rgba(60, 64, 67, 0.3), 0px 1px 3px 1px rgba(60, 64, 67, 0.15);\n",
       "      fill: #174EA6;\n",
       "    }\n",
       "\n",
       "    [theme=dark] .colab-df-convert {\n",
       "      background-color: #3B4455;\n",
       "      fill: #D2E3FC;\n",
       "    }\n",
       "\n",
       "    [theme=dark] .colab-df-convert:hover {\n",
       "      background-color: #434B5C;\n",
       "      box-shadow: 0px 1px 3px 1px rgba(0, 0, 0, 0.15);\n",
       "      filter: drop-shadow(0px 1px 2px rgba(0, 0, 0, 0.3));\n",
       "      fill: #FFFFFF;\n",
       "    }\n",
       "  </style>\n",
       "\n",
       "      <script>\n",
       "        const buttonEl =\n",
       "          document.querySelector('#df-f78901d7-81f8-4a88-a40a-062b7fdd0027 button.colab-df-convert');\n",
       "        buttonEl.style.display =\n",
       "          google.colab.kernel.accessAllowed ? 'block' : 'none';\n",
       "\n",
       "        async function convertToInteractive(key) {\n",
       "          const element = document.querySelector('#df-f78901d7-81f8-4a88-a40a-062b7fdd0027');\n",
       "          const dataTable =\n",
       "            await google.colab.kernel.invokeFunction('convertToInteractive',\n",
       "                                                     [key], {});\n",
       "          if (!dataTable) return;\n",
       "\n",
       "          const docLinkHtml = 'Like what you see? Visit the ' +\n",
       "            '<a target=\"_blank\" href=https://colab.research.google.com/notebooks/data_table.ipynb>data table notebook</a>'\n",
       "            + ' to learn more about interactive tables.';\n",
       "          element.innerHTML = '';\n",
       "          dataTable['output_type'] = 'display_data';\n",
       "          await google.colab.output.renderOutput(dataTable, element);\n",
       "          const docLink = document.createElement('div');\n",
       "          docLink.innerHTML = docLinkHtml;\n",
       "          element.appendChild(docLink);\n",
       "        }\n",
       "      </script>\n",
       "    </div>\n",
       "  </div>\n",
       "  "
      ],
      "text/plain": [
       "                High       Low      Open     Close       Volume  Adj Close\n",
       "Date                                                                      \n",
       "2010-01-04  7.660714  7.585000  7.622500  7.643214  493729600.0   6.526021\n",
       "2010-01-05  7.699643  7.616071  7.664286  7.656429  601904800.0   6.537304\n",
       "2010-01-06  7.686786  7.526786  7.656429  7.534643  552160000.0   6.433318\n",
       "2010-01-07  7.571429  7.466071  7.562500  7.520714  477131200.0   6.421427\n",
       "2010-01-08  7.571429  7.466429  7.510714  7.570714  447610800.0   6.464117"
      ]
     },
     "execution_count": 40,
     "metadata": {},
     "output_type": "execute_result"
    }
   ],
   "source": [
    "df = data.DataReader('AAPL', 'yahoo', start, end)\n",
    "df.head()"
   ]
  },
  {
   "cell_type": "code",
   "execution_count": 41,
   "metadata": {
    "colab": {
     "base_uri": "https://localhost:8080/"
    },
    "executionInfo": {
     "elapsed": 50,
     "status": "ok",
     "timestamp": 1666407736208,
     "user": {
      "displayName": "Reekdev Ray",
      "userId": "06160052425232836642"
     },
     "user_tz": -330
    },
    "id": "56jYm9GelE82",
    "outputId": "49c05444-fc77-4a18-8282-cb4af3d57f9f"
   },
   "outputs": [
    {
     "data": {
      "text/plain": [
       "(2516, 6)"
      ]
     },
     "execution_count": 41,
     "metadata": {},
     "output_type": "execute_result"
    }
   ],
   "source": [
    "df.shape"
   ]
  },
  {
   "cell_type": "code",
   "execution_count": 42,
   "metadata": {
    "executionInfo": {
     "elapsed": 45,
     "status": "ok",
     "timestamp": 1666407736210,
     "user": {
      "displayName": "Reekdev Ray",
      "userId": "06160052425232836642"
     },
     "user_tz": -330
    },
    "id": "G91A26_alpXm"
   },
   "outputs": [],
   "source": [
    "df = df.reset_index()"
   ]
  },
  {
   "cell_type": "code",
   "execution_count": 43,
   "metadata": {
    "colab": {
     "base_uri": "https://localhost:8080/",
     "height": 206
    },
    "executionInfo": {
     "elapsed": 45,
     "status": "ok",
     "timestamp": 1666407736211,
     "user": {
      "displayName": "Reekdev Ray",
      "userId": "06160052425232836642"
     },
     "user_tz": -330
    },
    "id": "-jMnYvhKmMjv",
    "outputId": "d7fd6ad2-4fd8-49d6-c087-9a9c0c423fa2"
   },
   "outputs": [
    {
     "data": {
      "text/html": [
       "\n",
       "  <div id=\"df-ffd57260-6f10-449b-93f9-6251a7deeb02\">\n",
       "    <div class=\"colab-df-container\">\n",
       "      <div>\n",
       "<style scoped>\n",
       "    .dataframe tbody tr th:only-of-type {\n",
       "        vertical-align: middle;\n",
       "    }\n",
       "\n",
       "    .dataframe tbody tr th {\n",
       "        vertical-align: top;\n",
       "    }\n",
       "\n",
       "    .dataframe thead th {\n",
       "        text-align: right;\n",
       "    }\n",
       "</style>\n",
       "<table border=\"1\" class=\"dataframe\">\n",
       "  <thead>\n",
       "    <tr style=\"text-align: right;\">\n",
       "      <th></th>\n",
       "      <th>Date</th>\n",
       "      <th>High</th>\n",
       "      <th>Low</th>\n",
       "      <th>Open</th>\n",
       "      <th>Close</th>\n",
       "      <th>Volume</th>\n",
       "      <th>Adj Close</th>\n",
       "    </tr>\n",
       "  </thead>\n",
       "  <tbody>\n",
       "    <tr>\n",
       "      <th>0</th>\n",
       "      <td>2010-01-04</td>\n",
       "      <td>7.660714</td>\n",
       "      <td>7.585000</td>\n",
       "      <td>7.622500</td>\n",
       "      <td>7.643214</td>\n",
       "      <td>493729600.0</td>\n",
       "      <td>6.526021</td>\n",
       "    </tr>\n",
       "    <tr>\n",
       "      <th>1</th>\n",
       "      <td>2010-01-05</td>\n",
       "      <td>7.699643</td>\n",
       "      <td>7.616071</td>\n",
       "      <td>7.664286</td>\n",
       "      <td>7.656429</td>\n",
       "      <td>601904800.0</td>\n",
       "      <td>6.537304</td>\n",
       "    </tr>\n",
       "    <tr>\n",
       "      <th>2</th>\n",
       "      <td>2010-01-06</td>\n",
       "      <td>7.686786</td>\n",
       "      <td>7.526786</td>\n",
       "      <td>7.656429</td>\n",
       "      <td>7.534643</td>\n",
       "      <td>552160000.0</td>\n",
       "      <td>6.433318</td>\n",
       "    </tr>\n",
       "    <tr>\n",
       "      <th>3</th>\n",
       "      <td>2010-01-07</td>\n",
       "      <td>7.571429</td>\n",
       "      <td>7.466071</td>\n",
       "      <td>7.562500</td>\n",
       "      <td>7.520714</td>\n",
       "      <td>477131200.0</td>\n",
       "      <td>6.421427</td>\n",
       "    </tr>\n",
       "    <tr>\n",
       "      <th>4</th>\n",
       "      <td>2010-01-08</td>\n",
       "      <td>7.571429</td>\n",
       "      <td>7.466429</td>\n",
       "      <td>7.510714</td>\n",
       "      <td>7.570714</td>\n",
       "      <td>447610800.0</td>\n",
       "      <td>6.464117</td>\n",
       "    </tr>\n",
       "  </tbody>\n",
       "</table>\n",
       "</div>\n",
       "      <button class=\"colab-df-convert\" onclick=\"convertToInteractive('df-ffd57260-6f10-449b-93f9-6251a7deeb02')\"\n",
       "              title=\"Convert this dataframe to an interactive table.\"\n",
       "              style=\"display:none;\">\n",
       "        \n",
       "  <svg xmlns=\"http://www.w3.org/2000/svg\" height=\"24px\"viewBox=\"0 0 24 24\"\n",
       "       width=\"24px\">\n",
       "    <path d=\"M0 0h24v24H0V0z\" fill=\"none\"/>\n",
       "    <path d=\"M18.56 5.44l.94 2.06.94-2.06 2.06-.94-2.06-.94-.94-2.06-.94 2.06-2.06.94zm-11 1L8.5 8.5l.94-2.06 2.06-.94-2.06-.94L8.5 2.5l-.94 2.06-2.06.94zm10 10l.94 2.06.94-2.06 2.06-.94-2.06-.94-.94-2.06-.94 2.06-2.06.94z\"/><path d=\"M17.41 7.96l-1.37-1.37c-.4-.4-.92-.59-1.43-.59-.52 0-1.04.2-1.43.59L10.3 9.45l-7.72 7.72c-.78.78-.78 2.05 0 2.83L4 21.41c.39.39.9.59 1.41.59.51 0 1.02-.2 1.41-.59l7.78-7.78 2.81-2.81c.8-.78.8-2.07 0-2.86zM5.41 20L4 18.59l7.72-7.72 1.47 1.35L5.41 20z\"/>\n",
       "  </svg>\n",
       "      </button>\n",
       "      \n",
       "  <style>\n",
       "    .colab-df-container {\n",
       "      display:flex;\n",
       "      flex-wrap:wrap;\n",
       "      gap: 12px;\n",
       "    }\n",
       "\n",
       "    .colab-df-convert {\n",
       "      background-color: #E8F0FE;\n",
       "      border: none;\n",
       "      border-radius: 50%;\n",
       "      cursor: pointer;\n",
       "      display: none;\n",
       "      fill: #1967D2;\n",
       "      height: 32px;\n",
       "      padding: 0 0 0 0;\n",
       "      width: 32px;\n",
       "    }\n",
       "\n",
       "    .colab-df-convert:hover {\n",
       "      background-color: #E2EBFA;\n",
       "      box-shadow: 0px 1px 2px rgba(60, 64, 67, 0.3), 0px 1px 3px 1px rgba(60, 64, 67, 0.15);\n",
       "      fill: #174EA6;\n",
       "    }\n",
       "\n",
       "    [theme=dark] .colab-df-convert {\n",
       "      background-color: #3B4455;\n",
       "      fill: #D2E3FC;\n",
       "    }\n",
       "\n",
       "    [theme=dark] .colab-df-convert:hover {\n",
       "      background-color: #434B5C;\n",
       "      box-shadow: 0px 1px 3px 1px rgba(0, 0, 0, 0.15);\n",
       "      filter: drop-shadow(0px 1px 2px rgba(0, 0, 0, 0.3));\n",
       "      fill: #FFFFFF;\n",
       "    }\n",
       "  </style>\n",
       "\n",
       "      <script>\n",
       "        const buttonEl =\n",
       "          document.querySelector('#df-ffd57260-6f10-449b-93f9-6251a7deeb02 button.colab-df-convert');\n",
       "        buttonEl.style.display =\n",
       "          google.colab.kernel.accessAllowed ? 'block' : 'none';\n",
       "\n",
       "        async function convertToInteractive(key) {\n",
       "          const element = document.querySelector('#df-ffd57260-6f10-449b-93f9-6251a7deeb02');\n",
       "          const dataTable =\n",
       "            await google.colab.kernel.invokeFunction('convertToInteractive',\n",
       "                                                     [key], {});\n",
       "          if (!dataTable) return;\n",
       "\n",
       "          const docLinkHtml = 'Like what you see? Visit the ' +\n",
       "            '<a target=\"_blank\" href=https://colab.research.google.com/notebooks/data_table.ipynb>data table notebook</a>'\n",
       "            + ' to learn more about interactive tables.';\n",
       "          element.innerHTML = '';\n",
       "          dataTable['output_type'] = 'display_data';\n",
       "          await google.colab.output.renderOutput(dataTable, element);\n",
       "          const docLink = document.createElement('div');\n",
       "          docLink.innerHTML = docLinkHtml;\n",
       "          element.appendChild(docLink);\n",
       "        }\n",
       "      </script>\n",
       "    </div>\n",
       "  </div>\n",
       "  "
      ],
      "text/plain": [
       "        Date      High       Low      Open     Close       Volume  Adj Close\n",
       "0 2010-01-04  7.660714  7.585000  7.622500  7.643214  493729600.0   6.526021\n",
       "1 2010-01-05  7.699643  7.616071  7.664286  7.656429  601904800.0   6.537304\n",
       "2 2010-01-06  7.686786  7.526786  7.656429  7.534643  552160000.0   6.433318\n",
       "3 2010-01-07  7.571429  7.466071  7.562500  7.520714  477131200.0   6.421427\n",
       "4 2010-01-08  7.571429  7.466429  7.510714  7.570714  447610800.0   6.464117"
      ]
     },
     "execution_count": 43,
     "metadata": {},
     "output_type": "execute_result"
    }
   ],
   "source": [
    "df.head()"
   ]
  },
  {
   "cell_type": "code",
   "execution_count": 44,
   "metadata": {
    "executionInfo": {
     "elapsed": 43,
     "status": "ok",
     "timestamp": 1666407736213,
     "user": {
      "displayName": "Reekdev Ray",
      "userId": "06160052425232836642"
     },
     "user_tz": -330
    },
    "id": "Ly5_X_gkmQcm"
   },
   "outputs": [],
   "source": [
    "df = df.drop(['Date', 'Adj Close'], axis = 1)"
   ]
  },
  {
   "cell_type": "code",
   "execution_count": 45,
   "metadata": {
    "colab": {
     "base_uri": "https://localhost:8080/",
     "height": 206
    },
    "executionInfo": {
     "elapsed": 43,
     "status": "ok",
     "timestamp": 1666407736214,
     "user": {
      "displayName": "Reekdev Ray",
      "userId": "06160052425232836642"
     },
     "user_tz": -330
    },
    "id": "Bk_Ne4VRo1oX",
    "outputId": "290dea7b-81d1-4bd1-8c6d-472c77fa377e"
   },
   "outputs": [
    {
     "data": {
      "text/html": [
       "\n",
       "  <div id=\"df-008159b7-3fbe-40dd-9fb6-84ebdd0ae20e\">\n",
       "    <div class=\"colab-df-container\">\n",
       "      <div>\n",
       "<style scoped>\n",
       "    .dataframe tbody tr th:only-of-type {\n",
       "        vertical-align: middle;\n",
       "    }\n",
       "\n",
       "    .dataframe tbody tr th {\n",
       "        vertical-align: top;\n",
       "    }\n",
       "\n",
       "    .dataframe thead th {\n",
       "        text-align: right;\n",
       "    }\n",
       "</style>\n",
       "<table border=\"1\" class=\"dataframe\">\n",
       "  <thead>\n",
       "    <tr style=\"text-align: right;\">\n",
       "      <th></th>\n",
       "      <th>High</th>\n",
       "      <th>Low</th>\n",
       "      <th>Open</th>\n",
       "      <th>Close</th>\n",
       "      <th>Volume</th>\n",
       "    </tr>\n",
       "  </thead>\n",
       "  <tbody>\n",
       "    <tr>\n",
       "      <th>0</th>\n",
       "      <td>7.660714</td>\n",
       "      <td>7.585000</td>\n",
       "      <td>7.622500</td>\n",
       "      <td>7.643214</td>\n",
       "      <td>493729600.0</td>\n",
       "    </tr>\n",
       "    <tr>\n",
       "      <th>1</th>\n",
       "      <td>7.699643</td>\n",
       "      <td>7.616071</td>\n",
       "      <td>7.664286</td>\n",
       "      <td>7.656429</td>\n",
       "      <td>601904800.0</td>\n",
       "    </tr>\n",
       "    <tr>\n",
       "      <th>2</th>\n",
       "      <td>7.686786</td>\n",
       "      <td>7.526786</td>\n",
       "      <td>7.656429</td>\n",
       "      <td>7.534643</td>\n",
       "      <td>552160000.0</td>\n",
       "    </tr>\n",
       "    <tr>\n",
       "      <th>3</th>\n",
       "      <td>7.571429</td>\n",
       "      <td>7.466071</td>\n",
       "      <td>7.562500</td>\n",
       "      <td>7.520714</td>\n",
       "      <td>477131200.0</td>\n",
       "    </tr>\n",
       "    <tr>\n",
       "      <th>4</th>\n",
       "      <td>7.571429</td>\n",
       "      <td>7.466429</td>\n",
       "      <td>7.510714</td>\n",
       "      <td>7.570714</td>\n",
       "      <td>447610800.0</td>\n",
       "    </tr>\n",
       "  </tbody>\n",
       "</table>\n",
       "</div>\n",
       "      <button class=\"colab-df-convert\" onclick=\"convertToInteractive('df-008159b7-3fbe-40dd-9fb6-84ebdd0ae20e')\"\n",
       "              title=\"Convert this dataframe to an interactive table.\"\n",
       "              style=\"display:none;\">\n",
       "        \n",
       "  <svg xmlns=\"http://www.w3.org/2000/svg\" height=\"24px\"viewBox=\"0 0 24 24\"\n",
       "       width=\"24px\">\n",
       "    <path d=\"M0 0h24v24H0V0z\" fill=\"none\"/>\n",
       "    <path d=\"M18.56 5.44l.94 2.06.94-2.06 2.06-.94-2.06-.94-.94-2.06-.94 2.06-2.06.94zm-11 1L8.5 8.5l.94-2.06 2.06-.94-2.06-.94L8.5 2.5l-.94 2.06-2.06.94zm10 10l.94 2.06.94-2.06 2.06-.94-2.06-.94-.94-2.06-.94 2.06-2.06.94z\"/><path d=\"M17.41 7.96l-1.37-1.37c-.4-.4-.92-.59-1.43-.59-.52 0-1.04.2-1.43.59L10.3 9.45l-7.72 7.72c-.78.78-.78 2.05 0 2.83L4 21.41c.39.39.9.59 1.41.59.51 0 1.02-.2 1.41-.59l7.78-7.78 2.81-2.81c.8-.78.8-2.07 0-2.86zM5.41 20L4 18.59l7.72-7.72 1.47 1.35L5.41 20z\"/>\n",
       "  </svg>\n",
       "      </button>\n",
       "      \n",
       "  <style>\n",
       "    .colab-df-container {\n",
       "      display:flex;\n",
       "      flex-wrap:wrap;\n",
       "      gap: 12px;\n",
       "    }\n",
       "\n",
       "    .colab-df-convert {\n",
       "      background-color: #E8F0FE;\n",
       "      border: none;\n",
       "      border-radius: 50%;\n",
       "      cursor: pointer;\n",
       "      display: none;\n",
       "      fill: #1967D2;\n",
       "      height: 32px;\n",
       "      padding: 0 0 0 0;\n",
       "      width: 32px;\n",
       "    }\n",
       "\n",
       "    .colab-df-convert:hover {\n",
       "      background-color: #E2EBFA;\n",
       "      box-shadow: 0px 1px 2px rgba(60, 64, 67, 0.3), 0px 1px 3px 1px rgba(60, 64, 67, 0.15);\n",
       "      fill: #174EA6;\n",
       "    }\n",
       "\n",
       "    [theme=dark] .colab-df-convert {\n",
       "      background-color: #3B4455;\n",
       "      fill: #D2E3FC;\n",
       "    }\n",
       "\n",
       "    [theme=dark] .colab-df-convert:hover {\n",
       "      background-color: #434B5C;\n",
       "      box-shadow: 0px 1px 3px 1px rgba(0, 0, 0, 0.15);\n",
       "      filter: drop-shadow(0px 1px 2px rgba(0, 0, 0, 0.3));\n",
       "      fill: #FFFFFF;\n",
       "    }\n",
       "  </style>\n",
       "\n",
       "      <script>\n",
       "        const buttonEl =\n",
       "          document.querySelector('#df-008159b7-3fbe-40dd-9fb6-84ebdd0ae20e button.colab-df-convert');\n",
       "        buttonEl.style.display =\n",
       "          google.colab.kernel.accessAllowed ? 'block' : 'none';\n",
       "\n",
       "        async function convertToInteractive(key) {\n",
       "          const element = document.querySelector('#df-008159b7-3fbe-40dd-9fb6-84ebdd0ae20e');\n",
       "          const dataTable =\n",
       "            await google.colab.kernel.invokeFunction('convertToInteractive',\n",
       "                                                     [key], {});\n",
       "          if (!dataTable) return;\n",
       "\n",
       "          const docLinkHtml = 'Like what you see? Visit the ' +\n",
       "            '<a target=\"_blank\" href=https://colab.research.google.com/notebooks/data_table.ipynb>data table notebook</a>'\n",
       "            + ' to learn more about interactive tables.';\n",
       "          element.innerHTML = '';\n",
       "          dataTable['output_type'] = 'display_data';\n",
       "          await google.colab.output.renderOutput(dataTable, element);\n",
       "          const docLink = document.createElement('div');\n",
       "          docLink.innerHTML = docLinkHtml;\n",
       "          element.appendChild(docLink);\n",
       "        }\n",
       "      </script>\n",
       "    </div>\n",
       "  </div>\n",
       "  "
      ],
      "text/plain": [
       "       High       Low      Open     Close       Volume\n",
       "0  7.660714  7.585000  7.622500  7.643214  493729600.0\n",
       "1  7.699643  7.616071  7.664286  7.656429  601904800.0\n",
       "2  7.686786  7.526786  7.656429  7.534643  552160000.0\n",
       "3  7.571429  7.466071  7.562500  7.520714  477131200.0\n",
       "4  7.571429  7.466429  7.510714  7.570714  447610800.0"
      ]
     },
     "execution_count": 45,
     "metadata": {},
     "output_type": "execute_result"
    }
   ],
   "source": [
    "df.head()"
   ]
  },
  {
   "cell_type": "code",
   "execution_count": 52,
   "metadata": {
    "executionInfo": {
     "elapsed": 445,
     "status": "ok",
     "timestamp": 1666407942246,
     "user": {
      "displayName": "Reekdev Ray",
      "userId": "06160052425232836642"
     },
     "user_tz": -330
    },
    "id": "NdofDBI7pHSH"
   },
   "outputs": [],
   "source": [
    "MA100 = df.Close.rolling(100).mean()\n",
    "MA200 = df.Close.rolling(200).mean()"
   ]
  },
  {
   "cell_type": "code",
   "execution_count": 57,
   "metadata": {
    "colab": {
     "base_uri": "https://localhost:8080/",
     "height": 501
    },
    "executionInfo": {
     "elapsed": 1181,
     "status": "ok",
     "timestamp": 1666408028264,
     "user": {
      "displayName": "Reekdev Ray",
      "userId": "06160052425232836642"
     },
     "user_tz": -330
    },
    "id": "UUvqxHl_pVsw",
    "outputId": "97baad55-5dca-4542-c394-c54d83c59aa6"
   },
   "outputs": [
    {
     "data": {
      "text/plain": [
       "[<matplotlib.lines.Line2D at 0x7f08f111ea90>]"
      ]
     },
     "execution_count": 57,
     "metadata": {},
     "output_type": "execute_result"
    },
    {
     "data": {
      "image/png": "[encoded data removed]",
      "text/plain": [
       "<Figure size 1296x576 with 1 Axes>"
      ]
     },
     "metadata": {
      "needs_background": "light"
     },
     "output_type": "display_data"
    }
   ],
   "source": [
    "plt.figure(figsize = (18, 8))\n",
    "plt.plot(df.Close, 'green')\n",
    "plt.plot(MA100, 'red')\n",
    "plt.plot(MA200, 'blue')"
   ]
  },
  {
   "cell_type": "code",
   "execution_count": 58,
   "metadata": {
    "colab": {
     "base_uri": "https://localhost:8080/"
    },
    "executionInfo": {
     "elapsed": 511,
     "status": "ok",
     "timestamp": 1666408112484,
     "user": {
      "displayName": "Reekdev Ray",
      "userId": "06160052425232836642"
     },
     "user_tz": -330
    },
    "id": "OrEh5gHLpobo",
    "outputId": "c140e30b-4cfd-4fa2-8822-e25b8d5398e4"
   },
   "outputs": [
    {
     "data": {
      "text/plain": [
       "(2516, 5)"
      ]
     },
     "execution_count": 58,
     "metadata": {},
     "output_type": "execute_result"
    }
   ],
   "source": [
    "df.shape"
   ]
  },
  {
   "cell_type": "code",
   "execution_count": 61,
   "metadata": {
    "executionInfo": {
     "elapsed": 489,
     "status": "ok",
     "timestamp": 1666408426144,
     "user": {
      "displayName": "Reekdev Ray",
      "userId": "06160052425232836642"
     },
     "user_tz": -330
    },
    "id": "BBU0ftyvqdoo"
   },
   "outputs": [],
   "source": [
    "# splitting the data into training and testing\n",
    "data_training = pd.DataFrame(df['Close'][0 : int(len(df)*0.70)])\n",
    "data_testing = pd.DataFrame(df['Close'][int(len(df)*0.70) : int(len(df))])"
   ]
  },
  {
   "cell_type": "code",
   "execution_count": 62,
   "metadata": {
    "colab": {
     "base_uri": "https://localhost:8080/"
    },
    "executionInfo": {
     "elapsed": 12,
     "status": "ok",
     "timestamp": 1666408427684,
     "user": {
      "displayName": "Reekdev Ray",
      "userId": "06160052425232836642"
     },
     "user_tz": -330
    },
    "id": "Wg44usXIrZDh",
    "outputId": "db3183d4-6912-4c50-9b5e-600f662f120b"
   },
   "outputs": [
    {
     "name": "stdout",
     "output_type": "stream",
     "text": [
      "(1761, 1)\n",
      "(755, 1)\n"
     ]
    }
   ],
   "source": [
    "print(data_training.shape)\n",
    "print(data_testing.shape)"
   ]
  },
  {
   "cell_type": "code",
   "execution_count": 64,
   "metadata": {
    "executionInfo": {
     "elapsed": 13,
     "status": "ok",
     "timestamp": 1666408538673,
     "user": {
      "displayName": "Reekdev Ray",
      "userId": "06160052425232836642"
     },
     "user_tz": -330
    },
    "id": "iBCOfJeerhN4"
   },
   "outputs": [],
   "source": [
    "# scaling down the data\n",
    "from sklearn.preprocessing import MinMaxScaler\n",
    "scaler = MinMaxScaler(feature_range=(0,1))"
   ]
  },
  {
   "cell_type": "code",
   "execution_count": 65,
   "metadata": {
    "colab": {
     "base_uri": "https://localhost:8080/"
    },
    "executionInfo": {
     "elapsed": 22,
     "status": "ok",
     "timestamp": 1666408573827,
     "user": {
      "displayName": "Reekdev Ray",
      "userId": "06160052425232836642"
     },
     "user_tz": -330
    },
    "id": "Vq3OnBg5sDNh",
    "outputId": "2c7faebc-b930-49b5-9fad-4ee845b16310"
   },
   "outputs": [
    {
     "data": {
      "text/plain": [
       "array([[0.02971782],\n",
       "       [0.03021854],\n",
       "       [0.02560389],\n",
       "       ...,\n",
       "       [0.85089656],\n",
       "       [0.84616011],\n",
       "       [0.84587593]])"
      ]
     },
     "execution_count": 65,
     "metadata": {},
     "output_type": "execute_result"
    }
   ],
   "source": [
    "data_training_array = scaler.fit_transform(data_training)\n",
    "data_training_array"
   ]
  },
  {
   "cell_type": "code",
   "execution_count": 66,
   "metadata": {
    "colab": {
     "base_uri": "https://localhost:8080/",
     "output_embedded_package_id": "1QzETw3aFN_TRcCswshRhYV-bBrnY8lwK"
    },
    "executionInfo": {
     "elapsed": 2469,
     "status": "ok",
     "timestamp": 1666408749978,
     "user": {
      "displayName": "Reekdev Ray",
      "userId": "06160052425232836642"
     },
     "user_tz": -330
    },
    "id": "PxDLSZJJsOeK",
    "outputId": "8bdb8d66-e30a-465d-bd38-6d61f3f608c6"
   },
   "outputs": [
    {
     "data": {
      "text/plain": [
       "Output hidden; open in https://colab.research.google.com to view."
      ]
     },
     "metadata": {},
     "output_type": "display_data"
    }
   ],
   "source": [
    "# divide the data into x_train and y_train\n",
    "\n",
    "x_train = []\n",
    "y_train = []\n",
    "\n",
    "for i in range(100, data_training_array.shape[0]):\n",
    "  x_train.append(data_training_array[i-100: i])\n",
    "  y_train.append(data_training_array[i, 0])\n",
    "\n",
    "x_train"
   ]
  },
  {
   "cell_type": "code",
   "execution_count": 67,
   "metadata": {
    "executionInfo": {
     "elapsed": 18,
     "status": "ok",
     "timestamp": 1666408815793,
     "user": {
      "displayName": "Reekdev Ray",
      "userId": "06160052425232836642"
     },
     "user_tz": -330
    },
    "id": "UDP2vJn5s42E"
   },
   "outputs": [],
   "source": [
    "# converting this into NumPy arrays so that we can feed this into the LSTM model\n",
    "x_train, y_train = np.array(x_train), np.array(y_train)"
   ]
  },
  {
   "cell_type": "code",
   "execution_count": 72,
   "metadata": {
    "colab": {
     "base_uri": "https://localhost:8080/"
    },
    "executionInfo": {
     "elapsed": 731,
     "status": "ok",
     "timestamp": 1666409517490,
     "user": {
      "displayName": "Reekdev Ray",
      "userId": "06160052425232836642"
     },
     "user_tz": -330
    },
    "id": "88wUQo-ttJY0",
    "outputId": "ae5d04d7-4fba-44eb-b092-3063f1fc2537"
   },
   "outputs": [
    {
     "name": "stdout",
     "output_type": "stream",
     "text": [
      "Model: \"sequential_3\"\n",
      "_________________________________________________________________\n",
      " Layer (type)                Output Shape              Param #   \n",
      "=================================================================\n",
      " lstm_7 (LSTM)               (None, 100, 50)           10400     \n",
      "                                                                 \n",
      " dropout_5 (Dropout)         (None, 100, 50)           0         \n",
      "                                                                 \n",
      " lstm_8 (LSTM)               (None, 100, 60)           26640     \n",
      "                                                                 \n",
      " dropout_6 (Dropout)         (None, 100, 60)           0         \n",
      "                                                                 \n",
      " lstm_9 (LSTM)               (None, 100, 80)           45120     \n",
      "                                                                 \n",
      " dropout_7 (Dropout)         (None, 100, 80)           0         \n",
      "                                                                 \n",
      " lstm_10 (LSTM)              (None, 120)               96480     \n",
      "                                                                 \n",
      " dropout_8 (Dropout)         (None, 120)               0         \n",
      "                                                                 \n",
      " dense_1 (Dense)             (None, 1)                 121       \n",
      "                                                                 \n",
      "=================================================================\n",
      "Total params: 178,761\n",
      "Trainable params: 178,761\n",
      "Non-trainable params: 0\n",
      "_________________________________________________________________\n"
     ]
    }
   ],
   "source": [
    "# model\n",
    "from keras.layers import Dense, Dropout, LSTM\n",
    "from keras.models import Sequential\n",
    "\n",
    "model = Sequential()\n",
    "# layer-1\n",
    "model.add(LSTM(units = 50,\n",
    "               activation = 'relu',\n",
    "               return_sequences = True,\n",
    "               input_shape = (x_train.shape[1], 1)))\n",
    "model.add(Dropout(0.2))\n",
    "\n",
    "# layer-2\n",
    "model.add(LSTM(units = 60,\n",
    "               activation = 'relu',\n",
    "               return_sequences = True))\n",
    "model.add(Dropout(0.3))\n",
    "\n",
    "# layer-3\n",
    "model.add(LSTM(units = 80,\n",
    "               activation = 'relu',\n",
    "               return_sequences = True))\n",
    "model.add(Dropout(0.4))\n",
    "\n",
    "# layer-4\n",
    "model.add(LSTM(units = 120,\n",
    "               activation = 'relu'))\n",
    "model.add(Dropout(0.5))\n",
    "\n",
    "# dense layer to connect all this models\n",
    "model.add(Dense(units = 1))\n",
    "\n",
    "\n",
    "# getting the summary of the model\n",
    "model.summary()"
   ]
  },
  {
   "cell_type": "code",
   "execution_count": 73,
   "metadata": {
    "colab": {
     "base_uri": "https://localhost:8080/"
    },
    "executionInfo": {
     "elapsed": 492197,
     "status": "ok",
     "timestamp": 1666410331381,
     "user": {
      "displayName": "Reekdev Ray",
      "userId": "06160052425232836642"
     },
     "user_tz": -330
    },
    "id": "-I9F0Ibbv0mu",
    "outputId": "b90f28b2-bd2a-4078-8361-7a0dfb843b2c"
   },
   "outputs": [
    {
     "name": "stdout",
     "output_type": "stream",
     "text": [
      "Epoch 1/50\n",
      "52/52 [==============================] - 14s 184ms/step - loss: 0.0679\n",
      "Epoch 2/50\n",
      "52/52 [==============================] - 10s 185ms/step - loss: 0.0137\n",
      "Epoch 3/50\n",
      "52/52 [==============================] - 10s 187ms/step - loss: 0.0104\n",
      "Epoch 4/50\n",
      "52/52 [==============================] - 10s 185ms/step - loss: 0.0094\n",
      "Epoch 5/50\n",
      "52/52 [==============================] - 10s 183ms/step - loss: 0.0093\n",
      "Epoch 6/50\n",
      "52/52 [==============================] - 11s 217ms/step - loss: 0.0087\n",
      "Epoch 7/50\n",
      "52/52 [==============================] - 10s 200ms/step - loss: 0.0079\n",
      "Epoch 8/50\n",
      "52/52 [==============================] - 11s 211ms/step - loss: 0.0076\n",
      "Epoch 9/50\n",
      "52/52 [==============================] - 10s 185ms/step - loss: 0.0079\n",
      "Epoch 10/50\n",
      "52/52 [==============================] - 10s 185ms/step - loss: 0.0076\n",
      "Epoch 11/50\n",
      "52/52 [==============================] - 10s 185ms/step - loss: 0.0076\n",
      "Epoch 12/50\n",
      "52/52 [==============================] - 10s 184ms/step - loss: 0.0068\n",
      "Epoch 13/50\n",
      "52/52 [==============================] - 10s 183ms/step - loss: 0.0074\n",
      "Epoch 14/50\n",
      "52/52 [==============================] - 10s 186ms/step - loss: 0.0068\n",
      "Epoch 15/50\n",
      "52/52 [==============================] - 10s 187ms/step - loss: 0.0066\n",
      "Epoch 16/50\n",
      "52/52 [==============================] - 10s 184ms/step - loss: 0.0066\n",
      "Epoch 17/50\n",
      "52/52 [==============================] - 10s 184ms/step - loss: 0.0058\n",
      "Epoch 18/50\n",
      "52/52 [==============================] - 10s 186ms/step - loss: 0.0062\n",
      "Epoch 19/50\n",
      "52/52 [==============================] - 10s 186ms/step - loss: 0.0064\n",
      "Epoch 20/50\n",
      "52/52 [==============================] - 10s 199ms/step - loss: 0.0057\n",
      "Epoch 21/50\n",
      "52/52 [==============================] - 10s 185ms/step - loss: 0.0056\n",
      "Epoch 22/50\n",
      "52/52 [==============================] - 10s 188ms/step - loss: 0.0054\n",
      "Epoch 23/50\n",
      "52/52 [==============================] - 10s 186ms/step - loss: 0.0060\n",
      "Epoch 24/50\n",
      "52/52 [==============================] - 10s 186ms/step - loss: 0.0049\n",
      "Epoch 25/50\n",
      "52/52 [==============================] - 10s 187ms/step - loss: 0.0053\n",
      "Epoch 26/50\n",
      "52/52 [==============================] - 10s 188ms/step - loss: 0.0045\n",
      "Epoch 27/50\n",
      "52/52 [==============================] - 10s 187ms/step - loss: 0.0047\n",
      "Epoch 28/50\n",
      "52/52 [==============================] - 10s 187ms/step - loss: 0.0043\n",
      "Epoch 29/50\n",
      "52/52 [==============================] - 10s 187ms/step - loss: 0.0047\n",
      "Epoch 30/50\n",
      "52/52 [==============================] - 10s 187ms/step - loss: 0.0047\n",
      "Epoch 31/50\n",
      "52/52 [==============================] - 10s 187ms/step - loss: 0.0045\n",
      "Epoch 32/50\n",
      "52/52 [==============================] - 10s 199ms/step - loss: 0.0047\n",
      "Epoch 33/50\n",
      "52/52 [==============================] - 10s 184ms/step - loss: 0.0042\n",
      "Epoch 34/50\n",
      "52/52 [==============================] - 10s 185ms/step - loss: 0.0043\n",
      "Epoch 35/50\n",
      "52/52 [==============================] - 10s 185ms/step - loss: 0.0045\n",
      "Epoch 36/50\n",
      "52/52 [==============================] - 10s 184ms/step - loss: 0.0040\n",
      "Epoch 37/50\n",
      "52/52 [==============================] - 10s 185ms/step - loss: 0.0042\n",
      "Epoch 38/50\n",
      "52/52 [==============================] - 10s 184ms/step - loss: 0.0037\n",
      "Epoch 39/50\n",
      "52/52 [==============================] - 10s 185ms/step - loss: 0.0037\n",
      "Epoch 40/50\n",
      "52/52 [==============================] - 10s 185ms/step - loss: 0.0036\n",
      "Epoch 41/50\n",
      "52/52 [==============================] - 10s 184ms/step - loss: 0.0038\n",
      "Epoch 42/50\n",
      "52/52 [==============================] - 10s 184ms/step - loss: 0.0037\n",
      "Epoch 43/50\n",
      "52/52 [==============================] - 10s 186ms/step - loss: 0.0037\n",
      "Epoch 44/50\n",
      "52/52 [==============================] - 10s 199ms/step - loss: 0.0038\n",
      "Epoch 45/50\n",
      "52/52 [==============================] - 10s 184ms/step - loss: 0.0032\n",
      "Epoch 46/50\n",
      "52/52 [==============================] - 10s 184ms/step - loss: 0.0033\n",
      "Epoch 47/50\n",
      "52/52 [==============================] - 10s 185ms/step - loss: 0.0032\n",
      "Epoch 48/50\n",
      "52/52 [==============================] - 10s 185ms/step - loss: 0.0033\n",
      "Epoch 49/50\n",
      "52/52 [==============================] - 10s 184ms/step - loss: 0.0036\n",
      "Epoch 50/50\n",
      "52/52 [==============================] - 10s 186ms/step - loss: 0.0032\n"
     ]
    },
    {
     "data": {
      "text/plain": [
       "<keras.callbacks.History at 0x7f088567a250>"
      ]
     },
     "execution_count": 73,
     "metadata": {},
     "output_type": "execute_result"
    }
   ],
   "source": [
    "model.compile(optimizer='adam', loss='mean_squared_error')\n",
    "model.fit(x_train, y_train, epochs=50)"
   ]
  },
  {
   "cell_type": "code",
   "execution_count": 74,
   "metadata": {
    "executionInfo": {
     "elapsed": 453,
     "status": "ok",
     "timestamp": 1666410575986,
     "user": {
      "displayName": "Reekdev Ray",
      "userId": "06160052425232836642"
     },
     "user_tz": -330
    },
    "id": "8Cr5_UZEzy7N"
   },
   "outputs": [],
   "source": [
    "# saving the model\n",
    "model.save('keras_model.h5')"
   ]
  },
  {
   "cell_type": "code",
   "execution_count": 75,
   "metadata": {
    "colab": {
     "base_uri": "https://localhost:8080/",
     "height": 206
    },
    "executionInfo": {
     "elapsed": 34,
     "status": "ok",
     "timestamp": 1666410657083,
     "user": {
      "displayName": "Reekdev Ray",
      "userId": "06160052425232836642"
     },
     "user_tz": -330
    },
    "id": "QKbZvyGOz3Jy",
    "outputId": "f699eefb-67de-40cd-b0a4-e85f6cf5ad81"
   },
   "outputs": [
    {
     "data": {
      "text/html": [
       "\n",
       "  <div id=\"df-b4247f32-fbad-457a-bb87-b9f2ceb4129a\">\n",
       "    <div class=\"colab-df-container\">\n",
       "      <div>\n",
       "<style scoped>\n",
       "    .dataframe tbody tr th:only-of-type {\n",
       "        vertical-align: middle;\n",
       "    }\n",
       "\n",
       "    .dataframe tbody tr th {\n",
       "        vertical-align: top;\n",
       "    }\n",
       "\n",
       "    .dataframe thead th {\n",
       "        text-align: right;\n",
       "    }\n",
       "</style>\n",
       "<table border=\"1\" class=\"dataframe\">\n",
       "  <thead>\n",
       "    <tr style=\"text-align: right;\">\n",
       "      <th></th>\n",
       "      <th>Close</th>\n",
       "    </tr>\n",
       "  </thead>\n",
       "  <tbody>\n",
       "    <tr>\n",
       "      <th>1761</th>\n",
       "      <td>28.955000</td>\n",
       "    </tr>\n",
       "    <tr>\n",
       "      <th>1762</th>\n",
       "      <td>29.037500</td>\n",
       "    </tr>\n",
       "    <tr>\n",
       "      <th>1763</th>\n",
       "      <td>29.004999</td>\n",
       "    </tr>\n",
       "    <tr>\n",
       "      <th>1764</th>\n",
       "      <td>29.152500</td>\n",
       "    </tr>\n",
       "    <tr>\n",
       "      <th>1765</th>\n",
       "      <td>29.477501</td>\n",
       "    </tr>\n",
       "  </tbody>\n",
       "</table>\n",
       "</div>\n",
       "      <button class=\"colab-df-convert\" onclick=\"convertToInteractive('df-b4247f32-fbad-457a-bb87-b9f2ceb4129a')\"\n",
       "              title=\"Convert this dataframe to an interactive table.\"\n",
       "              style=\"display:none;\">\n",
       "        \n",
       "  <svg xmlns=\"http://www.w3.org/2000/svg\" height=\"24px\"viewBox=\"0 0 24 24\"\n",
       "       width=\"24px\">\n",
       "    <path d=\"M0 0h24v24H0V0z\" fill=\"none\"/>\n",
       "    <path d=\"M18.56 5.44l.94 2.06.94-2.06 2.06-.94-2.06-.94-.94-2.06-.94 2.06-2.06.94zm-11 1L8.5 8.5l.94-2.06 2.06-.94-2.06-.94L8.5 2.5l-.94 2.06-2.06.94zm10 10l.94 2.06.94-2.06 2.06-.94-2.06-.94-.94-2.06-.94 2.06-2.06.94z\"/><path d=\"M17.41 7.96l-1.37-1.37c-.4-.4-.92-.59-1.43-.59-.52 0-1.04.2-1.43.59L10.3 9.45l-7.72 7.72c-.78.78-.78 2.05 0 2.83L4 21.41c.39.39.9.59 1.41.59.51 0 1.02-.2 1.41-.59l7.78-7.78 2.81-2.81c.8-.78.8-2.07 0-2.86zM5.41 20L4 18.59l7.72-7.72 1.47 1.35L5.41 20z\"/>\n",
       "  </svg>\n",
       "      </button>\n",
       "      \n",
       "  <style>\n",
       "    .colab-df-container {\n",
       "      display:flex;\n",
       "      flex-wrap:wrap;\n",
       "      gap: 12px;\n",
       "    }\n",
       "\n",
       "    .colab-df-convert {\n",
       "      background-color: #E8F0FE;\n",
       "      border: none;\n",
       "      border-radius: 50%;\n",
       "      cursor: pointer;\n",
       "      display: none;\n",
       "      fill: #1967D2;\n",
       "      height: 32px;\n",
       "      padding: 0 0 0 0;\n",
       "      width: 32px;\n",
       "    }\n",
       "\n",
       "    .colab-df-convert:hover {\n",
       "      background-color: #E2EBFA;\n",
       "      box-shadow: 0px 1px 2px rgba(60, 64, 67, 0.3), 0px 1px 3px 1px rgba(60, 64, 67, 0.15);\n",
       "      fill: #174EA6;\n",
       "    }\n",
       "\n",
       "    [theme=dark] .colab-df-convert {\n",
       "      background-color: #3B4455;\n",
       "      fill: #D2E3FC;\n",
       "    }\n",
       "\n",
       "    [theme=dark] .colab-df-convert:hover {\n",
       "      background-color: #434B5C;\n",
       "      box-shadow: 0px 1px 3px 1px rgba(0, 0, 0, 0.15);\n",
       "      filter: drop-shadow(0px 1px 2px rgba(0, 0, 0, 0.3));\n",
       "      fill: #FFFFFF;\n",
       "    }\n",
       "  </style>\n",
       "\n",
       "      <script>\n",
       "        const buttonEl =\n",
       "          document.querySelector('#df-b4247f32-fbad-457a-bb87-b9f2ceb4129a button.colab-df-convert');\n",
       "        buttonEl.style.display =\n",
       "          google.colab.kernel.accessAllowed ? 'block' : 'none';\n",
       "\n",
       "        async function convertToInteractive(key) {\n",
       "          const element = document.querySelector('#df-b4247f32-fbad-457a-bb87-b9f2ceb4129a');\n",
       "          const dataTable =\n",
       "            await google.colab.kernel.invokeFunction('convertToInteractive',\n",
       "                                                     [key], {});\n",
       "          if (!dataTable) return;\n",
       "\n",
       "          const docLinkHtml = 'Like what you see? Visit the ' +\n",
       "            '<a target=\"_blank\" href=https://colab.research.google.com/notebooks/data_table.ipynb>data table notebook</a>'\n",
       "            + ' to learn more about interactive tables.';\n",
       "          element.innerHTML = '';\n",
       "          dataTable['output_type'] = 'display_data';\n",
       "          await google.colab.output.renderOutput(dataTable, element);\n",
       "          const docLink = document.createElement('div');\n",
       "          docLink.innerHTML = docLinkHtml;\n",
       "          element.appendChild(docLink);\n",
       "        }\n",
       "      </script>\n",
       "    </div>\n",
       "  </div>\n",
       "  "
      ],
      "text/plain": [
       "          Close\n",
       "1761  28.955000\n",
       "1762  29.037500\n",
       "1763  29.004999\n",
       "1764  29.152500\n",
       "1765  29.477501"
      ]
     },
     "execution_count": 75,
     "metadata": {},
     "output_type": "execute_result"
    }
   ],
   "source": [
    "data_testing.head()"
   ]
  },
  {
   "cell_type": "code",
   "execution_count": 76,
   "metadata": {
    "executionInfo": {
     "elapsed": 17,
     "status": "ok",
     "timestamp": 1666410799592,
     "user": {
      "displayName": "Reekdev Ray",
      "userId": "06160052425232836642"
     },
     "user_tz": -330
    },
    "id": "3ejFCYZ70LAC"
   },
   "outputs": [],
   "source": [
    "past_100_days = data_training.tail(100)"
   ]
  },
  {
   "cell_type": "code",
   "execution_count": 77,
   "metadata": {
    "executionInfo": {
     "elapsed": 10,
     "status": "ok",
     "timestamp": 1666410831881,
     "user": {
      "displayName": "Reekdev Ray",
      "userId": "06160052425232836642"
     },
     "user_tz": -330
    },
    "id": "KiMY9zfO0t1j"
   },
   "outputs": [],
   "source": [
    "final_df = past_100_days.append(data_testing, ignore_index=True)"
   ]
  },
  {
   "cell_type": "code",
   "execution_count": 78,
   "metadata": {
    "colab": {
     "base_uri": "https://localhost:8080/",
     "height": 206
    },
    "executionInfo": {
     "elapsed": 15,
     "status": "ok",
     "timestamp": 1666410862954,
     "user": {
      "displayName": "Reekdev Ray",
      "userId": "06160052425232836642"
     },
     "user_tz": -330
    },
    "id": "KTd6yW2A01lz",
    "outputId": "a0e2d455-4590-4ea4-c6d2-53b10d301e12"
   },
   "outputs": [
    {
     "data": {
      "text/html": [
       "\n",
       "  <div id=\"df-f25c3559-4dae-4f20-afed-ed86b6a38945\">\n",
       "    <div class=\"colab-df-container\">\n",
       "      <div>\n",
       "<style scoped>\n",
       "    .dataframe tbody tr th:only-of-type {\n",
       "        vertical-align: middle;\n",
       "    }\n",
       "\n",
       "    .dataframe tbody tr th {\n",
       "        vertical-align: top;\n",
       "    }\n",
       "\n",
       "    .dataframe thead th {\n",
       "        text-align: right;\n",
       "    }\n",
       "</style>\n",
       "<table border=\"1\" class=\"dataframe\">\n",
       "  <thead>\n",
       "    <tr style=\"text-align: right;\">\n",
       "      <th></th>\n",
       "      <th>Close</th>\n",
       "    </tr>\n",
       "  </thead>\n",
       "  <tbody>\n",
       "    <tr>\n",
       "      <th>0</th>\n",
       "      <td>27.202499</td>\n",
       "    </tr>\n",
       "    <tr>\n",
       "      <th>1</th>\n",
       "      <td>27.000000</td>\n",
       "    </tr>\n",
       "    <tr>\n",
       "      <th>2</th>\n",
       "      <td>26.982500</td>\n",
       "    </tr>\n",
       "    <tr>\n",
       "      <th>3</th>\n",
       "      <td>27.045000</td>\n",
       "    </tr>\n",
       "    <tr>\n",
       "      <th>4</th>\n",
       "      <td>27.370001</td>\n",
       "    </tr>\n",
       "  </tbody>\n",
       "</table>\n",
       "</div>\n",
       "      <button class=\"colab-df-convert\" onclick=\"convertToInteractive('df-f25c3559-4dae-4f20-afed-ed86b6a38945')\"\n",
       "              title=\"Convert this dataframe to an interactive table.\"\n",
       "              style=\"display:none;\">\n",
       "        \n",
       "  <svg xmlns=\"http://www.w3.org/2000/svg\" height=\"24px\"viewBox=\"0 0 24 24\"\n",
       "       width=\"24px\">\n",
       "    <path d=\"M0 0h24v24H0V0z\" fill=\"none\"/>\n",
       "    <path d=\"M18.56 5.44l.94 2.06.94-2.06 2.06-.94-2.06-.94-.94-2.06-.94 2.06-2.06.94zm-11 1L8.5 8.5l.94-2.06 2.06-.94-2.06-.94L8.5 2.5l-.94 2.06-2.06.94zm10 10l.94 2.06.94-2.06 2.06-.94-2.06-.94-.94-2.06-.94 2.06-2.06.94z\"/><path d=\"M17.41 7.96l-1.37-1.37c-.4-.4-.92-.59-1.43-.59-.52 0-1.04.2-1.43.59L10.3 9.45l-7.72 7.72c-.78.78-.78 2.05 0 2.83L4 21.41c.39.39.9.59 1.41.59.51 0 1.02-.2 1.41-.59l7.78-7.78 2.81-2.81c.8-.78.8-2.07 0-2.86zM5.41 20L4 18.59l7.72-7.72 1.47 1.35L5.41 20z\"/>\n",
       "  </svg>\n",
       "      </button>\n",
       "      \n",
       "  <style>\n",
       "    .colab-df-container {\n",
       "      display:flex;\n",
       "      flex-wrap:wrap;\n",
       "      gap: 12px;\n",
       "    }\n",
       "\n",
       "    .colab-df-convert {\n",
       "      background-color: #E8F0FE;\n",
       "      border: none;\n",
       "      border-radius: 50%;\n",
       "      cursor: pointer;\n",
       "      display: none;\n",
       "      fill: #1967D2;\n",
       "      height: 32px;\n",
       "      padding: 0 0 0 0;\n",
       "      width: 32px;\n",
       "    }\n",
       "\n",
       "    .colab-df-convert:hover {\n",
       "      background-color: #E2EBFA;\n",
       "      box-shadow: 0px 1px 2px rgba(60, 64, 67, 0.3), 0px 1px 3px 1px rgba(60, 64, 67, 0.15);\n",
       "      fill: #174EA6;\n",
       "    }\n",
       "\n",
       "    [theme=dark] .colab-df-convert {\n",
       "      background-color: #3B4455;\n",
       "      fill: #D2E3FC;\n",
       "    }\n",
       "\n",
       "    [theme=dark] .colab-df-convert:hover {\n",
       "      background-color: #434B5C;\n",
       "      box-shadow: 0px 1px 3px 1px rgba(0, 0, 0, 0.15);\n",
       "      filter: drop-shadow(0px 1px 2px rgba(0, 0, 0, 0.3));\n",
       "      fill: #FFFFFF;\n",
       "    }\n",
       "  </style>\n",
       "\n",
       "      <script>\n",
       "        const buttonEl =\n",
       "          document.querySelector('#df-f25c3559-4dae-4f20-afed-ed86b6a38945 button.colab-df-convert');\n",
       "        buttonEl.style.display =\n",
       "          google.colab.kernel.accessAllowed ? 'block' : 'none';\n",
       "\n",
       "        async function convertToInteractive(key) {\n",
       "          const element = document.querySelector('#df-f25c3559-4dae-4f20-afed-ed86b6a38945');\n",
       "          const dataTable =\n",
       "            await google.colab.kernel.invokeFunction('convertToInteractive',\n",
       "                                                     [key], {});\n",
       "          if (!dataTable) return;\n",
       "\n",
       "          const docLinkHtml = 'Like what you see? Visit the ' +\n",
       "            '<a target=\"_blank\" href=https://colab.research.google.com/notebooks/data_table.ipynb>data table notebook</a>'\n",
       "            + ' to learn more about interactive tables.';\n",
       "          element.innerHTML = '';\n",
       "          dataTable['output_type'] = 'display_data';\n",
       "          await google.colab.output.renderOutput(dataTable, element);\n",
       "          const docLink = document.createElement('div');\n",
       "          docLink.innerHTML = docLinkHtml;\n",
       "          element.appendChild(docLink);\n",
       "        }\n",
       "      </script>\n",
       "    </div>\n",
       "  </div>\n",
       "  "
      ],
      "text/plain": [
       "       Close\n",
       "0  27.202499\n",
       "1  27.000000\n",
       "2  26.982500\n",
       "3  27.045000\n",
       "4  27.370001"
      ]
     },
     "execution_count": 78,
     "metadata": {},
     "output_type": "execute_result"
    }
   ],
   "source": [
    "final_df.head()"
   ]
  },
  {
   "cell_type": "code",
   "execution_count": 79,
   "metadata": {
    "colab": {
     "base_uri": "https://localhost:8080/"
    },
    "executionInfo": {
     "elapsed": 490,
     "status": "ok",
     "timestamp": 1666410941709,
     "user": {
      "displayName": "Reekdev Ray",
      "userId": "06160052425232836642"
     },
     "user_tz": -330
    },
    "id": "3MwG1Jih09Uc",
    "outputId": "c3bb2320-14e7-4910-9d1b-8f6070f79f7a"
   },
   "outputs": [
    {
     "data": {
      "text/plain": [
       "array([[0.02981315],\n",
       "       [0.02556164],\n",
       "       [0.02519422],\n",
       "       [0.02650642],\n",
       "       [0.03332987],\n",
       "       [0.03280496],\n",
       "       [0.03196517],\n",
       "       [0.03123034],\n",
       "       [0.0327    ],\n",
       "       [0.02823853],\n",
       "       [0.0300231 ],\n",
       "       [0.02571909],\n",
       "       [0.02330465],\n",
       "       [0.01999793],\n",
       "       [0.01936806],\n",
       "       [0.01506405],\n",
       "       [0.01558892],\n",
       "       [0.01889569],\n",
       "       [0.02414448],\n",
       "       [0.02398698],\n",
       "       [0.0274512 ],\n",
       "       [0.01254461],\n",
       "       [0.        ],\n",
       "       [0.01212474],\n",
       "       [0.02529918],\n",
       "       [0.04534957],\n",
       "       [0.065295  ],\n",
       "       [0.06188327],\n",
       "       [0.05484991],\n",
       "       [0.05479741],\n",
       "       [0.05469245],\n",
       "       [0.06030866],\n",
       "       [0.05028345],\n",
       "       [0.05117573],\n",
       "       [0.05227797],\n",
       "       [0.05679194],\n",
       "       [0.04750159],\n",
       "       [0.05206806],\n",
       "       [0.04928616],\n",
       "       [0.0518056 ],\n",
       "       [0.05206806],\n",
       "       [0.05647702],\n",
       "       [0.05736931],\n",
       "       [0.06781443],\n",
       "       [0.06912663],\n",
       "       [0.07458534],\n",
       "       [0.07269581],\n",
       "       [0.0761075 ],\n",
       "       [0.07568762],\n",
       "       [0.07526771],\n",
       "       [0.07343064],\n",
       "       [0.07311569],\n",
       "       [0.07070125],\n",
       "       [0.07621249],\n",
       "       [0.07936176],\n",
       "       [0.06539995],\n",
       "       [0.05957383],\n",
       "       [0.05558474],\n",
       "       [0.05463995],\n",
       "       [0.04387991],\n",
       "       [0.04440478],\n",
       "       [0.03516694],\n",
       "       [0.0299706 ],\n",
       "       [0.03821125],\n",
       "       [0.04162293],\n",
       "       [0.04067814],\n",
       "       [0.02445939],\n",
       "       [0.02781862],\n",
       "       [0.0135419 ],\n",
       "       [0.02089021],\n",
       "       [0.03600672],\n",
       "       [0.03579677],\n",
       "       [0.03637414],\n",
       "       [0.04513965],\n",
       "       [0.04550706],\n",
       "       [0.04251525],\n",
       "       [0.04545457],\n",
       "       [0.04429982],\n",
       "       [0.04372245],\n",
       "       [0.03878858],\n",
       "       [0.03338233],\n",
       "       [0.03553435],\n",
       "       [0.0313878 ],\n",
       "       [0.03579677],\n",
       "       [0.04146547],\n",
       "       [0.04718668],\n",
       "       [0.05679194],\n",
       "       [0.05338025],\n",
       "       [0.06330047],\n",
       "       [0.06330047],\n",
       "       [0.06660719],\n",
       "       [0.06739452],\n",
       "       [0.0709112 ],\n",
       "       [0.07253832],\n",
       "       [0.07311569],\n",
       "       [0.06907413],\n",
       "       [0.07028133],\n",
       "       [0.07416547],\n",
       "       [0.07154107],\n",
       "       [0.07138362],\n",
       "       [0.06660719],\n",
       "       [0.06833931],\n",
       "       [0.06765694],\n",
       "       [0.07075375],\n",
       "       [0.07757719],\n",
       "       [0.08324586],\n",
       "       [0.08387573],\n",
       "       [0.08723495],\n",
       "       [0.08461056],\n",
       "       [0.08350831],\n",
       "       [0.08854715],\n",
       "       [0.08849465],\n",
       "       [0.08739241],\n",
       "       [0.08854715],\n",
       "       [0.08896706],\n",
       "       [0.08838969],\n",
       "       [0.09841487],\n",
       "       [0.09872982],\n",
       "       [0.09878228],\n",
       "       [0.09710267],\n",
       "       [0.09563301],\n",
       "       [0.13447409],\n",
       "       [0.13331935],\n",
       "       [0.1362062 ],\n",
       "       [0.14255719],\n",
       "       [0.14906573],\n",
       "       [0.15174258],\n",
       "       [0.15373715],\n",
       "       [0.15216249],\n",
       "       [0.15830357],\n",
       "       [0.16738404],\n",
       "       [0.1699559 ],\n",
       "       [0.16911615],\n",
       "       [0.17105818],\n",
       "       [0.17620198],\n",
       "       [0.178354  ],\n",
       "       [0.17530969],\n",
       "       [0.17599206],\n",
       "       [0.17740917],\n",
       "       [0.17772417],\n",
       "       [0.19242073],\n",
       "       [0.1880643 ],\n",
       "       [0.19236827],\n",
       "       [0.19005879],\n",
       "       [0.19100361],\n",
       "       [0.18827421],\n",
       "       [0.18659456],\n",
       "       [0.18900904],\n",
       "       [0.18932396],\n",
       "       [0.18822176],\n",
       "       [0.19593749],\n",
       "       [0.19714469],\n",
       "       [0.19347055],\n",
       "       [0.20118628],\n",
       "       [0.19268318],\n",
       "       [0.20097628],\n",
       "       [0.19835189],\n",
       "       [0.19688223],\n",
       "       [0.19814197],\n",
       "       [0.21346844],\n",
       "       [0.21514801],\n",
       "       [0.21415073],\n",
       "       [0.21273361],\n",
       "       [0.21294353],\n",
       "       [0.21855977],\n",
       "       [0.21462318],\n",
       "       [0.21273361],\n",
       "       [0.21105396],\n",
       "       [0.21016167],\n",
       "       [0.20207857],\n",
       "       [0.20297085],\n",
       "       [0.19903426],\n",
       "       [0.20312831],\n",
       "       [0.19982154],\n",
       "       [0.19709215],\n",
       "       [0.20633007],\n",
       "       [0.20543779],\n",
       "       [0.21262861],\n",
       "       [0.21730003],\n",
       "       [0.21283853],\n",
       "       [0.2134159 ],\n",
       "       [0.21268107],\n",
       "       [0.22806007],\n",
       "       [0.23294141],\n",
       "       [0.23057947],\n",
       "       [0.22779762],\n",
       "       [0.24055223],\n",
       "       [0.26180977],\n",
       "       [0.26695365],\n",
       "       [0.26312197],\n",
       "       [0.26674365],\n",
       "       [0.2780286 ],\n",
       "       [0.27592904],\n",
       "       [0.27472184],\n",
       "       [0.24732313],\n",
       "       [0.25934283],\n",
       "       [0.26207223],\n",
       "       [0.26695365],\n",
       "       [0.26595637],\n",
       "       [0.26354189],\n",
       "       [0.26632374],\n",
       "       [0.26495908],\n",
       "       [0.265274  ],\n",
       "       [0.26049758],\n",
       "       [0.26270206],\n",
       "       [0.27461684],\n",
       "       [0.26663865],\n",
       "       [0.26936805],\n",
       "       [0.27419693],\n",
       "       [0.27220244],\n",
       "       [0.24065715],\n",
       "       [0.22197146],\n",
       "       [0.22811253],\n",
       "       [0.2206068 ],\n",
       "       [0.21604029],\n",
       "       [0.20543779],\n",
       "       [0.22680034],\n",
       "       [0.21981943],\n",
       "       [0.2243334 ],\n",
       "       [0.22307374],\n",
       "       [0.22648542],\n",
       "       [0.22407102],\n",
       "       [0.21310098],\n",
       "       [0.22412348],\n",
       "       [0.21283853],\n",
       "       [0.21462318],\n",
       "       [0.21189378],\n",
       "       [0.21499055],\n",
       "       [0.20785219],\n",
       "       [0.21546292],\n",
       "       [0.22008189],\n",
       "       [0.22254883],\n",
       "       [0.22365111],\n",
       "       [0.23430615],\n",
       "       [0.24097206],\n",
       "       [0.24370145],\n",
       "       [0.24643085],\n",
       "       [0.25136473],\n",
       "       [0.24779551],\n",
       "       [0.24742813],\n",
       "       [0.25698089],\n",
       "       [0.26039266],\n",
       "       [0.26417179],\n",
       "       [0.24895025],\n",
       "       [0.24338654],\n",
       "       [0.23934495],\n",
       "       [0.24627339],\n",
       "       [0.28348731],\n",
       "       [0.27524675],\n",
       "       [0.27955072],\n",
       "       [0.29225279],\n",
       "       [0.29891878],\n",
       "       [0.30406257],\n",
       "       [0.27393455],\n",
       "       [0.28527188],\n",
       "       [0.29771158],\n",
       "       [0.30689697],\n",
       "       [0.3034852 ],\n",
       "       [0.28726645],\n",
       "       [0.28537688],\n",
       "       [0.28385477],\n",
       "       [0.29734412],\n",
       "       [0.29839387],\n",
       "       [0.29466727],\n",
       "       [0.29776404],\n",
       "       [0.3062146 ],\n",
       "       [0.31377287],\n",
       "       [0.31608235],\n",
       "       [0.31949404],\n",
       "       [0.31975649],\n",
       "       [0.30941636],\n",
       "       [0.30852408],\n",
       "       [0.30511232],\n",
       "       [0.29130804],\n",
       "       [0.30637205],\n",
       "       [0.30301283],\n",
       "       [0.29666176],\n",
       "       [0.28947093],\n",
       "       [0.29786904],\n",
       "       [0.29151796],\n",
       "       [0.29183288],\n",
       "       [0.27787115],\n",
       "       [0.26380434],\n",
       "       [0.25593115],\n",
       "       [0.24889779],\n",
       "       [0.26249214],\n",
       "       [0.26821331],\n",
       "       [0.26322697],\n",
       "       [0.26763594],\n",
       "       [0.26600882],\n",
       "       [0.26952551],\n",
       "       [0.26427671],\n",
       "       [0.27430193],\n",
       "       [0.27382955],\n",
       "       [0.27666387],\n",
       "       [0.27697878],\n",
       "       [0.28039055],\n",
       "       [0.27750369],\n",
       "       [0.28270003],\n",
       "       [0.29786904],\n",
       "       [0.3009658 ],\n",
       "       [0.29723913],\n",
       "       [0.2773987 ],\n",
       "       [0.27881589],\n",
       "       [0.27839598],\n",
       "       [0.2832774 ],\n",
       "       [0.27965572],\n",
       "       [0.28490451],\n",
       "       [0.3145077 ],\n",
       "       [0.33377076],\n",
       "       [0.34594792],\n",
       "       [0.33466304],\n",
       "       [0.34106658],\n",
       "       [0.36410878],\n",
       "       [0.37329416],\n",
       "       [0.37623347],\n",
       "       [0.38373929],\n",
       "       [0.38184972],\n",
       "       [0.37549865],\n",
       "       [0.37182451],\n",
       "       [0.35802016],\n",
       "       [0.34615791],\n",
       "       [0.3567605 ],\n",
       "       [0.35177408],\n",
       "       [0.3508818 ],\n",
       "       [0.367468  ],\n",
       "       [0.37702084],\n",
       "       [0.3770733 ],\n",
       "       [0.37245434],\n",
       "       [0.36710063],\n",
       "       [0.3482574 ],\n",
       "       [0.36069709],\n",
       "       [0.35649804],\n",
       "       [0.34993705],\n",
       "       [0.34909723],\n",
       "       [0.34579046],\n",
       "       [0.34741765],\n",
       "       [0.34768003],\n",
       "       [0.36500106],\n",
       "       [0.35990973],\n",
       "       [0.36290158],\n",
       "       [0.36263912],\n",
       "       [0.37182451],\n",
       "       [0.38468403],\n",
       "       [0.37481628],\n",
       "       [0.37381907],\n",
       "       [0.37728322],\n",
       "       [0.37728322],\n",
       "       [0.35397864],\n",
       "       [0.3541361 ],\n",
       "       [0.3566555 ],\n",
       "       [0.3469452 ],\n",
       "       [0.36284904],\n",
       "       [0.36269158],\n",
       "       [0.36689063],\n",
       "       [0.37723076],\n",
       "       [0.37381907],\n",
       "       [0.37371408],\n",
       "       [0.37350408],\n",
       "       [0.37870041],\n",
       "       [0.38820072],\n",
       "       [0.38347683],\n",
       "       [0.39875084],\n",
       "       [0.39959059],\n",
       "       [0.39539162],\n",
       "       [0.38772834],\n",
       "       [0.38793826],\n",
       "       [0.37313671],\n",
       "       [0.35681296],\n",
       "       [0.35891244],\n",
       "       [0.34027929],\n",
       "       [0.33508296],\n",
       "       [0.33749736],\n",
       "       [0.33933447],\n",
       "       [0.30112326],\n",
       "       [0.28007563],\n",
       "       [0.3144027 ],\n",
       "       [0.29608438],\n",
       "       [0.27304219],\n",
       "       [0.27965572],\n",
       "       [0.31272313],\n",
       "       [0.32127861],\n",
       "       [0.33718244],\n",
       "       [0.36668071],\n",
       "       [0.36374132],\n",
       "       [0.36069709],\n",
       "       [0.35660304],\n",
       "       [0.36410878],\n",
       "       [0.37985515],\n",
       "       [0.39806847],\n",
       "       [0.39502416],\n",
       "       [0.39360697],\n",
       "       [0.37723076],\n",
       "       [0.38358183],\n",
       "       [0.3867836 ],\n",
       "       [0.38599623],\n",
       "       [0.37738822],\n",
       "       [0.38741343],\n",
       "       [0.40336972],\n",
       "       [0.41250265],\n",
       "       [0.40331726],\n",
       "       [0.39528662],\n",
       "       [0.39638882],\n",
       "       [0.39308213],\n",
       "       [0.37880541],\n",
       "       [0.3784905 ],\n",
       "       [0.35765278],\n",
       "       [0.34495071],\n",
       "       [0.32442791],\n",
       "       [0.36552597],\n",
       "       [0.34227378],\n",
       "       [0.33251102],\n",
       "       [0.33933447],\n",
       "       [0.33356076],\n",
       "       [0.34253623],\n",
       "       [0.35943735],\n",
       "       [0.36568343],\n",
       "       [0.34248377],\n",
       "       [0.35124925],\n",
       "       [0.36804537],\n",
       "       [0.36379386],\n",
       "       [0.37271679],\n",
       "       [0.37581356],\n",
       "       [0.38153481],\n",
       "       [0.39423688],\n",
       "       [0.39213731],\n",
       "       [0.36568343],\n",
       "       [0.32852197],\n",
       "       [0.32600257],\n",
       "       [0.31393033],\n",
       "       [0.31765693],\n",
       "       [0.32064878],\n",
       "       [0.3106761 ],\n",
       "       [0.32610749],\n",
       "       [0.34626291],\n",
       "       [0.3854714 ],\n",
       "       [0.38715097],\n",
       "       [0.42357761],\n",
       "       [0.43055851],\n",
       "       [0.43522994],\n",
       "       [0.44210584],\n",
       "       [0.45617257],\n",
       "       [0.44856183],\n",
       "       [0.44625235],\n",
       "       [0.43727696],\n",
       "       [0.44640981],\n",
       "       [0.44016381],\n",
       "       [0.43659459],\n",
       "       [0.44352304],\n",
       "       [0.4410561 ],\n",
       "       [0.44735463],\n",
       "       [0.44625235],\n",
       "       [0.44850937],\n",
       "       [0.44494015],\n",
       "       [0.44284067],\n",
       "       [0.4395339 ],\n",
       "       [0.45722239],\n",
       "       [0.46556795],\n",
       "       [0.47333614],\n",
       "       [0.47685282],\n",
       "       [0.47412351],\n",
       "       [0.46488558],\n",
       "       [0.46241864],\n",
       "       [0.46792989],\n",
       "       [0.45963679],\n",
       "       [0.4601617 ],\n",
       "       [0.44987403],\n",
       "       [0.4493492 ],\n",
       "       [0.43334037],\n",
       "       [0.43759188],\n",
       "       [0.43213317],\n",
       "       [0.42929877],\n",
       "       [0.41486459],\n",
       "       [0.42672684],\n",
       "       [0.42530972],\n",
       "       [0.43234308],\n",
       "       [0.43029606],\n",
       "       [0.44116102],\n",
       "       [0.42404998],\n",
       "       [0.43181817],\n",
       "       [0.44530761],\n",
       "       [0.45900696],\n",
       "       [0.45779976],\n",
       "       [0.44483524],\n",
       "       [0.4613689 ],\n",
       "       [0.46294356],\n",
       "       [0.46073907],\n",
       "       [0.46357338],\n",
       "       [0.45806214],\n",
       "       [0.46583041],\n",
       "       [0.46352093],\n",
       "       [0.46441321],\n",
       "       [0.47170903],\n",
       "       [0.48126187],\n",
       "       [0.4780601 ],\n",
       "       [0.46110645],\n",
       "       [0.45549028],\n",
       "       [0.45748477],\n",
       "       [0.51632377],\n",
       "       [0.54723916],\n",
       "       [0.55038846],\n",
       "       [0.55605717],\n",
       "       [0.5457695 ],\n",
       "       [0.54650433],\n",
       "       [0.55505989],\n",
       "       [0.54797398],\n",
       "       [0.55500735],\n",
       "       [0.55962631],\n",
       "       [0.56219825],\n",
       "       [0.57836454],\n",
       "       [0.60072437],\n",
       "       [0.58959695],\n",
       "       [0.58739239],\n",
       "       [0.58744493],\n",
       "       [0.58975441],\n",
       "       [0.59327109],\n",
       "       [0.60261394],\n",
       "       [0.61185178],\n",
       "       [0.62906782],\n",
       "       [0.63982786],\n",
       "       [0.65347475],\n",
       "       [0.65730635],\n",
       "       [0.64948562],\n",
       "       [0.62969773],\n",
       "       [0.62024988],\n",
       "       [0.60466096],\n",
       "       [0.63363432],\n",
       "       [0.61904268],\n",
       "       [0.64707122],\n",
       "       [0.63358178],\n",
       "       [0.60229902],\n",
       "       [0.60418859],\n",
       "       [0.60487088],\n",
       "       [0.61358389],\n",
       "       [0.60114428],\n",
       "       [0.61757295],\n",
       "       [0.62492131],\n",
       "       [0.61563092],\n",
       "       [0.63940795],\n",
       "       [0.64355454],\n",
       "       [0.65153264],\n",
       "       [0.66213523],\n",
       "       [0.67677941],\n",
       "       [0.65536432],\n",
       "       [0.63594372],\n",
       "       [0.63321441],\n",
       "       [0.64948562],\n",
       "       [0.59432083],\n",
       "       [0.58429562],\n",
       "       [0.62450139],\n",
       "       [0.59956963],\n",
       "       [0.62471131],\n",
       "       [0.61967251],\n",
       "       [0.59253626],\n",
       "       [0.60980476],\n",
       "       [0.61683812],\n",
       "       [0.62775562],\n",
       "       [0.58765484],\n",
       "       [0.61237669],\n",
       "       [0.59400592],\n",
       "       [0.57269583],\n",
       "       [0.57825954],\n",
       "       [0.60744282],\n",
       "       [0.62507876],\n",
       "       [0.54771153],\n",
       "       [0.51679614],\n",
       "       [0.52823855],\n",
       "       [0.56067605],\n",
       "       [0.55301286],\n",
       "       [0.53191269],\n",
       "       [0.47785011],\n",
       "       [0.46766744],\n",
       "       [0.43916653],\n",
       "       [0.46336347],\n",
       "       [0.47449088],\n",
       "       [0.43423265],\n",
       "       [0.38762335],\n",
       "       [0.3865736 ],\n",
       "       [0.36300649],\n",
       "       [0.37523619],\n",
       "       [0.3732417 ],\n",
       "       [0.4084086 ],\n",
       "       [0.40111278],\n",
       "       [0.39602145],\n",
       "       [0.42877394],\n",
       "       [0.38610123],\n",
       "       [0.3757611 ],\n",
       "       [0.34306115],\n",
       "       [0.34888731],\n",
       "       [0.34379597],\n",
       "       [0.34626291],\n",
       "       [0.35597313],\n",
       "       [0.32726223],\n",
       "       [0.31917912],\n",
       "       [0.33035908],\n",
       "       [0.30317029],\n",
       "       [0.2818602 ],\n",
       "       [0.24984253],\n",
       "       [0.22937227],\n",
       "       [0.28364477],\n",
       "       [0.27829098],\n",
       "       [0.27871089],\n",
       "       [0.28663662],\n",
       "       [0.28758137],\n",
       "       [0.20501788],\n",
       "       [0.23687801],\n",
       "       [0.2351459 ],\n",
       "       [0.24994753],\n",
       "       [0.26338443],\n",
       "       [0.26595637],\n",
       "       [0.25803064],\n",
       "       [0.24601094],\n",
       "       [0.26212477],\n",
       "       [0.27193999],\n",
       "       [0.27676887],\n",
       "       [0.28180774],\n",
       "       [0.26333197],\n",
       "       [0.26658619],\n",
       "       [0.26018266],\n",
       "       [0.28674154],\n",
       "       [0.27907835],\n",
       "       [0.27057525],\n",
       "       [0.32605503],\n",
       "       [0.3323011 ],\n",
       "       [0.33272102],\n",
       "       [0.35754778],\n",
       "       [0.37292671],\n",
       "       [0.3732417 ],\n",
       "       [0.35592067],\n",
       "       [0.35313882],\n",
       "       [0.34799494],\n",
       "       [0.35565822],\n",
       "       [0.35193154],\n",
       "       [0.35518584],\n",
       "       [0.35319128],\n",
       "       [0.35586813],\n",
       "       [0.36164184],\n",
       "       [0.3565505 ],\n",
       "       [0.36657571],\n",
       "       [0.37318917],\n",
       "       [0.37371408],\n",
       "       [0.37654839],\n",
       "       [0.36752046],\n",
       "       [0.3770733 ],\n",
       "       [0.38169226],\n",
       "       [0.38001261],\n",
       "       [0.37471136],\n",
       "       [0.36410878],\n",
       "       [0.3662608 ],\n",
       "       [0.39770102],\n",
       "       [0.40825114],\n",
       "       [0.41245019],\n",
       "       [0.4230527 ],\n",
       "       [0.43559731],\n",
       "       [0.44557006],\n",
       "       [0.43774933],\n",
       "       [0.44630489],\n",
       "       [0.48267899],\n",
       "       [0.4614739 ],\n",
       "       [0.4493492 ],\n",
       "       [0.43911399],\n",
       "       [0.447932  ],\n",
       "       [0.4492442 ],\n",
       "       [0.4557002 ],\n",
       "       [0.46247118],\n",
       "       [0.47706282],\n",
       "       [0.48404372],\n",
       "       [0.4858283 ],\n",
       "       [0.4927042 ],\n",
       "       [0.50897549],\n",
       "       [0.50582618],\n",
       "       [0.51170481],\n",
       "       [0.50293933],\n",
       "       [0.50251942],\n",
       "       [0.50440899],\n",
       "       [0.50451399],\n",
       "       [0.52487933],\n",
       "       [0.52871092],\n",
       "       [0.53222761],\n",
       "       [0.54771153],\n",
       "       [0.54603196],\n",
       "       [0.5361642 ],\n",
       "       [0.53102041],\n",
       "       [0.53264752],\n",
       "       [0.51196726],\n",
       "       [0.5636679 ],\n",
       "       [0.556477  ],\n",
       "       [0.5701239 ],\n",
       "       [0.55296032],\n",
       "       [0.52346213],\n",
       "       [0.52367205],\n",
       "       [0.51222972],\n",
       "       [0.49364895],\n",
       "       [0.43349782],\n",
       "       [0.44892929],\n",
       "       [0.46079153],\n",
       "       [0.45638256],\n",
       "       [0.45071386],\n",
       "       [0.41969347],\n",
       "       [0.43811679],\n",
       "       [0.41806636],\n",
       "       [0.40169015],\n",
       "       [0.39806847],\n",
       "       [0.39418434],\n",
       "       [0.38972291],\n",
       "       [0.39455179],\n",
       "       [0.37759821],\n",
       "       [0.36830783],\n",
       "       [0.40158515],\n",
       "       [0.41680662],\n",
       "       [0.43087343],\n",
       "       [0.45674994],\n",
       "       [0.46950455],\n",
       "       [0.48120933],\n",
       "       [0.47795511],\n",
       "       [0.47774511],\n",
       "       [0.47034437],\n",
       "       [0.47638045],\n",
       "       [0.50031493],\n",
       "       [0.49727063],\n",
       "       [0.50561627],\n",
       "       [0.50204705],\n",
       "       [0.5009973 ],\n",
       "       [0.48519847],\n",
       "       [0.50740084],\n",
       "       [0.50708592],\n",
       "       [0.49753308],\n",
       "       [0.51658622],\n",
       "       [0.52277976],\n",
       "       [0.53159778],\n",
       "       [0.53065295],\n",
       "       [0.50855558],\n",
       "       [0.51495911],\n",
       "       [0.52540416],\n",
       "       [0.51763597],\n",
       "       [0.52577161],\n",
       "       [0.53579683],\n",
       "       [0.53207015],\n",
       "       [0.52603407],\n",
       "       [0.53815877],\n",
       "       [0.52204493],\n",
       "       [0.54634687],\n",
       "       [0.55484989],\n",
       "       [0.5539576 ],\n",
       "       [0.54529713],\n",
       "       [0.54907627],\n",
       "       [0.55925886],\n",
       "       [0.55453497],\n",
       "       [0.5768948 ],\n",
       "       [0.55269787],\n",
       "       [0.52955075],\n",
       "       [0.4734936 ],\n",
       "       [0.4927042 ],\n",
       "       [0.5034117 ],\n",
       "       [0.5264539 ],\n",
       "       [0.51364691],\n",
       "       [0.51096998],\n",
       "       [0.55553226],\n",
       "       [0.52288476],\n",
       "       [0.51758351],\n",
       "       [0.54256773],\n",
       "       [0.56277562],\n",
       "       [0.56282808],\n",
       "       [0.57479532],\n",
       "       [0.57385057],\n",
       "       [0.52230739],\n",
       "       [0.54251527],\n",
       "       [0.53028558],\n",
       "       [0.5374764 ],\n",
       "       [0.55574217],\n",
       "       [0.55432506],\n",
       "       [0.53836868],\n",
       "       [0.556687  ],\n",
       "       [0.57815454],\n",
       "       [0.57804954],\n",
       "       [0.58282597],\n",
       "       [0.5961054 ],\n",
       "       [0.63226958],\n",
       "       [0.62964519],\n",
       "       [0.60686545],\n",
       "       [0.61290153],\n",
       "       [0.61710058],\n",
       "       [0.62796562],\n",
       "       [0.61846531],\n",
       "       [0.60151165],\n",
       "       [0.60670799],\n",
       "       [0.6012492 ],\n",
       "       [0.61883269],\n",
       "       [0.61284907],\n",
       "       [0.6072329 ],\n",
       "       [0.63426415],\n",
       "       [0.63751838],\n",
       "       [0.60796773],\n",
       "       [0.61773049],\n",
       "       [0.65022045],\n",
       "       [0.6504829 ],\n",
       "       [0.63652109],\n",
       "       [0.65032544],\n",
       "       [0.66638674],\n",
       "       [0.6985094 ],\n",
       "       [0.69672475],\n",
       "       [0.69383798],\n",
       "       [0.68885157],\n",
       "       [0.69362799],\n",
       "       [0.69955915],\n",
       "       [0.72107915],\n",
       "       [0.71819238],\n",
       "       [0.73509342],\n",
       "       [0.73719298],\n",
       "       [0.75293936],\n",
       "       [0.76590389],\n",
       "       [0.73567079],\n",
       "       [0.73551333],\n",
       "       [0.76438169],\n",
       "       [0.80143824],\n",
       "       [0.81025617],\n",
       "       [0.80831414],\n",
       "       [0.80889143],\n",
       "       [0.8203863 ],\n",
       "       [0.82411306],\n",
       "       [0.83492556],\n",
       "       [0.83366574],\n",
       "       [0.84684026],\n",
       "       [0.83723504],\n",
       "       [0.85361125],\n",
       "       [0.86064461],\n",
       "       [0.8563931 ],\n",
       "       [0.84012181],\n",
       "       [0.83392828],\n",
       "       [0.832721  ],\n",
       "       [0.85681294],\n",
       "       [0.84589552],\n",
       "       [0.86452867],\n",
       "       [0.8614319 ],\n",
       "       [0.84521315],\n",
       "       [0.82049138],\n",
       "       [0.832511  ],\n",
       "       [0.85266635],\n",
       "       [0.87959268],\n",
       "       [0.85969987],\n",
       "       [0.86788797],\n",
       "       [0.87990759],\n",
       "       [0.88352927],\n",
       "       [0.90289733],\n",
       "       [0.9276191 ],\n",
       "       [0.93050603],\n",
       "       [0.92698927],\n",
       "       [0.92845893],\n",
       "       [0.9254147 ],\n",
       "       [0.94934918],\n",
       "       [0.9507663 ],\n",
       "       [0.98036957],\n",
       "       [0.97979212],\n",
       "       [0.98882005],\n",
       "       [1.        ]])"
      ]
     },
     "execution_count": 79,
     "metadata": {},
     "output_type": "execute_result"
    }
   ],
   "source": [
    "input_data = scaler.fit_transform(final_df)\n",
    "input_data"
   ]
  },
  {
   "cell_type": "code",
   "execution_count": 80,
   "metadata": {
    "colab": {
     "base_uri": "https://localhost:8080/"
    },
    "executionInfo": {
     "elapsed": 13,
     "status": "ok",
     "timestamp": 1666410956083,
     "user": {
      "displayName": "Reekdev Ray",
      "userId": "06160052425232836642"
     },
     "user_tz": -330
    },
    "id": "SBmAUAYR1QX7",
    "outputId": "315e1562-7e55-4e26-b852-580f3959f928"
   },
   "outputs": [
    {
     "data": {
      "text/plain": [
       "(855, 1)"
      ]
     },
     "execution_count": 80,
     "metadata": {},
     "output_type": "execute_result"
    }
   ],
   "source": [
    "input_data.shape"
   ]
  },
  {
   "cell_type": "code",
   "execution_count": 130,
   "metadata": {
    "executionInfo": {
     "elapsed": 10,
     "status": "ok",
     "timestamp": 1666412452168,
     "user": {
      "displayName": "Reekdev Ray",
      "userId": "06160052425232836642"
     },
     "user_tz": -330
    },
    "id": "atSg2ao11T5L"
   },
   "outputs": [],
   "source": [
    "x_test = []\n",
    "y_test = []\n",
    "\n",
    "for i in range(100, input_data.shape[0]):\n",
    "  x_test.append(input_data[i-100: i])\n",
    "  y_test.append(input_data[i, 0])"
   ]
  },
  {
   "cell_type": "code",
   "execution_count": 131,
   "metadata": {
    "executionInfo": {
     "elapsed": 420,
     "status": "ok",
     "timestamp": 1666412454621,
     "user": {
      "displayName": "Reekdev Ray",
      "userId": "06160052425232836642"
     },
     "user_tz": -330
    },
    "id": "zHLzDqlr1oTb"
   },
   "outputs": [],
   "source": [
    "x_test, y_test = np.array(x_test), np.array(y_test)"
   ]
  },
  {
   "cell_type": "code",
   "execution_count": 132,
   "metadata": {
    "colab": {
     "base_uri": "https://localhost:8080/"
    },
    "executionInfo": {
     "elapsed": 463,
     "status": "ok",
     "timestamp": 1666412457007,
     "user": {
      "displayName": "Reekdev Ray",
      "userId": "06160052425232836642"
     },
     "user_tz": -330
    },
    "id": "gRBJ5WT51uyT",
    "outputId": "c91845cc-f30e-44c5-99f1-e5be8b57a771"
   },
   "outputs": [
    {
     "name": "stdout",
     "output_type": "stream",
     "text": [
      "(755, 100, 1)\n",
      "(755,)\n"
     ]
    }
   ],
   "source": [
    "print(x_test.shape)\n",
    "print(y_test.shape)"
   ]
  },
  {
   "cell_type": "code",
   "execution_count": 133,
   "metadata": {
    "colab": {
     "base_uri": "https://localhost:8080/"
    },
    "executionInfo": {
     "elapsed": 1849,
     "status": "ok",
     "timestamp": 1666412461511,
     "user": {
      "displayName": "Reekdev Ray",
      "userId": "06160052425232836642"
     },
     "user_tz": -330
    },
    "id": "ctSdR4-r10Lj",
    "outputId": "77fb0e44-73cb-4fdd-90cd-03665220ebaa"
   },
   "outputs": [
    {
     "name": "stdout",
     "output_type": "stream",
     "text": [
      "24/24 [==============================] - 1s 52ms/step\n"
     ]
    }
   ],
   "source": [
    "# making predictions\n",
    "\n",
    "y_predicted = model.predict(x_test)"
   ]
  },
  {
   "cell_type": "code",
   "execution_count": 134,
   "metadata": {
    "colab": {
     "base_uri": "https://localhost:8080/"
    },
    "executionInfo": {
     "elapsed": 28,
     "status": "ok",
     "timestamp": 1666412463260,
     "user": {
      "displayName": "Reekdev Ray",
      "userId": "06160052425232836642"
     },
     "user_tz": -330
    },
    "id": "h1MWZrbs17QD",
    "outputId": "472afbf2-1312-471c-aec9-77379b88f95f"
   },
   "outputs": [
    {
     "data": {
      "text/plain": [
       "(755, 1)"
      ]
     },
     "execution_count": 134,
     "metadata": {},
     "output_type": "execute_result"
    }
   ],
   "source": [
    "y_predicted.shape"
   ]
  },
  {
   "cell_type": "code",
   "execution_count": 135,
   "metadata": {
    "colab": {
     "base_uri": "https://localhost:8080/"
    },
    "executionInfo": {
     "elapsed": 12,
     "status": "ok",
     "timestamp": 1666412464867,
     "user": {
      "displayName": "Reekdev Ray",
      "userId": "06160052425232836642"
     },
     "user_tz": -330
    },
    "id": "3BZ8u_8j19oL",
    "outputId": "36c74c9f-caf0-4a2a-d3b9-cf0ab30eb0ca"
   },
   "outputs": [
    {
     "data": {
      "text/plain": [
       "(755,)"
      ]
     },
     "execution_count": 135,
     "metadata": {},
     "output_type": "execute_result"
    }
   ],
   "source": [
    "y_test.shape"
   ]
  },
  {
   "cell_type": "code",
   "execution_count": 137,
   "metadata": {
    "colab": {
     "base_uri": "https://localhost:8080/"
    },
    "executionInfo": {
     "elapsed": 475,
     "status": "ok",
     "timestamp": 1666412481720,
     "user": {
      "displayName": "Reekdev Ray",
      "userId": "06160052425232836642"
     },
     "user_tz": -330
    },
    "id": "epcKSg2a2DEo",
    "outputId": "9709ab85-dcd3-4807-ef20-dbfb68578724"
   },
   "outputs": [
    {
     "data": {
      "text/plain": [
       "0.020995171480576297"
      ]
     },
     "execution_count": 137,
     "metadata": {},
     "output_type": "execute_result"
    }
   ],
   "source": [
    "scaler.scale_[0]"
   ]
  },
  {
   "cell_type": "code",
   "execution_count": 111,
   "metadata": {
    "executionInfo": {
     "elapsed": 455,
     "status": "ok",
     "timestamp": 1666412104405,
     "user": {
      "displayName": "Reekdev Ray",
      "userId": "06160052425232836642"
     },
     "user_tz": -330
    },
    "id": "ODb_r6U6356w"
   },
   "outputs": [],
   "source": [
    "# reshaping the array into 2D NumPy arrays\n",
    "# y_predicted = y_predicted.reshape(-1, 1)\n",
    "# y_test = y_test.reshape(-1, 1)\n",
    "\n",
    "# print(y_predicted.shape)\n",
    "# print(y_test.shape)"
   ]
  },
  {
   "cell_type": "code",
   "execution_count": 138,
   "metadata": {
    "executionInfo": {
     "elapsed": 5,
     "status": "ok",
     "timestamp": 1666412483495,
     "user": {
      "displayName": "Reekdev Ray",
      "userId": "06160052425232836642"
     },
     "user_tz": -330
    },
    "id": "jU0Io2AT2Jzk"
   },
   "outputs": [],
   "source": [
    "scale_factor = 1 / scaler.scale_[0]\n",
    "\n",
    "y_predicted = y_predicted * scale_factor\n",
    "y_test = y_test * scale_factor"
   ]
  },
  {
   "cell_type": "code",
   "execution_count": 154,
   "metadata": {
    "colab": {
     "base_uri": "https://localhost:8080/",
     "height": 522
    },
    "executionInfo": {
     "elapsed": 964,
     "status": "ok",
     "timestamp": 1666413354076,
     "user": {
      "displayName": "Reekdev Ray",
      "userId": "06160052425232836642"
     },
     "user_tz": -330
    },
    "id": "ooDFCDRU45ht",
    "outputId": "77b86551-f87d-4d26-e5ac-379477793514"
   },
   "outputs": [
    {
     "data": {
      "image/png": "[encoded data removed]",
      "text/plain": [
       "<Figure size 1296x576 with 1 Axes>"
      ]
     },
     "metadata": {
      "needs_background": "light"
     },
     "output_type": "display_data"
    }
   ],
   "source": [
    "plt.figure(figsize = (18, 8))\n",
    "plt.title('prediction graph', fontsize=18)\n",
    "plt.plot(y_test, 'indianred', label='original price')\n",
    "plt.plot(y_predicted, 'forestgreen', label='predicted price')\n",
    "plt.xlabel('time', fontsize=16)\n",
    "plt.ylabel('price', fontsize=16)\n",
    "plt.legend()\n",
    "plt.show()"
   ]
  },
  {
   "cell_type": "markdown",
   "metadata": {
    "id": "i2kMNsd38snA"
   },
   "source": [
    "# Getting the Root Mean Squared Error (RMSE) for accuracy\n",
    "![image.png](data:image/png;base64,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)"
   ]
  },
  {
   "cell_type": "code",
   "execution_count": 150,
   "metadata": {
    "colab": {
     "base_uri": "https://localhost:8080/"
    },
    "executionInfo": {
     "elapsed": 411,
     "status": "ok",
     "timestamp": 1666413028551,
     "user": {
      "displayName": "Reekdev Ray",
      "userId": "06160052425232836642"
     },
     "user_tz": -330
    },
    "id": "aQ83b5yI6ugN",
    "outputId": "b848e18e-5e9e-4ca0-9e10-b1a6a2c94b87"
   },
   "outputs": [
    {
     "data": {
      "text/plain": [
       "0.37672424000620053"
      ]
     },
     "execution_count": 150,
     "metadata": {},
     "output_type": "execute_result"
    }
   ],
   "source": [
    "RMSE = np.sqrt(np.mean(y_predicted - y_test)**2)\n",
    "RMSE"
   ]
  },
  {
   "cell_type": "code",
   "execution_count": null,
   "metadata": {
    "id": "n1OiI5q99NCm"
   },
   "outputs": [],
   "source": []
  }
 ],
 "metadata": {
  "colab": {
   "authorship_tag": "ABX9TyNpE4rGAjS9OR7sohz4ZErW",
   "provenance": []
  },
  "kernelspec": {
   "display_name": "Python 3 (ipykernel)",
   "language": "python",
   "name": "python3"
  },
  "language_info": {
   "codemirror_mode": {
    "name": "ipython",
    "version": 3
   },
   "file_extension": ".py",
   "mimetype": "text/x-python",
   "name": "python",
   "nbconvert_exporter": "python",
   "pygments_lexer": "ipython3",
   "version": "3.10.6"
  }
 },
 "nbformat": 4,
 "nbformat_minor": 1
}
