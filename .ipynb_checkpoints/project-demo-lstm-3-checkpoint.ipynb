{
 "cells": [
  {
   "cell_type": "code",
   "execution_count": 1,
   "id": "b2185849",
   "metadata": {},
   "outputs": [],
   "source": [
    "import yfinance as yf"
   ]
  },
  {
   "cell_type": "code",
   "execution_count": 2,
   "id": "aaafea20",
   "metadata": {},
   "outputs": [],
   "source": [
    "stockTicker = 'GAIL.NS'"
   ]
  },
  {
   "cell_type": "code",
   "execution_count": 3,
   "id": "c6f91bf6",
   "metadata": {},
   "outputs": [
    {
     "name": "stdout",
     "output_type": "stream",
     "text": [
      "[*********************100%***********************]  1 of 1 completed\n"
     ]
    }
   ],
   "source": [
    "data = yf.download(tickers=stockTicker, period='5y', interval='1d')"
   ]
  },
  {
   "cell_type": "code",
   "execution_count": 4,
   "id": "9a3e8171",
   "metadata": {},
   "outputs": [
    {
     "data": {
      "text/plain": [
       "pandas.core.frame.DataFrame"
      ]
     },
     "execution_count": 4,
     "metadata": {},
     "output_type": "execute_result"
    }
   ],
   "source": [
    "type(data)"
   ]
  },
  {
   "cell_type": "code",
   "execution_count": 5,
   "id": "2fda80b7",
   "metadata": {},
   "outputs": [
    {
     "data": {
      "text/html": [
       "<div>\n",
       "<style scoped>\n",
       "    .dataframe tbody tr th:only-of-type {\n",
       "        vertical-align: middle;\n",
       "    }\n",
       "\n",
       "    .dataframe tbody tr th {\n",
       "        vertical-align: top;\n",
       "    }\n",
       "\n",
       "    .dataframe thead th {\n",
       "        text-align: right;\n",
       "    }\n",
       "</style>\n",
       "<table border=\"1\" class=\"dataframe\">\n",
       "  <thead>\n",
       "    <tr style=\"text-align: right;\">\n",
       "      <th></th>\n",
       "      <th>Open</th>\n",
       "      <th>High</th>\n",
       "      <th>Low</th>\n",
       "      <th>Close</th>\n",
       "      <th>Adj Close</th>\n",
       "      <th>Volume</th>\n",
       "    </tr>\n",
       "    <tr>\n",
       "      <th>Date</th>\n",
       "      <th></th>\n",
       "      <th></th>\n",
       "      <th></th>\n",
       "      <th></th>\n",
       "      <th></th>\n",
       "      <th></th>\n",
       "    </tr>\n",
       "  </thead>\n",
       "  <tbody>\n",
       "    <tr>\n",
       "      <th>2017-10-23</th>\n",
       "      <td>108.625031</td>\n",
       "      <td>110.462524</td>\n",
       "      <td>108.250031</td>\n",
       "      <td>108.787529</td>\n",
       "      <td>88.315117</td>\n",
       "      <td>17347475</td>\n",
       "    </tr>\n",
       "    <tr>\n",
       "      <th>2017-10-24</th>\n",
       "      <td>109.775024</td>\n",
       "      <td>111.625031</td>\n",
       "      <td>108.937531</td>\n",
       "      <td>111.062531</td>\n",
       "      <td>90.162003</td>\n",
       "      <td>16941443</td>\n",
       "    </tr>\n",
       "    <tr>\n",
       "      <th>2017-10-25</th>\n",
       "      <td>111.975029</td>\n",
       "      <td>115.325027</td>\n",
       "      <td>111.500031</td>\n",
       "      <td>114.837524</td>\n",
       "      <td>93.226585</td>\n",
       "      <td>17255631</td>\n",
       "    </tr>\n",
       "    <tr>\n",
       "      <th>2017-10-26</th>\n",
       "      <td>115.500031</td>\n",
       "      <td>117.475029</td>\n",
       "      <td>115.000031</td>\n",
       "      <td>116.325027</td>\n",
       "      <td>94.434151</td>\n",
       "      <td>41479181</td>\n",
       "    </tr>\n",
       "    <tr>\n",
       "      <th>2017-10-27</th>\n",
       "      <td>116.750031</td>\n",
       "      <td>118.975029</td>\n",
       "      <td>115.762527</td>\n",
       "      <td>117.775032</td>\n",
       "      <td>95.611282</td>\n",
       "      <td>15015052</td>\n",
       "    </tr>\n",
       "  </tbody>\n",
       "</table>\n",
       "</div>"
      ],
      "text/plain": [
       "                  Open        High         Low       Close  Adj Close  \\\n",
       "Date                                                                    \n",
       "2017-10-23  108.625031  110.462524  108.250031  108.787529  88.315117   \n",
       "2017-10-24  109.775024  111.625031  108.937531  111.062531  90.162003   \n",
       "2017-10-25  111.975029  115.325027  111.500031  114.837524  93.226585   \n",
       "2017-10-26  115.500031  117.475029  115.000031  116.325027  94.434151   \n",
       "2017-10-27  116.750031  118.975029  115.762527  117.775032  95.611282   \n",
       "\n",
       "              Volume  \n",
       "Date                  \n",
       "2017-10-23  17347475  \n",
       "2017-10-24  16941443  \n",
       "2017-10-25  17255631  \n",
       "2017-10-26  41479181  \n",
       "2017-10-27  15015052  "
      ]
     },
     "execution_count": 5,
     "metadata": {},
     "output_type": "execute_result"
    }
   ],
   "source": [
    "data.head()"
   ]
  },
  {
   "cell_type": "code",
   "execution_count": 6,
   "id": "fb214b02",
   "metadata": {},
   "outputs": [
    {
     "data": {
      "text/plain": [
       "1237"
      ]
     },
     "execution_count": 6,
     "metadata": {},
     "output_type": "execute_result"
    }
   ],
   "source": [
    "len(data)"
   ]
  },
  {
   "cell_type": "code",
   "execution_count": 7,
   "id": "c9980d5a",
   "metadata": {},
   "outputs": [],
   "source": [
    "opn = data[['Open']]"
   ]
  },
  {
   "cell_type": "code",
   "execution_count": 8,
   "id": "c0434dbc",
   "metadata": {},
   "outputs": [
    {
     "data": {
      "text/plain": [
       "<AxesSubplot:xlabel='Date'>"
      ]
     },
     "execution_count": 8,
     "metadata": {},
     "output_type": "execute_result"
    },
    {
     "data": {
      "image/png": "[encoded data removed]",
      "text/plain": [
       "<Figure size 432x288 with 1 Axes>"
      ]
     },
     "metadata": {
      "needs_background": "light"
     },
     "output_type": "display_data"
    }
   ],
   "source": [
    "opn.plot()"
   ]
  },
  {
   "cell_type": "code",
   "execution_count": 9,
   "id": "f338d483",
   "metadata": {},
   "outputs": [],
   "source": [
    "import matplotlib.pyplot as plt"
   ]
  },
  {
   "cell_type": "code",
   "execution_count": 10,
   "id": "cda28830",
   "metadata": {},
   "outputs": [],
   "source": [
    "ds = opn.values"
   ]
  },
  {
   "cell_type": "code",
   "execution_count": 11,
   "id": "ea688527",
   "metadata": {},
   "outputs": [
    {
     "data": {
      "text/plain": [
       "array([[108.62503052],\n",
       "       [109.77502441],\n",
       "       [111.97502899],\n",
       "       ...,\n",
       "       [ 85.44999695],\n",
       "       [ 84.59999847],\n",
       "       [ 87.44999695]])"
      ]
     },
     "execution_count": 11,
     "metadata": {},
     "output_type": "execute_result"
    }
   ],
   "source": [
    "ds"
   ]
  },
  {
   "cell_type": "code",
   "execution_count": 12,
   "id": "2da59e79",
   "metadata": {},
   "outputs": [],
   "source": [
    "import numpy as np"
   ]
  },
  {
   "cell_type": "code",
   "execution_count": 13,
   "id": "8d8ebb48",
   "metadata": {},
   "outputs": [],
   "source": [
    "from sklearn.preprocessing import MinMaxScaler"
   ]
  },
  {
   "cell_type": "code",
   "execution_count": 15,
   "id": "c5998e73",
   "metadata": {},
   "outputs": [],
   "source": [
    "normilzer = MinMaxScaler(feature_range=(0, 1))\n",
    "ds_scaled = normilzer.fit_transform(np.array(ds).reshape(-1, 1))"
   ]
  },
  {
   "cell_type": "code",
   "execution_count": 16,
   "id": "ff55d818",
   "metadata": {},
   "outputs": [
    {
     "data": {
      "text/plain": [
       "(1237, 1237)"
      ]
     },
     "execution_count": 16,
     "metadata": {},
     "output_type": "execute_result"
    }
   ],
   "source": [
    "len(ds_scaled), len(ds)"
   ]
  },
  {
   "cell_type": "code",
   "execution_count": 24,
   "id": "8812a07e",
   "metadata": {},
   "outputs": [
    {
     "data": {
      "text/plain": [
       "(1237, 1)"
      ]
     },
     "execution_count": 24,
     "metadata": {},
     "output_type": "execute_result"
    }
   ],
   "source": [
    "ds_scaled.shape"
   ]
  },
  {
   "cell_type": "code",
   "execution_count": 18,
   "id": "addbd560",
   "metadata": {},
   "outputs": [],
   "source": [
    "# defining train and test size\n",
    "train_size = int(len(ds_scaled)*0.70)\n",
    "test_size = len(ds_scaled) - train_size"
   ]
  },
  {
   "cell_type": "code",
   "execution_count": 19,
   "id": "225760f3",
   "metadata": {},
   "outputs": [
    {
     "data": {
      "text/plain": [
       "(865, 372)"
      ]
     },
     "execution_count": 19,
     "metadata": {},
     "output_type": "execute_result"
    }
   ],
   "source": [
    "train_size, test_size"
   ]
  },
  {
   "cell_type": "code",
   "execution_count": 20,
   "id": "52dfa247",
   "metadata": {},
   "outputs": [],
   "source": [
    "ds_train = ds_scaled[0:train_size,:]\n",
    "ds_test = ds_scaled[train_size:len(ds_scaled), :1]"
   ]
  },
  {
   "cell_type": "code",
   "execution_count": 23,
   "id": "59721181",
   "metadata": {},
   "outputs": [
    {
     "data": {
      "text/plain": [
       "(865, 1)"
      ]
     },
     "execution_count": 23,
     "metadata": {},
     "output_type": "execute_result"
    }
   ],
   "source": [
    "ds_train.shape"
   ]
  },
  {
   "cell_type": "code",
   "execution_count": null,
   "id": "e139b34b",
   "metadata": {},
   "outputs": [],
   "source": []
  },
  {
   "cell_type": "code",
   "execution_count": 21,
   "id": "f8aab17c",
   "metadata": {},
   "outputs": [],
   "source": [
    "# creating dataset in time series for LSTM model\n",
    "def create_ds(dataset, step):\n",
    "    x_train, y_train = [], []\n",
    "    for i in range(len(dataset) - step - 1):\n",
    "        a = dataset[i:(i+step), 0]\n",
    "        x_train.append(a)\n",
    "        y_train.append(dataset[i + step, 0])\n",
    "    \n",
    "    return np.array(x_train), np.array(y_train)"
   ]
  },
  {
   "cell_type": "code",
   "execution_count": null,
   "id": "4218eaf2",
   "metadata": {},
   "outputs": [],
   "source": []
  },
  {
   "cell_type": "code",
   "execution_count": 25,
   "id": "8802a51d",
   "metadata": {},
   "outputs": [],
   "source": [
    "# taking 100 days price as one record for training\n",
    "step = 100\n",
    "\n",
    "x_train, y_train = create_ds(ds_train, step)\n",
    "x_test, y_test = create_ds(ds_test, step)"
   ]
  },
  {
   "cell_type": "code",
   "execution_count": 28,
   "id": "a09792ad",
   "metadata": {},
   "outputs": [
    {
     "name": "stdout",
     "output_type": "stream",
     "text": [
      "(764, 100)\n",
      "(764,)\n"
     ]
    }
   ],
   "source": [
    "print(x_train.shape)\n",
    "print(y_train.shape)"
   ]
  },
  {
   "cell_type": "code",
   "execution_count": 29,
   "id": "c8ed8fb6",
   "metadata": {},
   "outputs": [
    {
     "name": "stdout",
     "output_type": "stream",
     "text": [
      "(271, 100)\n",
      "(271,)\n"
     ]
    }
   ],
   "source": [
    "print(x_test.shape)\n",
    "print(y_test.shape)"
   ]
  },
  {
   "cell_type": "code",
   "execution_count": 30,
   "id": "5f969c3b",
   "metadata": {},
   "outputs": [],
   "source": [
    "# reshaping the data to fit into the LSTM model\n",
    "\n",
    "x_train = x_train.reshape(x_train.shape[0], x_train.shape[1], 1)\n",
    "x_test = x_test.reshape(x_test.shape[0], x_test.shape[1], 1)"
   ]
  },
  {
   "cell_type": "code",
   "execution_count": 31,
   "id": "508b4d5b",
   "metadata": {},
   "outputs": [
    {
     "name": "stdout",
     "output_type": "stream",
     "text": [
      "(764, 100, 1)\n",
      "(271, 100, 1)\n"
     ]
    }
   ],
   "source": [
    "print(x_train.shape)\n",
    "print(x_test.shape)"
   ]
  },
  {
   "cell_type": "code",
   "execution_count": null,
   "id": "bcfd227c",
   "metadata": {},
   "outputs": [],
   "source": []
  },
  {
   "cell_type": "code",
   "execution_count": 32,
   "id": "e5dd4ab0",
   "metadata": {},
   "outputs": [
    {
     "name": "stdout",
     "output_type": "stream",
     "text": [
      "Model: \"sequential\"\n",
      "_________________________________________________________________\n",
      " Layer (type)                Output Shape              Param #   \n",
      "=================================================================\n",
      " lstm (LSTM)                 (None, 100, 50)           10400     \n",
      "                                                                 \n",
      " lstm_1 (LSTM)               (None, 100, 50)           20200     \n",
      "                                                                 \n",
      " lstm_2 (LSTM)               (None, 50)                20200     \n",
      "                                                                 \n",
      " dense (Dense)               (None, 1)                 51        \n",
      "                                                                 \n",
      "=================================================================\n",
      "Total params: 50,851\n",
      "Trainable params: 50,851\n",
      "Non-trainable params: 0\n",
      "_________________________________________________________________\n"
     ]
    }
   ],
   "source": [
    "# creating the LSTM model using Keras\n",
    "\n",
    "from keras.models import Sequential\n",
    "from keras.layers import Dense, LSTM\n",
    "\n",
    "model = Sequential()\n",
    "model.add(LSTM(units=50, return_sequences=True, input_shape=(x_train.shape[1], 1)))\n",
    "model.add(LSTM(units=50, return_sequences=True))\n",
    "model.add(LSTM(units=50))\n",
    "model.add(Dense(units=1, activation='linear'))\n",
    "model.summary()"
   ]
  },
  {
   "cell_type": "code",
   "execution_count": 33,
   "id": "abe240d5",
   "metadata": {},
   "outputs": [
    {
     "name": "stdout",
     "output_type": "stream",
     "text": [
      "Epoch 1/100\n",
      "12/12 [==============================] - 8s 280ms/step - loss: 0.0912 - val_loss: 0.0077\n",
      "Epoch 2/100\n",
      "12/12 [==============================] - 2s 201ms/step - loss: 0.0168 - val_loss: 0.0136\n",
      "Epoch 3/100\n",
      "12/12 [==============================] - 3s 227ms/step - loss: 0.0091 - val_loss: 0.0037\n",
      "Epoch 4/100\n",
      "12/12 [==============================] - 3s 240ms/step - loss: 0.0061 - val_loss: 0.0034\n",
      "Epoch 5/100\n",
      "12/12 [==============================] - 3s 259ms/step - loss: 0.0046 - val_loss: 0.0034\n",
      "Epoch 6/100\n",
      "12/12 [==============================] - 3s 274ms/step - loss: 0.0043 - val_loss: 0.0034\n",
      "Epoch 7/100\n",
      "12/12 [==============================] - 4s 305ms/step - loss: 0.0042 - val_loss: 0.0033\n",
      "Epoch 8/100\n",
      "12/12 [==============================] - 4s 301ms/step - loss: 0.0040 - val_loss: 0.0032\n",
      "Epoch 9/100\n",
      "12/12 [==============================] - 4s 319ms/step - loss: 0.0040 - val_loss: 0.0032\n",
      "Epoch 10/100\n",
      "12/12 [==============================] - 4s 331ms/step - loss: 0.0039 - val_loss: 0.0031\n",
      "Epoch 11/100\n",
      "12/12 [==============================] - 4s 330ms/step - loss: 0.0038 - val_loss: 0.0031\n",
      "Epoch 12/100\n",
      "12/12 [==============================] - 4s 339ms/step - loss: 0.0038 - val_loss: 0.0033\n",
      "Epoch 13/100\n",
      "12/12 [==============================] - 4s 346ms/step - loss: 0.0036 - val_loss: 0.0032\n",
      "Epoch 14/100\n",
      "12/12 [==============================] - 4s 356ms/step - loss: 0.0035 - val_loss: 0.0032\n",
      "Epoch 15/100\n",
      "12/12 [==============================] - 4s 354ms/step - loss: 0.0035 - val_loss: 0.0031\n",
      "Epoch 16/100\n",
      "12/12 [==============================] - 5s 380ms/step - loss: 0.0034 - val_loss: 0.0029\n",
      "Epoch 17/100\n",
      "12/12 [==============================] - 4s 369ms/step - loss: 0.0034 - val_loss: 0.0029\n",
      "Epoch 18/100\n",
      "12/12 [==============================] - 4s 375ms/step - loss: 0.0034 - val_loss: 0.0028\n",
      "Epoch 19/100\n",
      "12/12 [==============================] - 5s 388ms/step - loss: 0.0031 - val_loss: 0.0027\n",
      "Epoch 20/100\n",
      "12/12 [==============================] - 5s 388ms/step - loss: 0.0030 - val_loss: 0.0027\n",
      "Epoch 21/100\n",
      "12/12 [==============================] - 4s 378ms/step - loss: 0.0030 - val_loss: 0.0026\n",
      "Epoch 22/100\n",
      "12/12 [==============================] - 5s 392ms/step - loss: 0.0029 - val_loss: 0.0026\n",
      "Epoch 23/100\n",
      "12/12 [==============================] - 5s 400ms/step - loss: 0.0030 - val_loss: 0.0025\n",
      "Epoch 24/100\n",
      "12/12 [==============================] - 5s 405ms/step - loss: 0.0029 - val_loss: 0.0026\n",
      "Epoch 25/100\n",
      "12/12 [==============================] - 5s 407ms/step - loss: 0.0030 - val_loss: 0.0025\n",
      "Epoch 26/100\n",
      "12/12 [==============================] - 5s 410ms/step - loss: 0.0031 - val_loss: 0.0025\n",
      "Epoch 27/100\n",
      "12/12 [==============================] - 5s 413ms/step - loss: 0.0031 - val_loss: 0.0025\n",
      "Epoch 28/100\n",
      "12/12 [==============================] - 5s 408ms/step - loss: 0.0027 - val_loss: 0.0024\n",
      "Epoch 29/100\n",
      "12/12 [==============================] - 5s 406ms/step - loss: 0.0027 - val_loss: 0.0027\n",
      "Epoch 30/100\n",
      "12/12 [==============================] - 5s 412ms/step - loss: 0.0027 - val_loss: 0.0023\n",
      "Epoch 31/100\n",
      "12/12 [==============================] - 5s 448ms/step - loss: 0.0026 - val_loss: 0.0023\n",
      "Epoch 32/100\n",
      "12/12 [==============================] - 6s 472ms/step - loss: 0.0026 - val_loss: 0.0026\n",
      "Epoch 33/100\n",
      "12/12 [==============================] - 5s 418ms/step - loss: 0.0026 - val_loss: 0.0028\n",
      "Epoch 34/100\n",
      "12/12 [==============================] - 5s 427ms/step - loss: 0.0027 - val_loss: 0.0022\n",
      "Epoch 35/100\n",
      "12/12 [==============================] - 5s 436ms/step - loss: 0.0024 - val_loss: 0.0022\n",
      "Epoch 36/100\n",
      "12/12 [==============================] - 5s 439ms/step - loss: 0.0024 - val_loss: 0.0022\n",
      "Epoch 37/100\n",
      "12/12 [==============================] - 5s 457ms/step - loss: 0.0025 - val_loss: 0.0022\n",
      "Epoch 38/100\n",
      "12/12 [==============================] - 5s 445ms/step - loss: 0.0027 - val_loss: 0.0029\n",
      "Epoch 39/100\n",
      "12/12 [==============================] - 5s 436ms/step - loss: 0.0026 - val_loss: 0.0020\n",
      "Epoch 40/100\n",
      "12/12 [==============================] - 5s 436ms/step - loss: 0.0024 - val_loss: 0.0021\n",
      "Epoch 41/100\n",
      "12/12 [==============================] - 5s 448ms/step - loss: 0.0023 - val_loss: 0.0020\n",
      "Epoch 42/100\n",
      "12/12 [==============================] - 5s 436ms/step - loss: 0.0022 - val_loss: 0.0019\n",
      "Epoch 43/100\n",
      "12/12 [==============================] - 5s 430ms/step - loss: 0.0021 - val_loss: 0.0018\n",
      "Epoch 44/100\n",
      "12/12 [==============================] - 5s 438ms/step - loss: 0.0021 - val_loss: 0.0022\n",
      "Epoch 45/100\n",
      "12/12 [==============================] - 5s 451ms/step - loss: 0.0022 - val_loss: 0.0018\n",
      "Epoch 46/100\n",
      "12/12 [==============================] - 5s 441ms/step - loss: 0.0020 - val_loss: 0.0018\n",
      "Epoch 47/100\n",
      "12/12 [==============================] - 5s 441ms/step - loss: 0.0022 - val_loss: 0.0023\n",
      "Epoch 48/100\n",
      "12/12 [==============================] - 5s 460ms/step - loss: 0.0023 - val_loss: 0.0017\n",
      "Epoch 49/100\n",
      "12/12 [==============================] - 5s 445ms/step - loss: 0.0021 - val_loss: 0.0017\n",
      "Epoch 50/100\n",
      "12/12 [==============================] - 6s 465ms/step - loss: 0.0019 - val_loss: 0.0016\n",
      "Epoch 51/100\n",
      "12/12 [==============================] - 5s 453ms/step - loss: 0.0021 - val_loss: 0.0017\n",
      "Epoch 52/100\n",
      "12/12 [==============================] - 5s 448ms/step - loss: 0.0019 - val_loss: 0.0016\n",
      "Epoch 53/100\n",
      "12/12 [==============================] - 5s 459ms/step - loss: 0.0019 - val_loss: 0.0019\n",
      "Epoch 54/100\n",
      "12/12 [==============================] - 5s 460ms/step - loss: 0.0020 - val_loss: 0.0015\n",
      "Epoch 55/100\n",
      "12/12 [==============================] - 6s 464ms/step - loss: 0.0020 - val_loss: 0.0015\n",
      "Epoch 56/100\n",
      "12/12 [==============================] - 6s 509ms/step - loss: 0.0018 - val_loss: 0.0015\n",
      "Epoch 57/100\n",
      "12/12 [==============================] - 6s 473ms/step - loss: 0.0017 - val_loss: 0.0015\n",
      "Epoch 58/100\n",
      "12/12 [==============================] - 6s 468ms/step - loss: 0.0018 - val_loss: 0.0022\n",
      "Epoch 59/100\n",
      "12/12 [==============================] - 6s 465ms/step - loss: 0.0019 - val_loss: 0.0016\n",
      "Epoch 60/100\n",
      "12/12 [==============================] - 5s 461ms/step - loss: 0.0017 - val_loss: 0.0014\n",
      "Epoch 61/100\n",
      "12/12 [==============================] - 5s 460ms/step - loss: 0.0016 - val_loss: 0.0014\n",
      "Epoch 62/100\n",
      "12/12 [==============================] - 6s 471ms/step - loss: 0.0016 - val_loss: 0.0013\n",
      "Epoch 63/100\n",
      "12/12 [==============================] - 5s 456ms/step - loss: 0.0016 - val_loss: 0.0013\n",
      "Epoch 64/100\n",
      "12/12 [==============================] - 6s 498ms/step - loss: 0.0016 - val_loss: 0.0013\n",
      "Epoch 65/100\n",
      "12/12 [==============================] - 6s 507ms/step - loss: 0.0015 - val_loss: 0.0013\n",
      "Epoch 66/100\n",
      "12/12 [==============================] - 6s 483ms/step - loss: 0.0016 - val_loss: 0.0013\n",
      "Epoch 67/100\n",
      "12/12 [==============================] - 6s 466ms/step - loss: 0.0016 - val_loss: 0.0012\n",
      "Epoch 68/100\n",
      "12/12 [==============================] - 6s 474ms/step - loss: 0.0016 - val_loss: 0.0012\n",
      "Epoch 69/100\n",
      "12/12 [==============================] - 6s 497ms/step - loss: 0.0018 - val_loss: 0.0013\n",
      "Epoch 70/100\n",
      "12/12 [==============================] - 6s 494ms/step - loss: 0.0018 - val_loss: 0.0012\n",
      "Epoch 71/100\n",
      "12/12 [==============================] - 6s 476ms/step - loss: 0.0016 - val_loss: 0.0012\n",
      "Epoch 72/100\n",
      "12/12 [==============================] - 6s 508ms/step - loss: 0.0015 - val_loss: 0.0012\n",
      "Epoch 73/100\n",
      "12/12 [==============================] - 6s 492ms/step - loss: 0.0015 - val_loss: 0.0011\n",
      "Epoch 74/100\n",
      "12/12 [==============================] - 6s 518ms/step - loss: 0.0015 - val_loss: 0.0012\n",
      "Epoch 75/100\n",
      "12/12 [==============================] - 6s 515ms/step - loss: 0.0015 - val_loss: 0.0015\n",
      "Epoch 76/100\n",
      "12/12 [==============================] - 6s 507ms/step - loss: 0.0016 - val_loss: 0.0011\n",
      "Epoch 77/100\n",
      "12/12 [==============================] - 6s 472ms/step - loss: 0.0014 - val_loss: 0.0012\n",
      "Epoch 78/100\n",
      "12/12 [==============================] - 6s 497ms/step - loss: 0.0014 - val_loss: 0.0012\n",
      "Epoch 79/100\n",
      "12/12 [==============================] - 6s 486ms/step - loss: 0.0014 - val_loss: 0.0013\n",
      "Epoch 80/100\n",
      "12/12 [==============================] - 6s 466ms/step - loss: 0.0015 - val_loss: 0.0014\n",
      "Epoch 81/100\n"
     ]
    },
    {
     "name": "stdout",
     "output_type": "stream",
     "text": [
      "12/12 [==============================] - 6s 500ms/step - loss: 0.0016 - val_loss: 0.0011\n",
      "Epoch 82/100\n",
      "12/12 [==============================] - 6s 481ms/step - loss: 0.0015 - val_loss: 0.0016\n",
      "Epoch 83/100\n",
      "12/12 [==============================] - 6s 485ms/step - loss: 0.0015 - val_loss: 0.0013\n",
      "Epoch 84/100\n",
      "12/12 [==============================] - 5s 465ms/step - loss: 0.0014 - val_loss: 0.0011\n",
      "Epoch 85/100\n",
      "12/12 [==============================] - 6s 474ms/step - loss: 0.0015 - val_loss: 0.0013\n",
      "Epoch 86/100\n",
      "12/12 [==============================] - 6s 496ms/step - loss: 0.0014 - val_loss: 9.6832e-04\n",
      "Epoch 87/100\n",
      "12/12 [==============================] - 5s 450ms/step - loss: 0.0013 - val_loss: 0.0010\n",
      "Epoch 88/100\n",
      "12/12 [==============================] - 5s 442ms/step - loss: 0.0012 - val_loss: 9.6547e-04\n",
      "Epoch 89/100\n",
      "12/12 [==============================] - 5s 433ms/step - loss: 0.0012 - val_loss: 0.0012\n",
      "Epoch 90/100\n",
      "12/12 [==============================] - 5s 443ms/step - loss: 0.0013 - val_loss: 0.0012\n",
      "Epoch 91/100\n",
      "12/12 [==============================] - 5s 457ms/step - loss: 0.0013 - val_loss: 0.0011\n",
      "Epoch 92/100\n",
      "12/12 [==============================] - 5s 456ms/step - loss: 0.0012 - val_loss: 0.0010\n",
      "Epoch 93/100\n",
      "12/12 [==============================] - 5s 452ms/step - loss: 0.0012 - val_loss: 9.1120e-04\n",
      "Epoch 94/100\n",
      "12/12 [==============================] - 7s 603ms/step - loss: 0.0011 - val_loss: 9.2281e-04\n",
      "Epoch 95/100\n",
      "12/12 [==============================] - 7s 616ms/step - loss: 0.0011 - val_loss: 0.0011\n",
      "Epoch 96/100\n",
      "12/12 [==============================] - 7s 580ms/step - loss: 0.0013 - val_loss: 0.0013\n",
      "Epoch 97/100\n",
      "12/12 [==============================] - 6s 505ms/step - loss: 0.0012 - val_loss: 0.0011\n",
      "Epoch 98/100\n",
      "12/12 [==============================] - 6s 483ms/step - loss: 0.0012 - val_loss: 8.2884e-04\n",
      "Epoch 99/100\n",
      "12/12 [==============================] - 6s 466ms/step - loss: 0.0011 - val_loss: 8.6342e-04\n",
      "Epoch 100/100\n",
      "12/12 [==============================] - 5s 455ms/step - loss: 0.0011 - val_loss: 8.3846e-04\n"
     ]
    },
    {
     "data": {
      "text/plain": [
       "<keras.callbacks.History at 0x2063452aad0>"
      ]
     },
     "execution_count": 33,
     "metadata": {},
     "output_type": "execute_result"
    }
   ],
   "source": [
    "# training the model with adam optimizer and mean squared error loss function\n",
    "\n",
    "model.compile(loss='mean_squared_error', optimizer='adam')\n",
    "model.fit(x_train, y_train, validation_data=(x_test, y_test), epochs=100, batch_size=64)"
   ]
  },
  {
   "cell_type": "code",
   "execution_count": 34,
   "id": "dda1fb7b",
   "metadata": {},
   "outputs": [
    {
     "data": {
      "text/plain": [
       "[<matplotlib.lines.Line2D at 0x20643266b90>]"
      ]
     },
     "execution_count": 34,
     "metadata": {},
     "output_type": "execute_result"
    },
    {
     "data": {
      "image/png": "[encoded data removed]",
      "text/plain": [
       "<Figure size 432x288 with 1 Axes>"
      ]
     },
     "metadata": {
      "needs_background": "light"
     },
     "output_type": "display_data"
    }
   ],
   "source": [
    "# plotting the loss, it shows that the loss has decreased significantly and model trained well\n",
    "\n",
    "loss = model.history.history['loss']\n",
    "plt.plot(loss)"
   ]
  },
  {
   "cell_type": "code",
   "execution_count": 35,
   "id": "f56776a9",
   "metadata": {},
   "outputs": [
    {
     "name": "stdout",
     "output_type": "stream",
     "text": [
      "24/24 [==============================] - 2s 36ms/step\n",
      "9/9 [==============================] - 0s 36ms/step\n"
     ]
    }
   ],
   "source": [
    "# predicting on train and test data\n",
    "\n",
    "train_predict = model.predict(x_train)\n",
    "test_predict = model.predict(x_test)"
   ]
  },
  {
   "cell_type": "code",
   "execution_count": 36,
   "id": "e999c08b",
   "metadata": {},
   "outputs": [],
   "source": [
    "# inverse transform to get actual value\n",
    "\n",
    "train_predict = normilzer.inverse_transform(train_predict)\n",
    "test_predict = normilzer.inverse_transform(test_predict)"
   ]
  },
  {
   "cell_type": "code",
   "execution_count": null,
   "id": "0748f485",
   "metadata": {},
   "outputs": [],
   "source": []
  },
  {
   "cell_type": "code",
   "execution_count": 37,
   "id": "4432a254",
   "metadata": {},
   "outputs": [
    {
     "data": {
      "text/plain": [
       "[<matplotlib.lines.Line2D at 0x20642884e50>]"
      ]
     },
     "execution_count": 37,
     "metadata": {},
     "output_type": "execute_result"
    },
    {
     "data": {
      "image/png": "[encoded data removed]",
      "text/plain": [
       "<Figure size 432x288 with 1 Axes>"
      ]
     },
     "metadata": {
      "needs_background": "light"
     },
     "output_type": "display_data"
    }
   ],
   "source": [
    "# comparing using visuals\n",
    "\n",
    "plt.plot(normilzer.inverse_transform(ds_scaled))\n",
    "plt.plot(train_predict)\n",
    "plt.plot(test_predict)"
   ]
  },
  {
   "cell_type": "code",
   "execution_count": 38,
   "id": "4b25869e",
   "metadata": {},
   "outputs": [
    {
     "data": {
      "text/plain": [
       "numpy.ndarray"
      ]
     },
     "execution_count": 38,
     "metadata": {},
     "output_type": "execute_result"
    }
   ],
   "source": [
    "type(train_predict)"
   ]
  },
  {
   "cell_type": "code",
   "execution_count": 39,
   "id": "7f7ecc05",
   "metadata": {},
   "outputs": [],
   "source": [
    "test = np.vstack((train_predict, test_predict))"
   ]
  },
  {
   "cell_type": "code",
   "execution_count": 40,
   "id": "e97d91d4",
   "metadata": {},
   "outputs": [
    {
     "data": {
      "text/plain": [
       "[<matplotlib.lines.Line2D at 0x20643ab1090>]"
      ]
     },
     "execution_count": 40,
     "metadata": {},
     "output_type": "execute_result"
    },
    {
     "data": {
      "image/png": "[encoded data removed]",
      "text/plain": [
       "<Figure size 432x288 with 1 Axes>"
      ]
     },
     "metadata": {
      "needs_background": "light"
     },
     "output_type": "display_data"
    }
   ],
   "source": [
    "# combining the predicted data to create uniform data visualization\n",
    "\n",
    "plt.plot(normilzer.inverse_transform(ds_scaled))\n",
    "plt.plot(test)"
   ]
  },
  {
   "cell_type": "code",
   "execution_count": 41,
   "id": "d3339496",
   "metadata": {},
   "outputs": [
    {
     "data": {
      "text/plain": [
       "372"
      ]
     },
     "execution_count": 41,
     "metadata": {},
     "output_type": "execute_result"
    }
   ],
   "source": [
    "len(ds_test)"
   ]
  },
  {
   "cell_type": "code",
   "execution_count": 47,
   "id": "ee1bba35",
   "metadata": {},
   "outputs": [],
   "source": [
    "# getting the last 100 days records\n",
    "\n",
    "fut_inp = ds_test[272:]"
   ]
  },
  {
   "cell_type": "code",
   "execution_count": 48,
   "id": "db73ade7",
   "metadata": {},
   "outputs": [],
   "source": [
    "fut_inp = fut_inp.reshape(1, -1)"
   ]
  },
  {
   "cell_type": "code",
   "execution_count": 49,
   "id": "d0db1ffe",
   "metadata": {},
   "outputs": [],
   "source": [
    "tmp_inp = list(fut_inp)"
   ]
  },
  {
   "cell_type": "code",
   "execution_count": 50,
   "id": "dc159591",
   "metadata": {},
   "outputs": [
    {
     "data": {
      "text/plain": [
       "(1, 100)"
      ]
     },
     "execution_count": 50,
     "metadata": {},
     "output_type": "execute_result"
    }
   ],
   "source": [
    "fut_inp.shape"
   ]
  },
  {
   "cell_type": "code",
   "execution_count": 52,
   "id": "099ffa69",
   "metadata": {},
   "outputs": [],
   "source": [
    "# creating list of the last 100 data\n",
    "\n",
    "tmp_inp = tmp_inp[0].tolist()"
   ]
  },
  {
   "cell_type": "code",
   "execution_count": null,
   "id": "288e2142",
   "metadata": {},
   "outputs": [],
   "source": []
  },
  {
   "cell_type": "code",
   "execution_count": null,
   "id": "5ff9ec26",
   "metadata": {},
   "outputs": [],
   "source": []
  },
  {
   "cell_type": "code",
   "execution_count": null,
   "id": "da5a2e94",
   "metadata": {},
   "outputs": [],
   "source": [
    "# predicting next 30 days price using the current data\n",
    "# it will predict in a sliding window manner with stride 1\n",
    "\n",
    "lst_output = []\n",
    "n_steps = 100\n",
    "i = 0\n",
    "\n",
    "while"
   ]
  }
 ],
 "metadata": {
  "kernelspec": {
   "display_name": "Python 3 (ipykernel)",
   "language": "python",
   "name": "python3"
  },
  "language_info": {
   "codemirror_mode": {
    "name": "ipython",
    "version": 3
   },
   "file_extension": ".py",
   "mimetype": "text/x-python",
   "name": "python",
   "nbconvert_exporter": "python",
   "pygments_lexer": "ipython3",
   "version": "3.10.6"
  }
 },
 "nbformat": 4,
 "nbformat_minor": 5
}
