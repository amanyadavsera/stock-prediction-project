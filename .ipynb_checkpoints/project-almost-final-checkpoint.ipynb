{
 "cells": [
  {
   "cell_type": "markdown",
   "id": "11fec53f",
   "metadata": {},
   "source": [
    "# importing the necessary libraries"
   ]
  },
  {
   "cell_type": "code",
   "execution_count": null,
   "id": "b1125991",
   "metadata": {},
   "outputs": [],
   "source": [
    "import numpy as np\n",
    "import pandas as pd\n",
    "import matplotlib.pyplot as plt\n",
    "import yfinance as yf\n",
    "from sklearn.preprocessing import MinMaxScaler\n",
    "from keras.models import Sequential\n",
    "from keras.layers import Dense\n",
    "from keras.layers import LSTM"
   ]
  },
  {
   "cell_type": "code",
   "execution_count": null,
   "id": "ecbfe78a",
   "metadata": {},
   "outputs": [],
   "source": []
  },
  {
   "cell_type": "markdown",
   "id": "fc2bbdd3",
   "metadata": {},
   "source": [
    "# downloading the stock data using yfinance open-source library"
   ]
  },
  {
   "cell_type": "code",
   "execution_count": null,
   "id": "212247d9",
   "metadata": {},
   "outputs": [],
   "source": [
    "stockTicker = input(\"enter the stock ticker: \").upper()\n",
    "rawStockData = yf.download(stockTicker, '1995-01-01', '2022-10-21')\n",
    "\n",
    "rawStockData.head()"
   ]
  },
  {
   "cell_type": "code",
   "execution_count": null,
   "id": "a3a45a86",
   "metadata": {},
   "outputs": [],
   "source": []
  }
 ],
 "metadata": {
  "kernelspec": {
   "display_name": "Python 3 (ipykernel)",
   "language": "python",
   "name": "python3"
  },
  "language_info": {
   "codemirror_mode": {
    "name": "ipython",
    "version": 3
   },
   "file_extension": ".py",
   "mimetype": "text/x-python",
   "name": "python",
   "nbconvert_exporter": "python",
   "pygments_lexer": "ipython3",
   "version": "3.10.6"
  }
 },
 "nbformat": 4,
 "nbformat_minor": 5
}
