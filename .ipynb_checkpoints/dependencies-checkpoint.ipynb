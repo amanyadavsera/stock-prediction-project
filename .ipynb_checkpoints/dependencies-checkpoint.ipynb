{
 "cells": [
  {
   "cell_type": "code",
   "execution_count": 1,
   "id": "d33fcbd5",
   "metadata": {},
   "outputs": [],
   "source": [
    "import subprocess\n",
    "import sys"
   ]
  },
  {
   "cell_type": "code",
   "execution_count": 2,
   "id": "c43f45d3",
   "metadata": {},
   "outputs": [],
   "source": [
    "# # importing NumPy\n",
    "# try:\n",
    "#     import numpy as np\n",
    "# except ModuleNotFoundError:\n",
    "#     print('NumPy is currently not installed on this system.')\n",
    "#     inp = input('Do you wish to install now (y/n) ? ').upper().strip()\n",
    "#     if inp == 'Y':\n",
    "#         !{sys.executable} -m pip install numpy\n",
    "#         import numpy as np\n",
    "#         print(f'NumPy {np.__version__} is installed now!')\n",
    "#     else: print('s')\n",
    "\n",
    "# if ()"
   ]
  },
  {
   "cell_type": "code",
   "execution_count": 3,
   "id": "138de53d",
   "metadata": {},
   "outputs": [],
   "source": [
    "def install(package):\n",
    "    subprocess.check_call([sys.executable, \"-m\", \"pip\", \"install\", package, \"--upgrade\", \"--user\"])"
   ]
  },
  {
   "cell_type": "code",
   "execution_count": 4,
   "id": "f3c72ea4",
   "metadata": {},
   "outputs": [],
   "source": [
    "import pkg_resources as pkgrsc\n",
    "installedPackages = pkgrsc.working_set\n",
    "#installedPackagesList = sorted([\"%s\" % (i.key) for i in installedPackages])\n",
    "\n",
    "installedPackagesList = {i.key : i.version for i in installedPackages}"
   ]
  },
  {
   "cell_type": "code",
   "execution_count": 5,
   "id": "6ad28bba",
   "metadata": {},
   "outputs": [
    {
     "name": "stdout",
     "output_type": "stream",
     "text": [
      "you already have NumPy version 1.23.4 installed.\n",
      "do you wish to upgrade (y/n) ?y\n"
     ]
    }
   ],
   "source": [
    "if 'numpy' not in installedPackagesList:\n",
    "    print('NumPy is currently not installed on this system.')\n",
    "    inp = input('Do you wish to install now (y/n) ? ').upper().strip()\n",
    "    if inp == 'Y':\n",
    "        subprocess.check_call([sys.executable, \"-m\", \"pip\", \"install\", \"numpy\", \"--upgrade\", \"--user\"])\n",
    "        import numpy as np\n",
    "        print(f'NumPy {np.__version__} is installed now!')\n",
    "    else: print('you chose not to install NumPy.')\n",
    "\n",
    "else:\n",
    "    print(f\"you already have NumPy version {installedPackagesList['numpy']} installed.\")\n",
    "    inp = input('do you wish to upgrade (y/n) ? ').upper().strip()\n",
    "    if inp == 'Y':\n",
    "        install('numpy')\n",
    "    elif inp == 'N': print('you chose not to upgrade NumPy.')\n",
    "    else: print('invalid input.')"
   ]
  }
 ],
 "metadata": {
  "kernelspec": {
   "display_name": "Python 3 (ipykernel)",
   "language": "python",
   "name": "python3"
  },
  "language_info": {
   "codemirror_mode": {
    "name": "ipython",
    "version": 3
   },
   "file_extension": ".py",
   "mimetype": "text/x-python",
   "name": "python",
   "nbconvert_exporter": "python",
   "pygments_lexer": "ipython3",
   "version": "3.10.6"
  }
 },
 "nbformat": 4,
 "nbformat_minor": 5
}
